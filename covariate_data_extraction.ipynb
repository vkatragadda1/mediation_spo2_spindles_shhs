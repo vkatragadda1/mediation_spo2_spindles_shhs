{
 "cells": [
  {
   "cell_type": "markdown",
   "id": "8399923e-acfd-4cfe-b568-4a3c8aecd0cf",
   "metadata": {},
   "source": [
    "# Covariates\n",
    "This code extracts all covariate data from FHS/ARIC follow up files and places into mastersheet. "
   ]
  },
  {
   "cell_type": "code",
   "execution_count": 1,
   "id": "af2b77c2-782e-4743-a2db-0a4ed1700d89",
   "metadata": {},
   "outputs": [],
   "source": [
    "# Load packages \n",
    "\n",
    "import numpy as np\n",
    "import pandas as pd\n",
    "import openpyxl\n",
    "from openpyxl import load_workbook\n",
    "import matplotlib.pyplot as plt"
   ]
  },
  {
   "cell_type": "code",
   "execution_count": 2,
   "id": "d9b40ccb-daa4-40b0-a2ea-6ead87649cf9",
   "metadata": {},
   "outputs": [],
   "source": [
    "# Load mastersheet for PIDs with exposure/mediator/outcome data\n",
    "filepath = \"mastersheet.xlsx\"\n",
    "spo2_df = pd.read_excel(filepath, sheet_name=\"SPO2Final\")\n",
    "eeg_df = pd.read_excel(filepath, sheet_name=\"EEGFinal\")\n",
    "dementia_fhs_df = pd.read_excel(filepath, sheet_name=\"DementiaFHS\")\n",
    "dementia_aric_df = pd.read_excel(filepath, sheet_name=\"DementiaARIC\")"
   ]
  },
  {
   "cell_type": "markdown",
   "id": "7de68f3f-1cfa-43d3-a37e-1022358fa6b3",
   "metadata": {},
   "source": [
    "### Tier 1 Covariates"
   ]
  },
  {
   "cell_type": "code",
   "execution_count": 3,
   "id": "ca77c893-e308-458c-9852-e243ea328acf",
   "metadata": {},
   "outputs": [],
   "source": [
    "# Pull in the basic covariates spreadsheet, shhs-harmonized-dataset-0.21.0\n",
    "basic_covariates = pd.read_csv(\"datasets_FHS_ARIC_CHS_SHHS\\\\shhs-harmonized-dataset-0.21.0.csv\")"
   ]
  },
  {
   "cell_type": "code",
   "execution_count": 4,
   "id": "1eed43c5-caa5-44d1-8585-3db2c4710215",
   "metadata": {},
   "outputs": [
    {
     "name": "stdout",
     "output_type": "stream",
     "text": [
      "# participants with X, M, outcome data: 2439\n"
     ]
    }
   ],
   "source": [
    "# Standardize PID columns \n",
    "dementia_fhs_df[\"PID\"] = dementia_fhs_df[\"PID\"].astype(str).str.strip()\n",
    "dementia_aric_df[\"PID\"] = dementia_aric_df[\"PID\"].astype(str).str.strip()\n",
    "spo2_df[\"PID\"] = spo2_df[\"PID\"].astype(str).str.strip()\n",
    "eeg_df[\"PID\"] = eeg_df[\"PID\"].astype(str).str.strip()\n",
    "\n",
    "pids_spo2 = set(spo2_df['PID'])\n",
    "pids_eeg = set(eeg_df['PID'])\n",
    "pids_dementia = set(dementia_fhs_df['PID']).union(set(dementia_aric_df['PID']))\n",
    "\n",
    "# Create pids_final for participants we have all exposure/mediator/outcome data for\n",
    "pids_final = pids_spo2 & pids_eeg & pids_dementia\n",
    "print(f\"# participants with X, M, outcome data: {len(pids_final)}\")"
   ]
  },
  {
   "cell_type": "code",
   "execution_count": 5,
   "id": "e352e15d-a3f4-48b4-8e85-c502101735cb",
   "metadata": {},
   "outputs": [
    {
     "name": "stdout",
     "output_type": "stream",
     "text": [
      "Index(['nsrrid', 'PID', 'visitnumber', 'nsrr_age', 'nsrr_age_gt89', 'nsrr_sex',\n",
      "       'nsrr_race', 'nsrr_ethnicity', 'nsrr_bmi', 'nsrr_bp_systolic',\n",
      "       'nsrr_bp_diastolic', 'nsrr_current_smoker', 'nsrr_ever_smoker',\n",
      "       'nsrr_ahi_hp3u', 'nsrr_ahi_hp3r_aasm15', 'nsrr_ahi_hp4u_aasm15',\n",
      "       'nsrr_ahi_hp4r', 'nsrr_ttldursp_f1', 'nsrr_phrnumar_f1',\n",
      "       'nsrr_flag_spsw', 'nsrr_ttleffsp_f1', 'nsrr_ttllatsp_f1',\n",
      "       'nsrr_ttlprdsp_s1sr', 'nsrr_ttldursp_s1sr', 'nsrr_ttldurws_f1',\n",
      "       'nsrr_pctdursp_s1', 'nsrr_pctdursp_s2', 'nsrr_pctdursp_s3',\n",
      "       'nsrr_pctdursp_sr', 'nsrr_ttlprdbd_f1'],\n",
      "      dtype='object')\n"
     ]
    }
   ],
   "source": [
    "# Map nsrrid onto PID, since the covariates are stored with nsrrid \n",
    "# spo2_df already has the PID:nsrrid map \n",
    "id_map = spo2_df[['PID', 'nsrrid']]\n",
    "\n",
    "basic_covariates = basic_covariates.merge(id_map, on='nsrrid', how='left')\n",
    "\n",
    "# Reorder so PID comes immediately after nsrrid\n",
    "cols = basic_covariates.columns.tolist()\n",
    "cols.insert(cols.index('nsrrid') + 1, cols.pop(cols.index('PID')))\n",
    "basic_covariates = basic_covariates[cols]\n",
    "\n",
    "# Print the result\n",
    "print(basic_covariates.columns)"
   ]
  },
  {
   "cell_type": "code",
   "execution_count": 6,
   "id": "52d3f418-df0f-4be7-896e-a4962a45a125",
   "metadata": {},
   "outputs": [
    {
     "name": "stdout",
     "output_type": "stream",
     "text": [
      "Index(['PID', 'nsrr_age', 'nsrr_sex', 'nsrr_race', 'nsrr_bmi'], dtype='object')\n"
     ]
    }
   ],
   "source": [
    "# Copy only SHHS-1 data \n",
    "basic_covariates_v1 = basic_covariates[basic_covariates['visitnumber'] == 1].copy()\n",
    "\n",
    "# Copy only relevant columns \n",
    "tier1_cov = basic_covariates_v1[basic_covariates_v1['PID'].isin(pids_final)][['PID', 'nsrr_age', 'nsrr_sex', 'nsrr_race', 'nsrr_bmi']].copy()\n",
    "\n",
    "print(tier1_cov.columns)"
   ]
  },
  {
   "cell_type": "markdown",
   "id": "da4660d1-aff1-4ddb-9b4c-98e306c90070",
   "metadata": {},
   "source": [
    "### Tier 2 Covariates"
   ]
  },
  {
   "cell_type": "code",
   "execution_count": 7,
   "id": "0cff4945-8ac6-4204-b1b9-bd354c8e200d",
   "metadata": {},
   "outputs": [],
   "source": [
    "# Pull other covariates from the general SHHS dataset \n",
    "all_covariates = pd.read_csv(\"datasets_FHS_ARIC_CHS_SHHS\\\\shhs1-dataset-0.21.0.csv\", low_memory=False)"
   ]
  },
  {
   "cell_type": "code",
   "execution_count": 8,
   "id": "6213ca7c-ac98-4da6-836c-b9a2b9f73823",
   "metadata": {},
   "outputs": [
    {
     "name": "stdout",
     "output_type": "stream",
     "text": [
      "Index(['nsrrid', 'PID', 'pptid', 'ecgdate', 'lvh3_1', 'lvh3_3', 'st4_1_3',\n",
      "       'st5_1_3', 'lvhst', 'mob1',\n",
      "       ...\n",
      "       'eoglqual', 'chinqual', 'oximqual', 'posqual', 'lightoff', 'oximet51',\n",
      "       'monitor_id', 'headbox_id', 'rcrdtime', 'psg_month'],\n",
      "      dtype='object', length=1272)\n"
     ]
    }
   ],
   "source": [
    "# Merge pid with pid:nsrrid map \n",
    "id_map = spo2_df[['PID', 'nsrrid']]\n",
    "all_covariates = all_covariates.merge(id_map, on='nsrrid', how='left')\n",
    "\n",
    "# Reorder so PID comes immediately after nsrrid\n",
    "cols = all_covariates.columns.tolist()\n",
    "\n",
    "# Move PID right after nsrrid\n",
    "cols.insert(cols.index('nsrrid') + 1, cols.pop(cols.index('PID')))\n",
    "all_covariates = all_covariates[cols]\n",
    "\n",
    "print(all_covariates.columns)"
   ]
  },
  {
   "cell_type": "code",
   "execution_count": 9,
   "id": "b35b4aca-8c20-4619-99ef-cc7a82eded07",
   "metadata": {},
   "outputs": [],
   "source": [
    "# Standardize datatype for PID column\n",
    "all_covariates[\"PID\"] = all_covariates[\"PID\"].astype(str).str.strip()"
   ]
  },
  {
   "cell_type": "code",
   "execution_count": 10,
   "id": "59cef372-ba3e-414b-949f-70ed40094d0a",
   "metadata": {},
   "outputs": [
    {
     "name": "stdout",
     "output_type": "stream",
     "text": [
      "Index(['PID', 'educat', 'alcoh', 'evsmok15', 'smknow15', 'cigday15',\n",
      "       'avesmk15'],\n",
      "      dtype='object')\n",
      "Number PIDs: 2439\n"
     ]
    }
   ],
   "source": [
    "# Filter out only the variables we want (Tier 2 covariates) and subset only the final pids  \n",
    "col = ['PID', 'educat', 'alcoh', 'evsmok15', 'smknow15', 'cigday15', 'avesmk15']\n",
    "tier2_covariates = all_covariates[all_covariates['PID'].isin(pids_final)][col].copy()\n",
    "\n",
    "# Apply pd.to_numeric to relevant columns\n",
    "numeric_cols = col[1:]  # Skip 'PID'\n",
    "tier2_covariates[numeric_cols] = tier2_covariates[numeric_cols].apply(pd.to_numeric, errors='coerce')\n",
    "\n",
    "print(tier2_covariates.columns)\n",
    "print(f\"Number PIDs: {len(tier2_covariates)}\")"
   ]
  },
  {
   "cell_type": "markdown",
   "id": "79d6d4e9-3afe-4551-be55-c26c408f7161",
   "metadata": {},
   "source": [
    "### Tier 3 Covariates (Medications)"
   ]
  },
  {
   "cell_type": "code",
   "execution_count": 11,
   "id": "989e89c5-2a6f-4a68-9f2f-4cf872116650",
   "metadata": {},
   "outputs": [],
   "source": [
    "# Repeat process for medications \n",
    "filtered_pids = all_covariates[all_covariates['PID'].isin(pids_final)]\n",
    "\n",
    "# Select columns with Group 1/Group 2 meds and exclusionary meds\n",
    "manual_cols = ['tca1', 'ntca1', 'slpill15', \n",
    "               'htnmed1', 'loop1', 'hctz1', 'hctzk1', 'ccbir1', 'ccbsr1', 'alpha1', 'alphad1', 'beta1', 'betad1', 'ccb1', 'ace1', 'aced1', 'vaso1', 'vasod1', 'pvdl1', 'diuret1', 'lipid1', 'warf1', 'pdei1', 'dig1', 'anar1a1', 'anar1b1', 'anar1c1', 'anar31', 'asa1','ntg1',\n",
    "               'ohga1', 'insuln1', 'ostrd1', 'sympth1', 'istrd1', 'benzod1', \n",
    "               'estrgn1', 'progst1', 'premar1', 'nsaid1', 'basq1', 'niac1', 'thry1']\n",
    "\n",
    "# Combine with PID \n",
    "final_cols = ['PID'] + manual_cols \n",
    "\n",
    "meds = filtered_pids[final_cols].copy()"
   ]
  },
  {
   "cell_type": "code",
   "execution_count": 12,
   "id": "341567e5-5527-4ad5-8867-1c3df211c815",
   "metadata": {},
   "outputs": [],
   "source": [
    "# Export med counts to CSV for reference \n",
    "med_counts = {}\n",
    "for col in meds.columns:\n",
    "    if col == \"PID\":\n",
    "        continue\n",
    "    numeric_col = pd.to_numeric(meds[col], errors='coerce')\n",
    "    value_sum = numeric_col.dropna().sum()\n",
    "    med_counts[col] = value_sum\n",
    "\n",
    "# Convert to DataFrame and save as CSV\n",
    "med_counts_df = pd.DataFrame(list(med_counts.items()), columns=[\"Medication\", \"Count\"])\n",
    "#med_counts_df.to_csv(\"medication_counts.csv\", index=False)"
   ]
  },
  {
   "cell_type": "markdown",
   "id": "c4cdc023-81f4-4087-a3ad-b5a2a2a0715a",
   "metadata": {},
   "source": [
    "### Physical Activity (for sensitivity analysis)"
   ]
  },
  {
   "cell_type": "code",
   "execution_count": 13,
   "id": "abac9267-3acd-4a53-8808-99dcffcc7f9c",
   "metadata": {},
   "outputs": [],
   "source": [
    "# Starting with FHS data \n",
    "fhs_phys = \"datasets_FHS_ARIC_CHS_SHHS\\\\dataset_Framingham_Offspring_2023b\\\\Datasets\\\\CSV\\\\act1_5d_v1.csv\"\n",
    "fhs_phys = pd.read_csv(fhs_phys)"
   ]
  },
  {
   "cell_type": "code",
   "execution_count": 14,
   "id": "7957b237-7732-4793-8f4f-ff47da02db0d",
   "metadata": {},
   "outputs": [
    {
     "name": "stdout",
     "output_type": "stream",
     "text": [
      "(604, 320)\n"
     ]
    }
   ],
   "source": [
    "# Filter relevant pids \n",
    "fhs_phys[\"PID\"] = fhs_phys[\"PID\"].astype(str).str.strip()\n",
    "fhs_phys_filtered = fhs_phys[fhs_phys['PID'].isin(pids_final)].copy()\n",
    "print(fhs_phys_filtered.shape)"
   ]
  },
  {
   "cell_type": "code",
   "execution_count": 15,
   "id": "5c6224b5-1469-4913-9add-ca5add7467e3",
   "metadata": {},
   "outputs": [
    {
     "name": "stdout",
     "output_type": "stream",
     "text": [
      "Index(['PID', 'EH_6A_2', 'EH_6A_4', 'EH_6B_2', 'EH_6B_4', 'EH_6C_2', 'EH_6C_4',\n",
      "       'EH_6D_2', 'EH_6D_4', 'EH_6E_2', 'EH_6E_4', 'EH_6F_2', 'EH_6F_4',\n",
      "       'EH_6G_2', 'EH_6G_4', 'EH_6H_2', 'EH_6H_4', 'EH_6I_2', 'EH_6I_4',\n",
      "       'EH_6J_2', 'EH_6J_4', 'EH_6K_2', 'EH_6K_4', 'EH_6L_2', 'EH_6L_4',\n",
      "       'EH_6M_2', 'EH_6M_4', 'EH_6N_2', 'EH_6N_4', 'EH_6O_2', 'EH_6O_4',\n",
      "       'EH_6P_2', 'EH_6P_4', 'EH_6Q_2', 'EH_6Q_4'],\n",
      "      dtype='object')\n",
      "(604, 35)\n"
     ]
    }
   ],
   "source": [
    "# Extract columns of interest with physical activity data \n",
    "fhs_data = list(fhs_phys_filtered.columns[25:92])\n",
    "\n",
    "# Note: FHS dataset separates data for each activity into two columns: _2 columns store hours/week and _4 stores weeks/year \n",
    "# Each activity type is separated by letter (ie. 6A, 6B, 6C) \n",
    "filtered_fhs_cols = [col for col in fhs_data if col.endswith('_2') or col.endswith('_4')]\n",
    "with_pids =['PID']\n",
    "final = with_pids+filtered_fhs_cols\n",
    "\n",
    "# Extracting columns \n",
    "fhs_data_final = fhs_phys_filtered[final].copy()\n",
    "\n",
    "print(fhs_data_final.columns)\n",
    "print(fhs_data_final.shape)"
   ]
  },
  {
   "cell_type": "code",
   "execution_count": 16,
   "id": "5c3def30-899d-414f-9cac-efe31eb85298",
   "metadata": {},
   "outputs": [],
   "source": [
    "# Repeat process for ARIC\n",
    "aric_phys = \"datasets_FHS_ARIC_CHS_SHHS\\\\dataset_ARIC_2024b\\\\Main_Study\\\\v3\\\\CSV\\\\rpac04.csv\"\n",
    "aric_phys = pd.read_csv(aric_phys)"
   ]
  },
  {
   "cell_type": "code",
   "execution_count": 17,
   "id": "872b907a-c1a6-43c7-8c51-15c1caf07bef",
   "metadata": {},
   "outputs": [
    {
     "name": "stdout",
     "output_type": "stream",
     "text": [
      "(1813, 46)\n"
     ]
    }
   ],
   "source": [
    "# Filter relevant pids \n",
    "aric_phys[\"ID_C\"] = aric_phys[\"ID_C\"].astype(str).str.strip()\n",
    "aric_phys_filtered = aric_phys[aric_phys['ID_C'].isin(pids_final)].copy()\n",
    "print(aric_phys_filtered.shape)"
   ]
  },
  {
   "cell_type": "code",
   "execution_count": 18,
   "id": "0e687dc4-b042-4620-9a85-a33341f7315d",
   "metadata": {},
   "outputs": [
    {
     "name": "stdout",
     "output_type": "stream",
     "text": [
      "Index(['ID_C', 'RPAC8', 'RPAC10', 'RPAC11', 'RPAC14', 'RPAC15', 'RPAC18',\n",
      "       'RPAC19', 'RPAC22', 'RPAC23'],\n",
      "      dtype='object')\n"
     ]
    }
   ],
   "source": [
    "# Extract columns of interest with physical activity data \n",
    "aric_cols = ['ID_C','RPAC8', 'RPAC10', 'RPAC11', 'RPAC14', 'RPAC15', 'RPAC18', 'RPAC19', 'RPAC22', 'RPAC23']\n",
    "aric_data = aric_phys_filtered[aric_cols].copy()\n",
    "\n",
    "# Note: one participant was missing data for RPAC8 (binary for exercising), despite having detailed data about sports played and hours/week played \n",
    "# Manually assign cell to Y \n",
    "aric_data.loc[aric_data[\"ID_C\"] == \"C013200\", \"RPAC8\"] = \"Y\"\n",
    "print(aric_data.columns)"
   ]
  },
  {
   "cell_type": "markdown",
   "id": "55ab74aa-2986-4f30-a199-69fe1f92ef77",
   "metadata": {},
   "source": [
    "### Export covariate data to mastersheet"
   ]
  },
  {
   "cell_type": "code",
   "execution_count": 19,
   "id": "5662e71f-1872-410f-87b8-4eb9975583c4",
   "metadata": {},
   "outputs": [
    {
     "name": "stdout",
     "output_type": "stream",
     "text": [
      "Index(['PID', 'nsrr_age', 'nsrr_sex', 'nsrr_race', 'nsrr_bmi', 'educat',\n",
      "       'alcoh', 'evsmok15', 'smknow15', 'cigday15', 'avesmk15'],\n",
      "      dtype='object')\n",
      "2439\n"
     ]
    }
   ],
   "source": [
    "# Merge all covariates together for Tier 1 and Tier 2\n",
    "total_covariates = tier1_cov.merge(tier2_covariates, on='PID', how='left')\n",
    "print(total_covariates.columns)\n",
    "print(len(total_covariates))"
   ]
  },
  {
   "cell_type": "code",
   "execution_count": 20,
   "id": "90061fa6-9816-419d-90b0-35d84c3de5a3",
   "metadata": {},
   "outputs": [],
   "source": [
    "# Add Tier 1/Tier 2 covariates to mastersheet \n",
    "\n",
    "#with pd.ExcelWriter(\"mastersheet.xlsx\", mode=\"a\", engine=\"openpyxl\", if_sheet_exists=\"overlay\") as writer:\n",
    "    #total_covariates.to_excel(writer, sheet_name=\"covariates\", index=False)"
   ]
  },
  {
   "cell_type": "code",
   "execution_count": 21,
   "id": "c39b58c3-e427-4cde-9829-76efb3023577",
   "metadata": {},
   "outputs": [],
   "source": [
    "# Add medications to mastersheet\n",
    "\n",
    "#with pd.ExcelWriter(\"mastersheet.xlsx\", mode=\"a\", engine=\"openpyxl\", if_sheet_exists=\"overlay\") as writer:\n",
    "    #meds.to_excel(writer, sheet_name=\"medications\", index=False)"
   ]
  },
  {
   "cell_type": "code",
   "execution_count": 22,
   "id": "bee171a8-8f72-464d-a58c-4f18c6772bf9",
   "metadata": {},
   "outputs": [],
   "source": [
    "# Add ARIC physical activity to mastersheet \n",
    "\n",
    "#aric_data = aric_data.rename(columns={\"ID_C\": \"PID\"})\n",
    "#with pd.ExcelWriter(\"mastersheet.xlsx\", mode=\"a\", engine=\"openpyxl\", if_sheet_exists=\"overlay\") as writer:\n",
    "    #aric_data.to_excel(writer, sheet_name=\"Aric_phys\", index=False)"
   ]
  },
  {
   "cell_type": "code",
   "execution_count": 23,
   "id": "a445c933-423d-41ee-8f6c-7e0d29b3baea",
   "metadata": {},
   "outputs": [],
   "source": [
    "# Add FHS physical activity to mastersheet \n",
    "\n",
    "#with pd.ExcelWriter(\"mastersheet.xlsx\", mode=\"a\", engine=\"openpyxl\", if_sheet_exists=\"overlay\") as writer:\n",
    "    #fhs_data_final.to_excel(writer, sheet_name=\"FHS_phys\", index=False)"
   ]
  },
  {
   "cell_type": "markdown",
   "id": "f6b089c6-0bcd-4f8d-a9d4-48b648c66311",
   "metadata": {},
   "source": [
    "## Exposure & Mediator Variable Stats"
   ]
  },
  {
   "cell_type": "code",
   "execution_count": 67,
   "id": "bd744381-7fd2-451e-9b95-3b371f4f6826",
   "metadata": {},
   "outputs": [],
   "source": [
    "# create a new df with only what I want (ie variables + pids) \n",
    "# then find the total stats\n",
    "# then use boolean mask to split female/male\n",
    "\n",
    "spo2_variables = spo2_df[spo2_df['PID'].isin(pids_final)][[\"PID\", \"Sex\", \"hb_desat\", \"avg_spo2_no_desat_NREM\"]].copy()\n",
    "eeg_variables = eeg_df[eeg_df['PID'].isin(pids_final)][[\"PID\", \"gender\", \"SP_DENS_all_C\", \"SP_CHIRP_all_C\"]].copy()"
   ]
  },
  {
   "cell_type": "code",
   "execution_count": 68,
   "id": "e146d13b-9fa3-41ba-a6a4-29718c2a272e",
   "metadata": {},
   "outputs": [
    {
     "name": "stdout",
     "output_type": "stream",
     "text": [
      "Hypoxic burden average: 62.88745188891823\n",
      "Hypoxic burden average: 64.71517313673645\n",
      "hypoxic burden stats:\n",
      " count    2439.000000\n",
      "mean       62.887452\n",
      "std        64.715173\n",
      "min         1.000632\n",
      "25%        26.118913\n",
      "50%        45.282743\n",
      "75%        75.445276\n",
      "max       924.123178\n",
      "Name: hb_desat, dtype: float64\n",
      "\n",
      "Baseline spo2 average: 95.17821075319834\n",
      "baseline spo2 std: 1.6094624653156908\n",
      "baseline spo2 stats:\n",
      " count    2439.000000\n",
      "mean       95.178211\n",
      "std         1.609462\n",
      "min        85.092657\n",
      "25%        94.275955\n",
      "50%        95.334951\n",
      "75%        96.287373\n",
      "max        99.726355\n",
      "Name: avg_spo2_no_desat_NREM, dtype: float64\n",
      "\n",
      "Spindle chirp avg: -0.21404688650540357\n",
      "Spindle chirp std: 0.1231522649061177\n",
      "Spindle chirp stats:\n",
      " count    2439.000000\n",
      "mean       -0.214047\n",
      "std         0.123152\n",
      "min        -0.750538\n",
      "25%        -0.291837\n",
      "50%        -0.207398\n",
      "75%        -0.129731\n",
      "max         0.226247\n",
      "Name: SP_CHIRP_all_C, dtype: float64\n",
      "\n",
      "Spindle density avg: 2.6022811195618982\n",
      "Spindle density std: 0.9451010712325524\n",
      "Spindle density stats:\n",
      " count    2439.000000\n",
      "mean        2.602281\n",
      "std         0.945101\n",
      "min         0.041237\n",
      "25%         1.892147\n",
      "50%         2.603223\n",
      "75%         3.287216\n",
      "max         5.916279\n",
      "Name: SP_DENS_all_C, dtype: float64\n"
     ]
    }
   ],
   "source": [
    "# total dataset stats\n",
    "\n",
    "print(\"Hypoxic burden average:\", spo2_variables[\"hb_desat\"].mean())\n",
    "print(\"Hypoxic burden average:\", spo2_variables[\"hb_desat\"].std())\n",
    "print(\"hypoxic burden stats:\\n\", spo2_variables[\"hb_desat\"].describe())\n",
    "\n",
    "\n",
    "print(\"\\nBaseline spo2 average:\", spo2_variables[\"avg_spo2_no_desat_NREM\"].mean())\n",
    "print(\"baseline spo2 std:\", spo2_variables[\"avg_spo2_no_desat_NREM\"].std())\n",
    "print(\"baseline spo2 stats:\\n\", spo2_variables[\"avg_spo2_no_desat_NREM\"].describe())\n",
    "\n",
    "print(\"\\nSpindle chirp avg:\", eeg_variables[\"SP_CHIRP_all_C\"].mean())\n",
    "print(\"Spindle chirp std:\", eeg_variables[\"SP_CHIRP_all_C\"].std())\n",
    "print(\"Spindle chirp stats:\\n\", eeg_variables[\"SP_CHIRP_all_C\"].describe())\n",
    "\n",
    "print(\"\\nSpindle density avg:\", eeg_variables[\"SP_DENS_all_C\"].mean())\n",
    "print(\"Spindle density std:\", eeg_variables[\"SP_DENS_all_C\"].std())\n",
    "print(\"Spindle density stats:\\n\", eeg_variables[\"SP_DENS_all_C\"].describe())"
   ]
  },
  {
   "cell_type": "code",
   "execution_count": 69,
   "id": "061b8dc7-3f0c-4e64-a322-0cb2df760f33",
   "metadata": {},
   "outputs": [
    {
     "name": "stdout",
     "output_type": "stream",
     "text": [
      "count    2269.000000\n",
      "mean       49.924272\n",
      "std        32.722024\n",
      "min         1.000632\n",
      "25%        25.059917\n",
      "50%        42.629041\n",
      "75%        67.844409\n",
      "max       148.636770\n",
      "Name: hb_desat, dtype: float64\n",
      "\n",
      "Number of outliers removed: 170\n"
     ]
    }
   ],
   "source": [
    "## HYPOXIC BURDEN WITHOUT OUTLIERS since the stdev is as big as the mean \n",
    "hb = spo2_variables['hb_desat']\n",
    "\n",
    "Q1 = hb.quantile(0.25)\n",
    "Q3 = hb.quantile(0.75)\n",
    "IQR = Q3 - Q1\n",
    "\n",
    "\n",
    "lower_bound = Q1 - 1.5 * IQR\n",
    "upper_bound = Q3 + 1.5 * IQR\n",
    "\n",
    "\n",
    "hb_no_outliers = hb[(hb >= lower_bound) & (hb <= upper_bound)]\n",
    "\n",
    "print(hb_no_outliers.describe())\n",
    "num_outliers = hb[(hb < lower_bound) | (hb > upper_bound)].count()\n",
    "print(f\"\\nNumber of outliers removed: {num_outliers}\")"
   ]
  },
  {
   "cell_type": "code",
   "execution_count": 70,
   "id": "0b6e94bb-b8fb-4665-9e33-738c582431b3",
   "metadata": {},
   "outputs": [
    {
     "name": "stdout",
     "output_type": "stream",
     "text": [
      "Female: 1243\n",
      "Male: 1196\n"
     ]
    }
   ],
   "source": [
    "## NOWWWW Calculating the stats using the masks\n",
    "# Spo2 first \n",
    "males = spo2_variables[\"Sex\"] == \"Male\"\n",
    "females = spo2_variables[\"Sex\"] == \"Female\"\n",
    "\n",
    "# get counts \n",
    "male_indices = spo2_variables[males].index.tolist()\n",
    "female_indices = spo2_variables[females].index.tolist()\n",
    "\n",
    "print(\"Female:\", len(female_indices))\n",
    "print(\"Male:\", len(male_indices))"
   ]
  },
  {
   "cell_type": "code",
   "execution_count": 71,
   "id": "4e6012c4-5738-471c-8bfe-93498fb3d25b",
   "metadata": {},
   "outputs": [
    {
     "name": "stdout",
     "output_type": "stream",
     "text": [
      "Stats for females\n",
      "\n",
      "Stats for baseline spo2:\n",
      " count    1243.000000\n",
      "mean       95.499074\n",
      "std         1.580399\n",
      "min        85.092657\n",
      "25%        94.626744\n",
      "50%        95.713050\n",
      "75%        96.610374\n",
      "max        99.408378\n",
      "Name: avg_spo2_no_desat_NREM, dtype: float64\n",
      "\n",
      "Stats for hb desat:\n",
      " count    1243.000000\n",
      "mean       50.785141\n",
      "std        51.932634\n",
      "min         1.000632\n",
      "25%        21.057813\n",
      "50%        37.171218\n",
      "75%        61.308489\n",
      "max       580.027117\n",
      "Name: hb_desat, dtype: float64\n"
     ]
    }
   ],
   "source": [
    "# checking counts in females \n",
    "female_avgspo2 = spo2_variables.loc[females,[\"avg_spo2_no_desat_NREM\"]]\n",
    "female_hb = spo2_variables.loc[females,[\"hb_desat\"]]\n",
    "\n",
    "print(\"Stats for females\\n\")\n",
    "print(\"Stats for baseline spo2:\\n\", female_avgspo2[\"avg_spo2_no_desat_NREM\"].describe())\n",
    "\n",
    "print(\"\\nStats for hb desat:\\n\", female_hb[\"hb_desat\"].describe())"
   ]
  },
  {
   "cell_type": "code",
   "execution_count": 72,
   "id": "20fc8b29-f3df-48ac-b53e-2911f986e1a8",
   "metadata": {},
   "outputs": [
    {
     "name": "stdout",
     "output_type": "stream",
     "text": [
      "Stats for males\n",
      "\n",
      "Stats for baseline spo2:\n",
      " count    1196.000000\n",
      "mean       94.844738\n",
      "std         1.571784\n",
      "min        87.080830\n",
      "25%        93.952364\n",
      "50%        94.952300\n",
      "75%        95.959622\n",
      "max        99.726355\n",
      "Name: avg_spo2_no_desat_NREM, dtype: float64\n",
      "\n",
      "Stats for hb desat:\n",
      " count    1196.000000\n",
      "mean       75.465355\n",
      "std        73.692417\n",
      "min         2.996629\n",
      "25%        32.928627\n",
      "50%        55.174596\n",
      "75%        90.760676\n",
      "max       924.123178\n",
      "Name: hb_desat, dtype: float64\n"
     ]
    }
   ],
   "source": [
    "# checking counts in males \n",
    "male_avgspo2 = spo2_variables.loc[males,[\"avg_spo2_no_desat_NREM\"]]\n",
    "male_hb = spo2_variables.loc[males,[\"hb_desat\"]]\n",
    "\n",
    "print(\"Stats for males\\n\")\n",
    "print(\"Stats for baseline spo2:\\n\", male_avgspo2[\"avg_spo2_no_desat_NREM\"].describe())\n",
    "\n",
    "print(\"\\nStats for hb desat:\\n\", male_hb[\"hb_desat\"].describe())"
   ]
  },
  {
   "cell_type": "code",
   "execution_count": 73,
   "id": "73ba7c0f-1804-46f7-8b28-d8e2f48fef8b",
   "metadata": {},
   "outputs": [
    {
     "name": "stdout",
     "output_type": "stream",
     "text": [
      "Female: 1243\n",
      "Male: 1196\n"
     ]
    }
   ],
   "source": [
    "## NOWWWW Calculating the stats using the masks\n",
    "# EEG now  \n",
    "males = eeg_variables[\"gender\"] == \"Male\"\n",
    "females = eeg_variables[\"gender\"] == \"Female\"\n",
    "\n",
    "# get counts \n",
    "male_indices = eeg_variables[males].index.tolist()\n",
    "female_indices = eeg_variables[females].index.tolist()\n",
    "\n",
    "print(\"Female:\", len(female_indices))\n",
    "print(\"Male:\", len(male_indices))"
   ]
  },
  {
   "cell_type": "code",
   "execution_count": 74,
   "id": "a45fef0e-39b1-40f4-902a-69602ca023a0",
   "metadata": {},
   "outputs": [
    {
     "name": "stdout",
     "output_type": "stream",
     "text": [
      "Stats for females\n",
      "\n",
      "Stats for chirp:\n",
      " count    1243.000000\n",
      "mean       -0.238816\n",
      "std         0.124850\n",
      "min        -0.750538\n",
      "25%        -0.316770\n",
      "50%        -0.230424\n",
      "75%        -0.148096\n",
      "max         0.140194\n",
      "Name: SP_CHIRP_all_C, dtype: float64\n",
      "\n",
      "Stats for density:\n",
      " count    1243.000000\n",
      "mean        2.767478\n",
      "std         0.920442\n",
      "min         0.247423\n",
      "25%         2.065291\n",
      "50%         2.774297\n",
      "75%         3.416771\n",
      "max         5.916279\n",
      "Name: SP_DENS_all_C, dtype: float64\n"
     ]
    }
   ],
   "source": [
    "# checking counts in females \n",
    "female_chirp = eeg_variables.loc[females,[\"SP_CHIRP_all_C\"]]\n",
    "female_dens = eeg_variables.loc[females,[\"SP_DENS_all_C\"]]\n",
    "\n",
    "print(\"Stats for females\\n\")\n",
    "print(\"Stats for chirp:\\n\", female_chirp[\"SP_CHIRP_all_C\"].describe())\n",
    "\n",
    "print(\"\\nStats for density:\\n\", female_dens[\"SP_DENS_all_C\"].describe())"
   ]
  },
  {
   "cell_type": "code",
   "execution_count": 75,
   "id": "e29ae6f5-0b1e-43d1-8402-29895632eb3b",
   "metadata": {},
   "outputs": [
    {
     "name": "stdout",
     "output_type": "stream",
     "text": [
      "Stats for males\n",
      "\n",
      "Stats for chirp:\n",
      " count    1196.000000\n",
      "mean       -0.188305\n",
      "std         0.115932\n",
      "min        -0.535262\n",
      "25%        -0.264765\n",
      "50%        -0.184071\n",
      "75%        -0.110248\n",
      "max         0.226247\n",
      "Name: SP_CHIRP_all_C, dtype: float64\n",
      "\n",
      "Stats for density:\n",
      " count    1196.000000\n",
      "mean        2.430592\n",
      "std         0.940153\n",
      "min         0.041237\n",
      "25%         1.734578\n",
      "50%         2.366703\n",
      "75%         3.115865\n",
      "max         5.002370\n",
      "Name: SP_DENS_all_C, dtype: float64\n"
     ]
    }
   ],
   "source": [
    "# checking counts in mnales\n",
    "male_chirp = eeg_variables.loc[males,[\"SP_CHIRP_all_C\"]]\n",
    "male_dens = eeg_variables.loc[males,[\"SP_DENS_all_C\"]]\n",
    "\n",
    "print(\"Stats for males\\n\")\n",
    "print(\"Stats for chirp:\\n\", male_chirp[\"SP_CHIRP_all_C\"].describe())\n",
    "\n",
    "print(\"\\nStats for density:\\n\", male_dens[\"SP_DENS_all_C\"].describe())"
   ]
  },
  {
   "cell_type": "markdown",
   "id": "e69d24e8-91de-45c7-801c-69afd69830e9",
   "metadata": {},
   "source": [
    "## Dementia"
   ]
  },
  {
   "cell_type": "code",
   "execution_count": 76,
   "id": "c322ab3b-ce36-472a-a7bf-4cda51f626a8",
   "metadata": {},
   "outputs": [
    {
     "name": "stdout",
     "output_type": "stream",
     "text": [
      "2439\n"
     ]
    }
   ],
   "source": [
    "## NOWWWW Moving on to DEMENTIA COUNTS \n",
    "dementia_fhs_df[\"PID\"]=dementia_fhs_df[\"PID\"].astype(str).str.strip()\n",
    "dementia_aric_df[\"PID\"]=dementia_aric_df[\"PID\"].astype(str).str.strip()\n",
    "\n",
    "dementia1 = dementia_fhs_df[dementia_fhs_df[\"PID\"].isin(pids_final)][[\"PID\", \"fhs_dementia_from_psg\", \"fhs_dod_from_psg\"]].copy()\n",
    "dementia2 = dementia_aric_df[dementia_aric_df[\"PID\"].isin(pids_final)][[\"PID\", \"aric_dementia_from_psg\", \"aric_dod_from_psg\"]].copy()\n",
    "\n",
    "print(len(dementia1)+len(dementia2))"
   ]
  },
  {
   "cell_type": "code",
   "execution_count": 77,
   "id": "5872f45b-98a3-4791-a311-4e3e94a46d55",
   "metadata": {},
   "outputs": [
    {
     "name": "stdout",
     "output_type": "stream",
     "text": [
      "          PID  fhs_dementia_from_psg  fhs_dod_from_psg  \\\n",
      "0     1003513                    NaN               NaN   \n",
      "1     1010008                    NaN               NaN   \n",
      "2     1014966                    NaN               NaN   \n",
      "3     1022330                    NaN            6899.0   \n",
      "4     1023218                    NaN               NaN   \n",
      "...       ...                    ...               ...   \n",
      "2434  C015763                    NaN               NaN   \n",
      "2435  C015769                    NaN               NaN   \n",
      "2436  C015770                    NaN               NaN   \n",
      "2437  C015775                    NaN               NaN   \n",
      "2438  C015784                    NaN               NaN   \n",
      "\n",
      "      aric_dementia_from_psg  aric_dod_from_psg  \n",
      "0                        NaN                NaN  \n",
      "1                        NaN                NaN  \n",
      "2                        NaN                NaN  \n",
      "3                        NaN                NaN  \n",
      "4                        NaN                NaN  \n",
      "...                      ...                ...  \n",
      "2434                     NaN               68.0  \n",
      "2435                     NaN                NaN  \n",
      "2436                  7123.0             7682.0  \n",
      "2437                     NaN                NaN  \n",
      "2438                     NaN                NaN  \n",
      "\n",
      "[2439 rows x 5 columns]\n"
     ]
    }
   ],
   "source": [
    "dementia_total = pd.concat([dementia1, dementia2], ignore_index=True)\n",
    "print(dementia_total)"
   ]
  },
  {
   "cell_type": "code",
   "execution_count": 78,
   "id": "7a25ef53-4478-4cef-9e46-5d21702b88b9",
   "metadata": {},
   "outputs": [],
   "source": [
    "for pid in dementia_total['PID']:\n",
    "    if pid not in covariates['PID'].values:\n",
    "        print(f\"Missing PID in covariates: {pid}\")"
   ]
  },
  {
   "cell_type": "code",
   "execution_count": 79,
   "id": "7e87602a-a238-40c9-b651-5ff22b309ad4",
   "metadata": {},
   "outputs": [
    {
     "name": "stdout",
     "output_type": "stream",
     "text": [
      "Empty DataFrame\n",
      "Columns: [PID, fhs_dementia_from_psg, fhs_dod_from_psg, aric_dementia_from_psg, aric_dod_from_psg]\n",
      "Index: []\n"
     ]
    }
   ],
   "source": [
    "duplicate_pids = dementia_total[dementia_total['PID'].duplicated(keep=False)]\n",
    "print(duplicate_pids)"
   ]
  },
  {
   "cell_type": "code",
   "execution_count": 81,
   "id": "073c37f1-d9ce-4cf9-91d8-84603b227f4e",
   "metadata": {},
   "outputs": [
    {
     "name": "stdout",
     "output_type": "stream",
     "text": [
      "          PID  fhs_dementia_from_psg  fhs_dod_from_psg  \\\n",
      "0     1003513                    NaN               NaN   \n",
      "1     1010008                    NaN               NaN   \n",
      "2     1014966                    NaN               NaN   \n",
      "3     1022330                    NaN            6899.0   \n",
      "4     1023218                    NaN               NaN   \n",
      "...       ...                    ...               ...   \n",
      "2434  C015763                    NaN               NaN   \n",
      "2435  C015769                    NaN               NaN   \n",
      "2436  C015770                    NaN               NaN   \n",
      "2437  C015775                    NaN               NaN   \n",
      "2438  C015784                    NaN               NaN   \n",
      "\n",
      "      aric_dementia_from_psg  aric_dod_from_psg  days_to_diag_combined  \\\n",
      "0                        NaN                NaN                    NaN   \n",
      "1                        NaN                NaN                    NaN   \n",
      "2                        NaN                NaN                    NaN   \n",
      "3                        NaN                NaN                    NaN   \n",
      "4                        NaN                NaN                    NaN   \n",
      "...                      ...                ...                    ...   \n",
      "2434                     NaN               68.0                    NaN   \n",
      "2435                     NaN                NaN                    NaN   \n",
      "2436                  7123.0             7682.0                 7123.0   \n",
      "2437                     NaN                NaN                    NaN   \n",
      "2438                     NaN                NaN                    NaN   \n",
      "\n",
      "      dod_combined  \n",
      "0              NaN  \n",
      "1              NaN  \n",
      "2              NaN  \n",
      "3           6899.0  \n",
      "4              NaN  \n",
      "...            ...  \n",
      "2434          68.0  \n",
      "2435           NaN  \n",
      "2436        7682.0  \n",
      "2437           NaN  \n",
      "2438           NaN  \n",
      "\n",
      "[2439 rows x 7 columns]\n"
     ]
    }
   ],
   "source": [
    "# Great now I have my dementia_total dataset but want to just create two new columns that has the value from the days to diag, and the days to death\n",
    "dementia_total['days_to_diag_combined'] = dementia_total['fhs_dementia_from_psg'].combine_first(dementia_total['aric_dementia_from_psg'])\n",
    "dementia_total['dod_combined'] = dementia_total['fhs_dod_from_psg'].combine_first(dementia_total['aric_dod_from_psg'])\n",
    "\n",
    "print(dementia_total)"
   ]
  },
  {
   "cell_type": "code",
   "execution_count": 85,
   "id": "827d3b0a-c873-488c-9cd4-18876dd22c8f",
   "metadata": {},
   "outputs": [
    {
     "name": "stdout",
     "output_type": "stream",
     "text": [
      "486\n",
      "486\n",
      "1117\n",
      "1117\n"
     ]
    }
   ],
   "source": [
    "print(dementia_total[\"days_to_diag_combined\"].notna().sum())\n",
    "print(dementia_total[\"aric_dementia_from_psg\"].notna().sum()+dementia_total[\"fhs_dementia_from_psg\"].notna().sum())\n",
    "\n",
    "\n",
    "print(dementia_total[\"dod_combined\"].notna().sum())\n",
    "print(dementia_total[\"aric_dod_from_psg\"].notna().sum()+dementia_total[\"fhs_dod_from_psg\"].notna().sum())\n"
   ]
  },
  {
   "cell_type": "code",
   "execution_count": 87,
   "id": "c873b550-b658-49bb-917e-586b5580baaf",
   "metadata": {},
   "outputs": [
    {
     "name": "stdout",
     "output_type": "stream",
     "text": [
      "days_to_diag_combined\n",
      "NaN       1953\n",
      "6108.0       2\n",
      "4265.0       2\n",
      "5611.0       2\n",
      "5888.0       2\n",
      "          ... \n",
      "6047.0       1\n",
      "3495.0       1\n",
      "3842.0       1\n",
      "7477.0       1\n",
      "7123.0       1\n",
      "Name: count, Length: 467, dtype: int64\n"
     ]
    }
   ],
   "source": [
    "print((dementia_total[\"days_to_diag_combined\"]).value_counts(dropna=False))"
   ]
  },
  {
   "cell_type": "code",
   "execution_count": 88,
   "id": "7dd6c6df-b4b7-4c86-b591-a7bde93151ba",
   "metadata": {},
   "outputs": [
    {
     "name": "stdout",
     "output_type": "stream",
     "text": [
      "dod_combined\n",
      "NaN       1322\n",
      "8311.0       3\n",
      "7585.0       3\n",
      "3335.0       3\n",
      "8433.0       3\n",
      "          ... \n",
      "8716.0       1\n",
      "644.0        1\n",
      "7872.0       1\n",
      "6415.0       1\n",
      "7682.0       1\n",
      "Name: count, Length: 1051, dtype: int64\n"
     ]
    }
   ],
   "source": [
    "print((dementia_total[\"dod_combined\"]).value_counts(dropna=False))"
   ]
  },
  {
   "cell_type": "code",
   "execution_count": 90,
   "id": "f976cfed-e498-4068-9564-de07b78f10be",
   "metadata": {},
   "outputs": [],
   "source": [
    "# copying in the sex for each PID so that way I can also split by sex for the descriptive stats\n",
    "sex = covariates[[\"PID\", \"nsrr_sex\"]].copy()\n",
    "#dementia_total = dementia_total.merge(sex, on=\"PID\", how=\"left\")\n",
    "#print(dementia_total)"
   ]
  },
  {
   "cell_type": "code",
   "execution_count": 91,
   "id": "fac4662a-0e2b-487d-950c-9803145a6d60",
   "metadata": {},
   "outputs": [
    {
     "name": "stdout",
     "output_type": "stream",
     "text": [
      "Total dataset days to dementia diagnosis\n",
      "\n",
      "count     486.000000\n",
      "mean     6018.059671\n",
      "std      1751.341849\n",
      "min     -1409.000000\n",
      "25%      5138.500000\n",
      "50%      6119.000000\n",
      "75%      7312.500000\n",
      "max      8935.000000\n",
      "Name: days_to_diag_combined, dtype: float64 \n",
      "\n",
      "Total dataset days to death\n",
      "\n",
      "count    1117.000000\n",
      "mean     5523.830797\n",
      "std      2194.947018\n",
      "min        68.000000\n",
      "25%      3900.000000\n",
      "50%      5919.000000\n",
      "75%      7344.000000\n",
      "max      9007.000000\n",
      "Name: dod_combined, dtype: float64\n"
     ]
    }
   ],
   "source": [
    "# total dataset stats \n",
    "print(\"Total dataset days to dementia diagnosis\\n\")\n",
    "print(dementia_total[\"days_to_diag_combined\"].describe(), \"\\n\")\n",
    "\n",
    "print(\"Total dataset days to death\\n\")\n",
    "print(dementia_total[\"dod_combined\"].describe())"
   ]
  },
  {
   "cell_type": "code",
   "execution_count": 93,
   "id": "de5785b5-0bd9-470c-b075-fd1052663c34",
   "metadata": {},
   "outputs": [
    {
     "name": "stdout",
     "output_type": "stream",
     "text": [
      "Death Date: 5919.0 days [3900.0 - 7344.0]\n"
     ]
    }
   ],
   "source": [
    "q1 = dementia_total[\"dod_combined\"].quantile(0.25)\n",
    "median = dementia_total[\"dod_combined\"].median()\n",
    "q3 = dementia_total[\"dod_combined\"].quantile(0.75)\n",
    "print(f\"Death Date: {median} days [{q1} - {q3}]\")\n"
   ]
  },
  {
   "cell_type": "code",
   "execution_count": 95,
   "id": "23459e75-5dd7-4bcc-bb89-c9143dd5404e",
   "metadata": {},
   "outputs": [
    {
     "name": "stdout",
     "output_type": "stream",
     "text": [
      "PSG to dementia diagnosis: 6119.0 days [5138.5 - 7312.5]\n"
     ]
    }
   ],
   "source": [
    "q1 = dementia_total[\"days_to_diag_combined\"].quantile(0.25)\n",
    "median = dementia_total[\"days_to_diag_combined\"].median()\n",
    "q3 = dementia_total[\"days_to_diag_combined\"].quantile(0.75)\n",
    "print(f\"PSG to dementia diagnosis: {median} days [{q1} - {q3}]\")"
   ]
  },
  {
   "cell_type": "markdown",
   "id": "28ba893b-16fe-4c46-8e28-534d257d7fcc",
   "metadata": {},
   "source": [
    "###### Done: \n",
    "1. Total stats\n",
    "2. Figure out nan value counts\n",
    "\n",
    "Next   \n",
    "4. separate male/female and do same thing\n",
    "5. then do the censoring and figure out how many died and ded only\n",
    "6. can also add a stat for how many were diagnosed after the median but we will include those for the og stats above "
   ]
  },
  {
   "cell_type": "code",
   "execution_count": 96,
   "id": "22ca639d-23c5-445a-bf54-a3ea0abf9302",
   "metadata": {},
   "outputs": [
    {
     "name": "stdout",
     "output_type": "stream",
     "text": [
      "Female: 1243\n",
      "Male: 1196\n"
     ]
    }
   ],
   "source": [
    "# males v females \n",
    "males = dementia_total[\"nsrr_sex\"] == \"male\"\n",
    "females = dementia_total[\"nsrr_sex\"] == \"female\"\n",
    "\n",
    "# get counts \n",
    "male_indices = dementia_total[males].index.tolist()\n",
    "female_indices = dementia_total[females].index.tolist()\n",
    "\n",
    "print(\"Female:\", len(female_indices))\n",
    "print(\"Male:\", len(male_indices))"
   ]
  },
  {
   "cell_type": "code",
   "execution_count": 99,
   "id": "b10fc153-ea17-49ec-852a-b03420bc16e2",
   "metadata": {},
   "outputs": [
    {
     "name": "stdout",
     "output_type": "stream",
     "text": [
      "Stats for males\n",
      "\n",
      "Stats for days to diagnosis:\n",
      " count     228.000000\n",
      "mean     5900.833333\n",
      "std      1884.537707\n",
      "min     -1409.000000\n",
      "25%      4896.750000\n",
      "50%      6043.000000\n",
      "75%      7269.250000\n",
      "max      8889.000000\n",
      "Name: days_to_diag_combined, dtype: float64 \n",
      "\n",
      "Stats for days to death:\n",
      " count     633.000000\n",
      "mean     5313.824645\n",
      "std      2248.419402\n",
      "min        68.000000\n",
      "25%      3625.000000\n",
      "50%      5623.000000\n",
      "75%      7132.000000\n",
      "max      9007.000000\n",
      "Name: dod_combined, dtype: float64\n"
     ]
    }
   ],
   "source": [
    "male_dementia = dementia_total.loc[males,[\"days_to_diag_combined\", \"dod_combined\"]]\n",
    "\n",
    "print(\"Stats for males\\n\")\n",
    "print(\"Stats for days to diagnosis:\\n\", male_dementia[\"days_to_diag_combined\"].describe(),\"\\n\")\n",
    "\n",
    "print(\"Stats for days to death:\\n\", male_dementia[\"dod_combined\"].describe())\n"
   ]
  },
  {
   "cell_type": "code",
   "execution_count": 100,
   "id": "466508a6-0cf1-47e2-b654-f56be068d237",
   "metadata": {},
   "outputs": [
    {
     "name": "stdout",
     "output_type": "stream",
     "text": [
      "Stats for females\n",
      "\n",
      "Stats for days to diagnosis:\n",
      " count     258.000000\n",
      "mean     6121.655039\n",
      "std      1621.238692\n",
      "min       712.000000\n",
      "25%      5358.500000\n",
      "50%      6137.000000\n",
      "75%      7341.500000\n",
      "max      8935.000000\n",
      "Name: days_to_diag_combined, dtype: float64 \n",
      "\n",
      "Stats for days to death:\n",
      " count     484.000000\n",
      "mean     5798.487603\n",
      "std      2093.676686\n",
      "min       138.000000\n",
      "25%      4402.000000\n",
      "50%      6203.000000\n",
      "75%      7547.750000\n",
      "max      8987.000000\n",
      "Name: dod_combined, dtype: float64\n"
     ]
    }
   ],
   "source": [
    "female_dementia = dementia_total.loc[females,[\"days_to_diag_combined\", \"dod_combined\"]]\n",
    "\n",
    "print(\"Stats for females\\n\")\n",
    "print(\"Stats for days to diagnosis:\\n\", female_dementia[\"days_to_diag_combined\"].describe(),\"\\n\")\n",
    "\n",
    "print(\"Stats for days to death:\\n\", female_dementia[\"dod_combined\"].describe())\n"
   ]
  },
  {
   "cell_type": "code",
   "execution_count": 102,
   "id": "9c2a7c84-a49f-4531-9a6e-b2ff8e6207e5",
   "metadata": {},
   "outputs": [
    {
     "name": "stdout",
     "output_type": "stream",
     "text": [
      "Number participants with date of death: 1117\n",
      "Number participants with dementia diaganosis 486\n"
     ]
    }
   ],
   "source": [
    "print(\"Number participants with date of death:\", sum(dementia_total[\"dod_combined\"].notna()))\n",
    "print(\"Number participants with dementia diaganosis\", sum(dementia_total[\"days_to_diag_combined\"].notna()))"
   ]
  },
  {
   "cell_type": "code",
   "execution_count": 103,
   "id": "8d97102b-5bbb-47be-b2d1-cf8da0fe492c",
   "metadata": {},
   "outputs": [
    {
     "name": "stdout",
     "output_type": "stream",
     "text": [
      "Number diagnosed on or after median date: 243\n"
     ]
    }
   ],
   "source": [
    "median_diag = dementia_total[\"days_to_diag_combined\"].median()\n",
    "condition1 = dementia_total[\"days_to_diag_combined\"] >= median_diag\n",
    "count = condition1.sum()\n",
    "print(\"Number diagnosed on or after median date:\", count)"
   ]
  },
  {
   "cell_type": "code",
   "execution_count": 105,
   "id": "908ee1dc-3fe9-4900-8a09-ab43fb089816",
   "metadata": {},
   "outputs": [
    {
     "name": "stdout",
     "output_type": "stream",
     "text": [
      "Number participants who were diagnosed BEFORE median diagnosis date: 243\n"
     ]
    }
   ],
   "source": [
    "condition1 = dementia_total[\"days_to_diag_combined\"] < median_diag\n",
    "\n",
    "print(\"Number participants who were diagnosed BEFORE median diagnosis date:\", (condition1).sum())\n"
   ]
  },
  {
   "cell_type": "code",
   "execution_count": 106,
   "id": "306eceb6-1636-4d1a-8bb7-f5d027ca1794",
   "metadata": {},
   "outputs": [
    {
     "name": "stdout",
     "output_type": "stream",
     "text": [
      "No diagnosis but has DoD: 743\n"
     ]
    }
   ],
   "source": [
    "no_diagnosis_count = (dementia_total[\"days_to_diag_combined\"].isna() & dementia_total[\"dod_combined\"].notna()).sum()\n",
    "print(f\"No diagnosis but has DoD: {no_diagnosis_count}\")"
   ]
  },
  {
   "cell_type": "code",
   "execution_count": 108,
   "id": "cf733c43-c3e2-482d-b9c2-0346bb7c419d",
   "metadata": {},
   "outputs": [
    {
     "name": "stdout",
     "output_type": "stream",
     "text": [
      "Participants who died before diagnosis: 0\n"
     ]
    }
   ],
   "source": [
    "condition1 = (dementia_total[\"dod_combined\"].notna() & dementia_total[\"days_to_diag_combined\"].notna())\n",
    "condition2 = (dementia_total[\"dod_combined\"] < dementia_total[\"days_to_diag_combined\"])\n",
    "\n",
    "print(f\"Participants who died before diagnosis: {(condition1 & condition2).sum()}\")\n"
   ]
  },
  {
   "cell_type": "code",
   "execution_count": 116,
   "id": "4756b8fb-184b-494d-a7c0-f655e59e7d0b",
   "metadata": {},
   "outputs": [
    {
     "name": "stdout",
     "output_type": "stream",
     "text": [
      "No diagnosis but has DoD: 374\n"
     ]
    }
   ],
   "source": [
    "diagnosis_and_dod = (dementia_total[\"days_to_diag_combined\"].notna() & dementia_total[\"dod_combined\"].notna()).sum()\n",
    "print(f\"No diagnosis but has DoD: {diagnosis_and_dod}\")"
   ]
  },
  {
   "cell_type": "code",
   "execution_count": 109,
   "id": "15c98bed-6356-435a-bab5-d87cafadc976",
   "metadata": {},
   "outputs": [
    {
     "name": "stdout",
     "output_type": "stream",
     "text": [
      "count     374.000000\n",
      "mean     1117.184492\n",
      "std      1082.128421\n",
      "min         1.000000\n",
      "25%       209.250000\n",
      "50%       743.500000\n",
      "75%      1745.000000\n",
      "max      6292.000000\n",
      "Name: Time_Diag_to_Death, dtype: float64\n"
     ]
    }
   ],
   "source": [
    "dementia_total[\"Time_Diag_to_Death\"]=dementia_total[\"dod_combined\"]-dementia_total[\"days_to_diag_combined\"]\n",
    "\n",
    "print(dementia_total[\"Time_Diag_to_Death\"].describe())"
   ]
  },
  {
   "cell_type": "code",
   "execution_count": 110,
   "id": "7629804b-0494-4a73-b3a6-2e9458d6791f",
   "metadata": {},
   "outputs": [
    {
     "name": "stdout",
     "output_type": "stream",
     "text": [
      "Diag to death: 743.5 days [209.25 - 1745.0]\n"
     ]
    }
   ],
   "source": [
    "q1 = dementia_total[\"Time_Diag_to_Death\"].quantile(0.25)\n",
    "median = dementia_total[\"Time_Diag_to_Death\"].median()\n",
    "q3 = dementia_total[\"Time_Diag_to_Death\"].quantile(0.75)\n",
    "print(f\"Diag to death: {median} days [{q1} - {q3}]\")"
   ]
  },
  {
   "cell_type": "code",
   "execution_count": 113,
   "id": "5092fba9-5c4e-41cd-8452-d1b5b3abaec1",
   "metadata": {},
   "outputs": [
    {
     "name": "stdout",
     "output_type": "stream",
     "text": [
      "Participants who died in first year after diagnosis: 130\n"
     ]
    }
   ],
   "source": [
    "#print(dementia_total[\"Time_Diag_to_Death\"].value_counts().loc[[0, 1]])\n",
    "\n",
    "count_first_year = dementia_total[\"Time_Diag_to_Death\"].between(0, 365).sum()\n",
    "\n",
    "print(f\"Participants who died in first year after diagnosis: {count_first_year}\")\n"
   ]
  },
  {
   "cell_type": "code",
   "execution_count": 114,
   "id": "38634bd5-7bd1-42e1-9311-0f6c0243365c",
   "metadata": {},
   "outputs": [
    {
     "name": "stdout",
     "output_type": "stream",
     "text": [
      "Stats for females\n",
      "\n",
      "Stats for days diag to death:\n",
      " count     190.000000\n",
      "mean     1207.363158\n",
      "std      1119.183588\n",
      "min         1.000000\n",
      "25%       243.750000\n",
      "50%       948.000000\n",
      "75%      1748.000000\n",
      "max      6026.000000\n",
      "Name: Time_Diag_to_Death, dtype: float64 \n",
      "\n"
     ]
    }
   ],
   "source": [
    "female_timebetween = dementia_total.loc[females,[\"Time_Diag_to_Death\"]]\n",
    "\n",
    "print(\"Stats for females\\n\")\n",
    "print(\"Stats for days diag to death:\\n\", female_timebetween[\"Time_Diag_to_Death\"].describe(),\"\\n\")\n"
   ]
  },
  {
   "cell_type": "code",
   "execution_count": 115,
   "id": "5c15b0e0-2f7f-4258-abca-8b9ed1f61e7d",
   "metadata": {},
   "outputs": [
    {
     "name": "stdout",
     "output_type": "stream",
     "text": [
      "Stats for males\n",
      "\n",
      "Stats for days diaag to death:\n",
      " count     184.000000\n",
      "mean     1024.065217\n",
      "std      1037.301589\n",
      "min        70.000000\n",
      "25%       196.000000\n",
      "50%       557.000000\n",
      "75%      1715.750000\n",
      "max      6292.000000\n",
      "Name: Time_Diag_to_Death, dtype: float64 \n",
      "\n"
     ]
    }
   ],
   "source": [
    "male_timebetween = dementia_total.loc[males,[\"Time_Diag_to_Death\"]]\n",
    "\n",
    "print(\"Stats for males\\n\")\n",
    "print(\"Stats for days diaag to death:\\n\", male_timebetween[\"Time_Diag_to_Death\"].describe(),\"\\n\")\n"
   ]
  },
  {
   "cell_type": "markdown",
   "id": "959d7742-e77c-4b37-bfa1-e7b6cefb1e88",
   "metadata": {
    "jp-MarkdownHeadingCollapsed": true
   },
   "source": [
    "## Missing values"
   ]
  },
  {
   "cell_type": "code",
   "execution_count": 117,
   "id": "af78f0e5-3e47-49a2-bab2-728349322339",
   "metadata": {},
   "outputs": [],
   "source": [
    "## just to see how many people we have ALL the necessary data for. \n",
    "## that means: number for Spo2/EEG data\n",
    "## a new number for basic covariates like: sex, race, age, bmi \n",
    "## then stage 2 ones for smoking/alcohol/education\n",
    "## then medications \n",
    "\n",
    "# so we want the number we have it ALL for, then get specific numbers for what we are missing "
   ]
  },
  {
   "cell_type": "code",
   "execution_count": 118,
   "id": "c47c087b-d242-4e89-a629-6e14ccbe495b",
   "metadata": {},
   "outputs": [
    {
     "name": "stdout",
     "output_type": "stream",
     "text": [
      "Number of participants with both EEG and SpO₂ data: 2439\n"
     ]
    }
   ],
   "source": [
    "# Merge on PID to get only those with both EEG and SpO₂ data\n",
    "combined = pd.merge(eeg_variables, spo2_variables, on=\"PID\", how=\"inner\")\n",
    "\n",
    "# Count unique PIDs\n",
    "unique_pid_count = combined[\"PID\"].nunique()\n",
    "\n",
    "print(f\"Number of participants with both EEG and SpO₂ data: {unique_pid_count}\")\n"
   ]
  },
  {
   "cell_type": "code",
   "execution_count": 119,
   "id": "4cd6d769-f455-4adf-88fe-e951d42fc7eb",
   "metadata": {},
   "outputs": [
    {
     "name": "stdout",
     "output_type": "stream",
     "text": [
      "PIDs with complete EEG and SpO₂ data: 2439\n"
     ]
    }
   ],
   "source": [
    "# Define EEG and SpO₂ variable column names (excluding PID)\n",
    "eeg_cols = [\"SP_DENS_all_C\", \"SP_CHIRP_all_C\"]\n",
    "spo2_cols = [\"hb_desat\", \"avg_spo2_no_desat_NREM\"]\n",
    "\n",
    "# Keep only rows where all EEG and SpO₂ variables have data\n",
    "valid_data = combined[eeg_cols + spo2_cols].notna().all(axis=1)\n",
    "\n",
    "# Count unique PIDs with complete data\n",
    "valid_pid_count = combined.loc[valid_data, \"PID\"].nunique()\n",
    "\n",
    "print(f\"PIDs with complete EEG and SpO₂ data: {valid_pid_count}\")"
   ]
  },
  {
   "cell_type": "code",
   "execution_count": 120,
   "id": "cdda9b8b-c0e4-40ce-b6e5-f58665ffaeb8",
   "metadata": {},
   "outputs": [
    {
     "data": {
      "text/html": [
       "<div>\n",
       "<style scoped>\n",
       "    .dataframe tbody tr th:only-of-type {\n",
       "        vertical-align: middle;\n",
       "    }\n",
       "\n",
       "    .dataframe tbody tr th {\n",
       "        vertical-align: top;\n",
       "    }\n",
       "\n",
       "    .dataframe thead th {\n",
       "        text-align: right;\n",
       "    }\n",
       "</style>\n",
       "<table border=\"1\" class=\"dataframe\">\n",
       "  <thead>\n",
       "    <tr style=\"text-align: right;\">\n",
       "      <th></th>\n",
       "      <th>PID</th>\n",
       "      <th>nsrr_age</th>\n",
       "      <th>nsrr_sex</th>\n",
       "      <th>nsrr_race</th>\n",
       "      <th>nsrr_bmi</th>\n",
       "      <th>educat</th>\n",
       "      <th>alcoh</th>\n",
       "      <th>evsmok15</th>\n",
       "      <th>smknow15</th>\n",
       "      <th>cigday15</th>\n",
       "      <th>avesmk15</th>\n",
       "    </tr>\n",
       "  </thead>\n",
       "  <tbody>\n",
       "    <tr>\n",
       "      <th>0</th>\n",
       "      <td>C008484</td>\n",
       "      <td>58</td>\n",
       "      <td>male</td>\n",
       "      <td>white</td>\n",
       "      <td>25.648918</td>\n",
       "      <td>4.0</td>\n",
       "      <td>2.0</td>\n",
       "      <td>1.0</td>\n",
       "      <td>0.0</td>\n",
       "      <td>NaN</td>\n",
       "      <td>NaN</td>\n",
       "    </tr>\n",
       "    <tr>\n",
       "      <th>1</th>\n",
       "      <td>C008924</td>\n",
       "      <td>60</td>\n",
       "      <td>female</td>\n",
       "      <td>white</td>\n",
       "      <td>41.312358</td>\n",
       "      <td>3.0</td>\n",
       "      <td>0.0</td>\n",
       "      <td>0.0</td>\n",
       "      <td>NaN</td>\n",
       "      <td>NaN</td>\n",
       "      <td>NaN</td>\n",
       "    </tr>\n",
       "    <tr>\n",
       "      <th>2</th>\n",
       "      <td>C005855</td>\n",
       "      <td>59</td>\n",
       "      <td>female</td>\n",
       "      <td>white</td>\n",
       "      <td>45.681366</td>\n",
       "      <td>2.0</td>\n",
       "      <td>1.0</td>\n",
       "      <td>1.0</td>\n",
       "      <td>1.0</td>\n",
       "      <td>30.0</td>\n",
       "      <td>NaN</td>\n",
       "    </tr>\n",
       "    <tr>\n",
       "      <th>3</th>\n",
       "      <td>C012638</td>\n",
       "      <td>72</td>\n",
       "      <td>female</td>\n",
       "      <td>white</td>\n",
       "      <td>32.841987</td>\n",
       "      <td>2.0</td>\n",
       "      <td>0.0</td>\n",
       "      <td>1.0</td>\n",
       "      <td>0.0</td>\n",
       "      <td>NaN</td>\n",
       "      <td>NaN</td>\n",
       "    </tr>\n",
       "    <tr>\n",
       "      <th>4</th>\n",
       "      <td>C000847</td>\n",
       "      <td>63</td>\n",
       "      <td>female</td>\n",
       "      <td>white</td>\n",
       "      <td>23.530366</td>\n",
       "      <td>3.0</td>\n",
       "      <td>0.0</td>\n",
       "      <td>0.0</td>\n",
       "      <td>NaN</td>\n",
       "      <td>NaN</td>\n",
       "      <td>NaN</td>\n",
       "    </tr>\n",
       "    <tr>\n",
       "      <th>...</th>\n",
       "      <td>...</td>\n",
       "      <td>...</td>\n",
       "      <td>...</td>\n",
       "      <td>...</td>\n",
       "      <td>...</td>\n",
       "      <td>...</td>\n",
       "      <td>...</td>\n",
       "      <td>...</td>\n",
       "      <td>...</td>\n",
       "      <td>...</td>\n",
       "      <td>...</td>\n",
       "    </tr>\n",
       "    <tr>\n",
       "      <th>2434</th>\n",
       "      <td>C002237</td>\n",
       "      <td>66</td>\n",
       "      <td>male</td>\n",
       "      <td>white</td>\n",
       "      <td>25.693134</td>\n",
       "      <td>2.0</td>\n",
       "      <td>12.0</td>\n",
       "      <td>0.0</td>\n",
       "      <td>NaN</td>\n",
       "      <td>NaN</td>\n",
       "      <td>NaN</td>\n",
       "    </tr>\n",
       "    <tr>\n",
       "      <th>2435</th>\n",
       "      <td>C001603</td>\n",
       "      <td>54</td>\n",
       "      <td>male</td>\n",
       "      <td>white</td>\n",
       "      <td>26.730372</td>\n",
       "      <td>3.0</td>\n",
       "      <td>20.0</td>\n",
       "      <td>1.0</td>\n",
       "      <td>1.0</td>\n",
       "      <td>8.0</td>\n",
       "      <td>NaN</td>\n",
       "    </tr>\n",
       "    <tr>\n",
       "      <th>2436</th>\n",
       "      <td>C003532</td>\n",
       "      <td>55</td>\n",
       "      <td>male</td>\n",
       "      <td>white</td>\n",
       "      <td>24.228571</td>\n",
       "      <td>4.0</td>\n",
       "      <td>0.0</td>\n",
       "      <td>0.0</td>\n",
       "      <td>NaN</td>\n",
       "      <td>NaN</td>\n",
       "      <td>NaN</td>\n",
       "    </tr>\n",
       "    <tr>\n",
       "      <th>2437</th>\n",
       "      <td>C005508</td>\n",
       "      <td>53</td>\n",
       "      <td>male</td>\n",
       "      <td>white</td>\n",
       "      <td>25.374484</td>\n",
       "      <td>2.0</td>\n",
       "      <td>0.0</td>\n",
       "      <td>0.0</td>\n",
       "      <td>NaN</td>\n",
       "      <td>NaN</td>\n",
       "      <td>NaN</td>\n",
       "    </tr>\n",
       "    <tr>\n",
       "      <th>2438</th>\n",
       "      <td>C009808</td>\n",
       "      <td>54</td>\n",
       "      <td>male</td>\n",
       "      <td>white</td>\n",
       "      <td>33.934559</td>\n",
       "      <td>2.0</td>\n",
       "      <td>3.0</td>\n",
       "      <td>1.0</td>\n",
       "      <td>0.0</td>\n",
       "      <td>NaN</td>\n",
       "      <td>NaN</td>\n",
       "    </tr>\n",
       "  </tbody>\n",
       "</table>\n",
       "<p>2439 rows × 11 columns</p>\n",
       "</div>"
      ],
      "text/plain": [
       "          PID  nsrr_age nsrr_sex nsrr_race   nsrr_bmi  educat  alcoh  \\\n",
       "0     C008484        58     male     white  25.648918     4.0    2.0   \n",
       "1     C008924        60   female     white  41.312358     3.0    0.0   \n",
       "2     C005855        59   female     white  45.681366     2.0    1.0   \n",
       "3     C012638        72   female     white  32.841987     2.0    0.0   \n",
       "4     C000847        63   female     white  23.530366     3.0    0.0   \n",
       "...       ...       ...      ...       ...        ...     ...    ...   \n",
       "2434  C002237        66     male     white  25.693134     2.0   12.0   \n",
       "2435  C001603        54     male     white  26.730372     3.0   20.0   \n",
       "2436  C003532        55     male     white  24.228571     4.0    0.0   \n",
       "2437  C005508        53     male     white  25.374484     2.0    0.0   \n",
       "2438  C009808        54     male     white  33.934559     2.0    3.0   \n",
       "\n",
       "      evsmok15  smknow15  cigday15  avesmk15  \n",
       "0          1.0       0.0       NaN       NaN  \n",
       "1          0.0       NaN       NaN       NaN  \n",
       "2          1.0       1.0      30.0       NaN  \n",
       "3          1.0       0.0       NaN       NaN  \n",
       "4          0.0       NaN       NaN       NaN  \n",
       "...        ...       ...       ...       ...  \n",
       "2434       0.0       NaN       NaN       NaN  \n",
       "2435       1.0       1.0       8.0       NaN  \n",
       "2436       0.0       NaN       NaN       NaN  \n",
       "2437       0.0       NaN       NaN       NaN  \n",
       "2438       1.0       0.0       NaN       NaN  \n",
       "\n",
       "[2439 rows x 11 columns]"
      ]
     },
     "execution_count": 120,
     "metadata": {},
     "output_type": "execute_result"
    }
   ],
   "source": [
    "covariates"
   ]
  },
  {
   "cell_type": "code",
   "execution_count": 121,
   "id": "2d0f27ad-db54-4cfa-924e-379337edb252",
   "metadata": {},
   "outputs": [
    {
     "name": "stdout",
     "output_type": "stream",
     "text": [
      "# of unique PIDs with data for nsrr_age: 2439\n",
      "# of unique PIDs with data for nsrr_sex: 2439\n",
      "# of unique PIDs with data for nsrr_race: 2439\n",
      "# of unique PIDs with data for nsrr_bmi: 2438\n",
      "# of unique PIDs with data for educat: 2413\n",
      "# of unique PIDs with data for alcoh: 2430\n",
      "# of unique PIDs with data for evsmok15: 2434\n",
      "# of unique PIDs with data for smknow15: 1417\n",
      "# of unique PIDs with data for cigday15: 261\n",
      "# of unique PIDs with data for avesmk15: 0\n"
     ]
    }
   ],
   "source": [
    "# all covariates individually \n",
    "for col in covariates.columns:\n",
    "    if col == \"PID\":\n",
    "        continue\n",
    "    else: \n",
    "        valid_data = covariates[col].notna()\n",
    "        valid_pid_count = covariates.loc[valid_data, \"PID\"].nunique()\n",
    "        print(f\"# of unique PIDs with data for {col}: {valid_pid_count}\")\n"
   ]
  },
  {
   "cell_type": "code",
   "execution_count": 122,
   "id": "5f48ffa2-258e-4bb7-92d5-cce41ea9a1a5",
   "metadata": {},
   "outputs": [
    {
     "name": "stdout",
     "output_type": "stream",
     "text": [
      "PIDs with all stage 1 covariates: 2438\n"
     ]
    }
   ],
   "source": [
    "# now stage 1 \n",
    "cols1 = covariates.loc[:, \"nsrr_age\":\"nsrr_bmi\"].columns\n",
    "\n",
    "valid_data = covariates[cols1].notna().all(axis=1)\n",
    "\n",
    "valid_pid_count = covariates.loc[valid_data, \"PID\"].nunique()\n",
    "\n",
    "print(f\"PIDs with all stage 1 covariates: {valid_pid_count}\")"
   ]
  },
  {
   "cell_type": "code",
   "execution_count": 123,
   "id": "acf96a24-4157-4f21-8137-f26271c3ad16",
   "metadata": {},
   "outputs": [
    {
     "name": "stdout",
     "output_type": "stream",
     "text": [
      "PIDs with all stage 2 covariates: 2399\n"
     ]
    }
   ],
   "source": [
    "# now stage 2 \n",
    "cols2 = [\"educat\", \"alcoh\", \"evsmok15\"]\n",
    "\n",
    "valid_data = covariates[cols2].notna().all(axis=1)\n",
    "\n",
    "valid_pid_count = covariates.loc[valid_data, \"PID\"].nunique()\n",
    "\n",
    "print(f\"PIDs with all stage 2 covariates: {valid_pid_count}\")"
   ]
  },
  {
   "cell_type": "code",
   "execution_count": 124,
   "id": "1a6fd631-a75d-4f05-ae81-00400a17dc7a",
   "metadata": {},
   "outputs": [
    {
     "name": "stdout",
     "output_type": "stream",
     "text": [
      "PIDs with all stage 1 and 2 covariates: 2398\n"
     ]
    }
   ],
   "source": [
    "# stage 1 and 2 combined: \n",
    "\n",
    "cols_1and2 = list(cols1)+cols2 \n",
    "\n",
    "valid_data = covariates[cols_1and2].notna().all(axis=1)\n",
    "\n",
    "valid_pid_count = covariates.loc[valid_data, \"PID\"].nunique()\n",
    "\n",
    "print(f\"PIDs with all stage 1 and 2 covariates: {valid_pid_count}\")"
   ]
  },
  {
   "cell_type": "code",
   "execution_count": 125,
   "id": "6c361dc4-b630-46df-8575-524fe20c0e79",
   "metadata": {},
   "outputs": [
    {
     "name": "stdout",
     "output_type": "stream",
     "text": [
      "PIDs with group 1 medication data: 2431\n"
     ]
    }
   ],
   "source": [
    "# okay now time to pull in medications. this will prob be messy. \n",
    "medications = pd.read_excel(filepath, sheet_name=\"medications\")\n",
    "\n",
    "#need to check in the two groups as well \n",
    "group2 = medications.loc[:,\"htnmed1\":\"ntg1\"].columns\n",
    "\n",
    "valid_data = medications[group1].notna().all(axis=1)\n",
    "valid_pid_count = medications.loc[valid_data, \"PID\"].nunique()\n",
    "\n",
    "print(f\"PIDs with group 1 medication data: {valid_pid_count}\")"
   ]
  },
  {
   "cell_type": "code",
   "execution_count": 126,
   "id": "e5a14ba0-74d8-48b6-a0fd-d0f71779d9db",
   "metadata": {},
   "outputs": [
    {
     "name": "stdout",
     "output_type": "stream",
     "text": [
      "PIDs with group 2 medication data: 2439\n"
     ]
    }
   ],
   "source": [
    "# okay now time to pull in medications. this will prob be messy. \n",
    "medications = pd.read_excel(filepath, sheet_name=\"medications\")\n",
    "\n",
    "#need to check in the two groups as well \n",
    "group2 = medications.loc[:,\"htnmed1\":\"ntg1\"].columns\n",
    "\n",
    "valid_data = medications[group2].notna().all(axis=1)\n",
    "valid_pid_count = medications.loc[valid_data, \"PID\"].nunique()\n",
    "\n",
    "print(f\"PIDs with group 2 medication data: {valid_pid_count}\")"
   ]
  },
  {
   "cell_type": "code",
   "execution_count": 127,
   "id": "e79f8757-7783-458e-8ceb-b1d3c68f254e",
   "metadata": {},
   "outputs": [
    {
     "name": "stdout",
     "output_type": "stream",
     "text": [
      "slpill15\n",
      "0.0    2285\n",
      "1.0     134\n",
      "8.0      12\n",
      "NaN       8\n",
      "Name: count, dtype: int64\n"
     ]
    }
   ],
   "source": [
    "print(medications[\"slpill15\"].value_counts(dropna=False))"
   ]
  },
  {
   "cell_type": "code",
   "execution_count": 128,
   "id": "dc2dff0a-0796-4093-a704-0f97342c21f3",
   "metadata": {},
   "outputs": [
    {
     "name": "stdout",
     "output_type": "stream",
     "text": [
      "PIDs with group 3 medication data: 2439\n"
     ]
    }
   ],
   "source": [
    "medications = pd.read_excel(filepath, sheet_name=\"medications\")\n",
    "\n",
    "\n",
    "group3 = ['ohga1', 'insuln1', 'ostrd1', 'sympth1', 'istrd1', 'benzod1']\n",
    "\n",
    "\n",
    "valid_data = medications[group3].notna().all(axis=1)\n",
    "valid_pid_count = medications.loc[valid_data, \"PID\"].nunique()\n",
    "\n",
    "print(f\"PIDs with group 3 medication data: {valid_pid_count}\")"
   ]
  },
  {
   "cell_type": "code",
   "execution_count": 129,
   "id": "fa790ca8-7e26-4fb2-8e1b-11c30d30a527",
   "metadata": {},
   "outputs": [
    {
     "name": "stdout",
     "output_type": "stream",
     "text": [
      "Unique PIDs taking any group1 medication: 265\n"
     ]
    }
   ],
   "source": [
    "# now to see the numbers actually taking the meds \n",
    "\n",
    "taking_any = (medications[group1] == 1.0).any(axis=1)\n",
    "\n",
    "unique_pid_count = medications.loc[taking_any, \"PID\"].nunique()\n",
    "print(f\"Unique PIDs taking any group1 medication: {unique_pid_count}\")\n"
   ]
  },
  {
   "cell_type": "code",
   "execution_count": 130,
   "id": "9aad4d92-ff40-4120-8ae3-23ae79f8cab4",
   "metadata": {},
   "outputs": [
    {
     "name": "stdout",
     "output_type": "stream",
     "text": [
      "Unique PIDs taking any group1 medication: 1444\n"
     ]
    }
   ],
   "source": [
    "taking_any = (medications[group2] == 1.0).any(axis=1)\n",
    "\n",
    "unique_pid_count = medications.loc[taking_any, \"PID\"].nunique()\n",
    "print(f\"Unique PIDs taking any group1 medication: {unique_pid_count}\")\n"
   ]
  },
  {
   "cell_type": "code",
   "execution_count": 131,
   "id": "850fa3ee-b395-414b-8e31-6e5af9845e64",
   "metadata": {},
   "outputs": [
    {
     "name": "stdout",
     "output_type": "stream",
     "text": [
      "Unique PIDs taking any group1 medication: 336\n"
     ]
    }
   ],
   "source": [
    "taking_any = (medications[group3] == 1.0).any(axis=1)\n",
    "\n",
    "unique_pid_count = medications.loc[taking_any, \"PID\"].nunique()\n",
    "print(f\"Unique PIDs taking any group1 medication: {unique_pid_count}\")\n"
   ]
  },
  {
   "cell_type": "markdown",
   "id": "22459347-32bf-4f34-9aad-ba182a9e7af1",
   "metadata": {
    "jp-MarkdownHeadingCollapsed": true
   },
   "source": [
    "#### Breaking down group 2 "
   ]
  },
  {
   "cell_type": "markdown",
   "id": "bc80dc35-b731-4706-a4e4-228f0f9a5ecf",
   "metadata": {},
   "source": [
    "'htnmed1', 'loop1', 'hctz1', 'hctzk1', 'ccbir1', 'ccbsr1', 'alpha1', 'alphad1', 'beta1', 'betad1', 'ccb1', \n",
    "'ace1', 'aced1', 'vaso1', 'vasod1', 'pvdl1', 'diuret1',\n",
    "'lipid1', 'warf1', 'pdei1', 'dig1', 'anar1a1', 'anar1b1', 'anar1c1', 'anar31', 'asa1','ntg1',\n",
    "\n",
    "\n",
    "Notes on diff groupings:\n",
    "* HTN med is 823, aspiring 929, and all others is 1026"
   ]
  },
  {
   "cell_type": "code",
   "execution_count": 684,
   "id": "bbd1757d-22d3-48bd-82a6-4712cd17e50b",
   "metadata": {},
   "outputs": [],
   "source": [
    "cardiac_renal = ['htnmed1', 'diuret1','alpha1', 'alphad1', 'beta1', 'betad1', 'ccb1','ace1', 'aced1','loop1', 'hctz1', 'hctzk1', 'ccbir1', 'ccbsr1', 'anar1a1', 'anar1b1', 'anar1c1', 'anar31', 'dig1']\n",
    "blood = ['vaso1', 'vasod1', 'pvdl1', 'warf1', 'pdei1','ntg1']\n",
    "asp = ['asa1']\n",
    "lipids = ['lipid1']"
   ]
  },
  {
   "cell_type": "code",
   "execution_count": 685,
   "id": "08b716cc-eddc-48c3-81f0-25969c0fcf66",
   "metadata": {},
   "outputs": [
    {
     "name": "stdout",
     "output_type": "stream",
     "text": [
      "Unique PIDs taking any htn medication: 871\n"
     ]
    }
   ],
   "source": [
    "taking_any = (medications[cardiac_renal] == 1.0).any(axis=1)\n",
    "\n",
    "unique_pid_count = medications.loc[taking_any, \"PID\"].nunique()\n",
    "print(f\"Unique PIDs taking any htn medication: {unique_pid_count}\")"
   ]
  },
  {
   "cell_type": "code",
   "execution_count": 686,
   "id": "e5b28bd9-b611-4803-a550-235f2020293f",
   "metadata": {},
   "outputs": [
    {
     "name": "stdout",
     "output_type": "stream",
     "text": [
      "Unique PIDs taking any aspirin medication: 132\n"
     ]
    }
   ],
   "source": [
    "taking_any = (medications[blood] == 1.0).any(axis=1)\n",
    "\n",
    "unique_pid_count = medications.loc[taking_any, \"PID\"].nunique()\n",
    "print(f\"Unique PIDs taking any aspirin medication: {unique_pid_count}\")"
   ]
  },
  {
   "cell_type": "code",
   "execution_count": 687,
   "id": "e388db82-d385-4b58-a30e-6a75927fa6fd",
   "metadata": {},
   "outputs": [
    {
     "name": "stdout",
     "output_type": "stream",
     "text": [
      "Unique PIDs taking all others: 929\n"
     ]
    }
   ],
   "source": [
    "taking_any = (medications[asp] == 1.0).any(axis=1)\n",
    "\n",
    "unique_pid_count = medications.loc[taking_any, \"PID\"].nunique()\n",
    "print(f\"Unique PIDs taking all others: {unique_pid_count}\")"
   ]
  },
  {
   "cell_type": "code",
   "execution_count": 689,
   "id": "e973302d-577b-4aef-8e4f-19e6ef3dbee2",
   "metadata": {},
   "outputs": [
    {
     "name": "stdout",
     "output_type": "stream",
     "text": [
      "Unique PIDs taking all others: 342\n"
     ]
    }
   ],
   "source": [
    "taking_any = (medications[lipids] == 1.0).any(axis=1)\n",
    "\n",
    "unique_pid_count = medications.loc[taking_any, \"PID\"].nunique()\n",
    "print(f\"Unique PIDs taking all others: {unique_pid_count}\")"
   ]
  },
  {
   "cell_type": "markdown",
   "id": "5e5629f7-9571-436b-9c2f-17cc29725c2a",
   "metadata": {
    "jp-MarkdownHeadingCollapsed": true
   },
   "source": [
    "## Okay moving back to the number of pids we have across the board"
   ]
  },
  {
   "cell_type": "code",
   "execution_count": 132,
   "id": "54a5d7da-bb54-4390-ad7c-dc84e26bf5c1",
   "metadata": {},
   "outputs": [
    {
     "name": "stdout",
     "output_type": "stream",
     "text": [
      "PIDs with group 1 and 2 medication data: 2431\n"
     ]
    }
   ],
   "source": [
    "# first, medication group 1 and 2 \n",
    "group1 = ['tca1', 'ntca1', 'slpill15']\n",
    "group2 = medications.loc[:,\"htnmed1\":\"ntg1\"].columns\n",
    "\n",
    "meds = group1 + list(group2)\n",
    "valid_data = medications[meds].notna().all(axis=1)\n",
    "valid_pid_count = medications.loc[valid_data, \"PID\"].nunique()\n",
    "\n",
    "print(f\"PIDs with group 1 and 2 medication data: {valid_pid_count}\")"
   ]
  },
  {
   "cell_type": "code",
   "execution_count": 133,
   "id": "07138af7-9057-4884-ba13-6aba279de11b",
   "metadata": {},
   "outputs": [],
   "source": [
    "cov_col = [\"PID\"] + cols_1and2\n",
    "med_col = [\"PID\"] + meds\n",
    "\n",
    "total_cov = covariates[cov_col]\n",
    "total_meds = medications[med_col]\n",
    "\n",
    "total = pd.merge(total_cov, total_meds, on=\"PID\", how=\"left\")"
   ]
  },
  {
   "cell_type": "code",
   "execution_count": 134,
   "id": "7579cd5c-dbbf-4853-81ff-305618b3bb48",
   "metadata": {},
   "outputs": [
    {
     "name": "stdout",
     "output_type": "stream",
     "text": [
      "PIDs with all stage 1-3 covariates: 2393\n"
     ]
    }
   ],
   "source": [
    "cols = total.loc[:,\"nsrr_age\":\"ntg1\"].columns\n",
    "\n",
    "valid_data = total[cols].notna().all(axis=1)\n",
    "\n",
    "valid_pid_count = total.loc[valid_data, \"PID\"].nunique()\n",
    "\n",
    "print(f\"PIDs with all stage 1-3 covariates: {valid_pid_count}\")"
   ]
  },
  {
   "cell_type": "markdown",
   "id": "79850e7c-ffdf-462c-9d6c-e9b22d9e221a",
   "metadata": {},
   "source": [
    "## and now for physical activity \n",
    "except i thinkthe code in prepping_mediatino_dataset might be more accurate for this part since i look at mismatched data too "
   ]
  },
  {
   "cell_type": "code",
   "execution_count": 136,
   "id": "7e62320a-d2fe-458f-8253-8d5760aec9a4",
   "metadata": {},
   "outputs": [],
   "source": [
    "aric_phys = pd.read_excel(filepath, sheet_name=\"Aric_phys\")\n",
    "fhs_phys = pd.read_excel(filepath, sheet_name=\"FHS_phys\")"
   ]
  },
  {
   "cell_type": "code",
   "execution_count": 139,
   "id": "288d5d87-6e57-479b-8494-6f90f1874e4c",
   "metadata": {},
   "outputs": [],
   "source": [
    "# here we need to sum together the values for variables ending in _2 into a new column\n",
    "activity_cols = fhs_phys.filter(regex='_2$', axis=1)\n",
    "# Sum across those columns for each row\n",
    "fhs_phys['total_activity_score'] = activity_cols.sum(axis=1)\n",
    "\n",
    "relevant_fhs = fhs_phys[[\"PID\", \"total_activity_score\"]].copy()"
   ]
  },
  {
   "cell_type": "code",
   "execution_count": 140,
   "id": "ba44dc87-6534-4fe4-a9c8-e946fd846d3b",
   "metadata": {},
   "outputs": [
    {
     "name": "stdout",
     "output_type": "stream",
     "text": [
      "Unique PIDs with physical activity data in ARIC or FHS: 2417\n"
     ]
    }
   ],
   "source": [
    "# Step 1: Get PIDs with any non-NaN data in aric_phys\n",
    "aric_valid = aric_phys.drop(columns=\"PID\").notna().any(axis=1)\n",
    "aric_pids = set(aric_phys.loc[aric_valid, \"PID\"])\n",
    "\n",
    "# Step 2: Get PIDs with any non-NaN data in relevant_fhs\n",
    "fhs_valid = relevant_fhs.drop(columns=\"PID\").notna().any(axis=1)\n",
    "fhs_pids = set(relevant_fhs.loc[fhs_valid, \"PID\"])\n",
    "\n",
    "# Step 3: Union of PIDs with any data in either set\n",
    "combined_pids = aric_pids | fhs_pids\n",
    "\n",
    "# Step 4: Count unique PIDs\n",
    "print(f\"Unique PIDs with physical activity data in ARIC or FHS: {len(combined_pids)}\")\n"
   ]
  },
  {
   "cell_type": "code",
   "execution_count": 141,
   "id": "77f91459-f270-4a22-b2fc-7d734e492834",
   "metadata": {},
   "outputs": [
    {
     "name": "stdout",
     "output_type": "stream",
     "text": [
      "Duplicate PIDs: 0\n",
      "Series([], Name: count, dtype: int64)\n"
     ]
    }
   ],
   "source": [
    "dup_pids = aric_phys[aric_phys.duplicated(subset=\"PID\")]\n",
    "print(f\"Duplicate PIDs: {len(dup_pids)}\")\n",
    "print(dup_pids[\"PID\"].value_counts())"
   ]
  },
  {
   "cell_type": "code",
   "execution_count": 142,
   "id": "cbdf21de-b993-4104-a449-eaec3708436d",
   "metadata": {},
   "outputs": [
    {
     "data": {
      "text/plain": [
       "1813"
      ]
     },
     "execution_count": 142,
     "metadata": {},
     "output_type": "execute_result"
    }
   ],
   "source": [
    "len(aric_phys)"
   ]
  },
  {
   "cell_type": "code",
   "execution_count": 143,
   "id": "bbf8722d-af93-4666-a22c-6ab4ca491896",
   "metadata": {},
   "outputs": [
    {
     "data": {
      "text/plain": [
       "2417"
      ]
     },
     "execution_count": 143,
     "metadata": {},
     "output_type": "execute_result"
    }
   ],
   "source": [
    "604+1813"
   ]
  },
  {
   "cell_type": "code",
   "execution_count": 144,
   "id": "b5e4cc18-6a13-4552-b4f4-0e1696e81216",
   "metadata": {},
   "outputs": [
    {
     "name": "stdout",
     "output_type": "stream",
     "text": [
      "Series([], Name: PID, dtype: object)\n"
     ]
    }
   ],
   "source": [
    "missing_rows = aric_phys[aric_phys[[\"RPAC8\"]].isna().any(axis=1)]\n",
    "print(missing_rows[\"PID\"])\n"
   ]
  },
  {
   "cell_type": "code",
   "execution_count": 145,
   "id": "d9cfedc1-d70a-4b7b-a057-edb0ca5fc9c9",
   "metadata": {},
   "outputs": [],
   "source": [
    "# getting a set that has unique pids in aric or fhs with data that we need \n",
    "\n",
    "valid_aric = aric_phys[aric_phys[\"RPAC8\"].notna() & aric_phys[\"PID\"].notna()]\n",
    "valid_fhs = relevant_fhs[relevant_fhs[\"total_activity_score\"].notna() & relevant_fhs[\"PID\"].notna()]\n",
    "\n",
    "phys_pids = set(valid_aric[\"PID\"]) | set(valid_fhs[\"PID\"])"
   ]
  },
  {
   "cell_type": "code",
   "execution_count": 146,
   "id": "e0adfcb3-c367-47b5-8a16-bbe8788fa80e",
   "metadata": {},
   "outputs": [
    {
     "name": "stdout",
     "output_type": "stream",
     "text": [
      "2393\n"
     ]
    }
   ],
   "source": [
    "# total has ALLL the other covariates, getting set here \n",
    "complete_total = total.drop(columns=\"PID\").notna().all(axis=1)\n",
    "complete_pids = set(total.loc[complete_total, \"PID\"])\n",
    "\n",
    "print(len(complete_pids))\n",
    "#2399 is also correct for covariates stages 1-3"
   ]
  },
  {
   "cell_type": "code",
   "execution_count": 147,
   "id": "e1e7efc4-b06c-4963-8606-a703594b1d0e",
   "metadata": {},
   "outputs": [
    {
     "name": "stdout",
     "output_type": "stream",
     "text": [
      "2417\n"
     ]
    }
   ],
   "source": [
    "print(len(phys_pids)) \n",
    "# 2417 pids with activity data which is right"
   ]
  },
  {
   "cell_type": "code",
   "execution_count": 148,
   "id": "a9b71eb7-feb0-43cf-b9d7-ccb0c6f23e9c",
   "metadata": {},
   "outputs": [
    {
     "name": "stdout",
     "output_type": "stream",
     "text": [
      "Unique PIDs with data in covariates, medications, and physical activity: 1800\n"
     ]
    }
   ],
   "source": [
    "\n",
    "# 4. Intersect all three sets to get final PIDs\n",
    "final_pids = complete_pids & phys_pids\n",
    "\n",
    "# 5. Print count\n",
    "print(f\"Unique PIDs with data in covariates, medications, and physical activity: {len(final_pids)}\")\n"
   ]
  },
  {
   "cell_type": "code",
   "execution_count": 149,
   "id": "ba9a5ca8-2f9e-42e3-bc26-ce1b438735b6",
   "metadata": {},
   "outputs": [
    {
     "name": "stdout",
     "output_type": "stream",
     "text": [
      "nsrr_race\n",
      "white    1800\n",
      "Name: count, dtype: int64\n"
     ]
    }
   ],
   "source": [
    "# Filter covariates to only final_pids\n",
    "final_covariates = covariates[covariates[\"PID\"].isin(final_pids)]\n",
    "\n",
    "# Count values in the 'nsrr_race' column\n",
    "race_counts = final_covariates[\"nsrr_race\"].value_counts()\n",
    "\n",
    "print(race_counts)\n"
   ]
  },
  {
   "cell_type": "code",
   "execution_count": 150,
   "id": "700b363f-ba06-4f9f-8c53-f18d2eef55ed",
   "metadata": {},
   "outputs": [
    {
     "ename": "NameError",
     "evalue": "name 'phys' is not defined",
     "output_type": "error",
     "traceback": [
      "\u001b[1;31m---------------------------------------------------------------------------\u001b[0m",
      "\u001b[1;31mNameError\u001b[0m                                 Traceback (most recent call last)",
      "Cell \u001b[1;32mIn[150], line 1\u001b[0m\n\u001b[1;32m----> 1\u001b[0m aric_phys_all \u001b[38;5;241m=\u001b[39m phys[[\u001b[38;5;124m\"\u001b[39m\u001b[38;5;124mPID\u001b[39m\u001b[38;5;124m\"\u001b[39m,\u001b[38;5;124m\"\u001b[39m\u001b[38;5;124mRPAC8\u001b[39m\u001b[38;5;124m\"\u001b[39m, \u001b[38;5;124m\"\u001b[39m\u001b[38;5;124mRPAC10\u001b[39m\u001b[38;5;124m\"\u001b[39m]]\u001b[38;5;241m.\u001b[39mcopy()\n\u001b[0;32m      2\u001b[0m aric_phys_all \u001b[38;5;241m=\u001b[39m aric_phys_all\u001b[38;5;241m.\u001b[39mloc[\u001b[38;5;124m\"\u001b[39m\u001b[38;5;124m0\u001b[39m\u001b[38;5;124m\"\u001b[39m:\u001b[38;5;124m\"\u001b[39m\u001b[38;5;124m1812\u001b[39m\u001b[38;5;124m\"\u001b[39m, :]\n\u001b[0;32m      3\u001b[0m \u001b[38;5;28mprint\u001b[39m(aric_phys_all)\n",
      "\u001b[1;31mNameError\u001b[0m: name 'phys' is not defined"
     ]
    }
   ],
   "source": [
    "aric_phys_all = phys[[\"PID\",\"RPAC8\", \"RPAC10\"]].copy()\n",
    "aric_phys_all = aric_phys_all.loc[\"0\":\"1812\", :]\n",
    "print(aric_phys_all)"
   ]
  },
  {
   "cell_type": "code",
   "execution_count": 795,
   "id": "11ba2bbe-d7bd-437b-b22a-8ef7ee440fb5",
   "metadata": {},
   "outputs": [
    {
     "name": "stdout",
     "output_type": "stream",
     "text": [
      "Number of rows where RPAC8 == 'Y' but RPAC10 is missing: 0\n",
      "Empty DataFrame\n",
      "Columns: [PID, RPAC8, RPAC10]\n",
      "Index: []\n"
     ]
    }
   ],
   "source": [
    "# Find rows where RPAC8 is 'Y' but RPAC10 is NaN\n",
    "violations = aric_phys_all[(aric_phys_all[\"RPAC8\"] == \"Y\") & (aric_phys_all[\"RPAC10\"].isna())]\n",
    "\n",
    "# Print results\n",
    "print(f\"Number of rows where RPAC8 == 'Y' but RPAC10 is missing: {len(violations)}\")\n",
    "print(violations[[\"PID\", \"RPAC8\", \"RPAC10\"]])\n"
   ]
  },
  {
   "cell_type": "code",
   "execution_count": null,
   "id": "57814394-8ac5-408c-98b1-93aa24d1ecd4",
   "metadata": {},
   "outputs": [],
   "source": []
  }
 ],
 "metadata": {
  "kernelspec": {
   "display_name": "Python 3 (ipykernel)",
   "language": "python",
   "name": "python3"
  },
  "language_info": {
   "codemirror_mode": {
    "name": "ipython",
    "version": 3
   },
   "file_extension": ".py",
   "mimetype": "text/x-python",
   "name": "python",
   "nbconvert_exporter": "python",
   "pygments_lexer": "ipython3",
   "version": "3.12.7"
  }
 },
 "nbformat": 4,
 "nbformat_minor": 5
}
