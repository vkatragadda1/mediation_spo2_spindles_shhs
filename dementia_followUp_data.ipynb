{
 "cells": [
  {
   "cell_type": "markdown",
   "id": "54021b40-19d8-4b9e-a5d4-ae49298b8967",
   "metadata": {},
   "source": [
    "## Extracting Time-To-Dementia Follow Up Data"
   ]
  },
  {
   "cell_type": "code",
   "execution_count": 1,
   "id": "010cb2dc-4d55-4b9e-a3d5-f0db3aaf2bc9",
   "metadata": {},
   "outputs": [],
   "source": [
    "# Load all packages\n",
    "import numpy as np\n",
    "import pandas as pd\n",
    "import openpyxl"
   ]
  },
  {
   "cell_type": "code",
   "execution_count": 2,
   "id": "eed55766-77c0-4bf3-aace-2d9f62c748ee",
   "metadata": {},
   "outputs": [
    {
     "name": "stdout",
     "output_type": "stream",
     "text": [
      "Number participants in total: 5793\n"
     ]
    }
   ],
   "source": [
    "# First step: Extract relevant PIDs (Those we have EEG/SpO2 data for) from mastersheet \n",
    "spo2_data = pd.read_excel(\"mastersheet.xlsx\", sheet_name = \"SPO2Final\")\n",
    "relevant_pids = spo2_data[[\"nsrrid\", \"PID\", \"Parent Study\"]].copy()\n",
    "print(\"Number participants in total:\", len(relevant_pids))"
   ]
  },
  {
   "cell_type": "code",
   "execution_count": 3,
   "id": "6ace008d-7497-4048-9a58-0daafe796e56",
   "metadata": {},
   "outputs": [],
   "source": [
    "# Load in the FHS and ARIC datasets with dementia follow up data, along with days from ARIC/FHS Visit 1 to PSG date \n",
    "\n",
    "aric_outcomes = pd.read_csv(\"datasets_FHS_ARIC_CHS_SHHS\\\\dataset_ARIC_2024b\\\\Main_Study\\\\V8T\\\\CSV\\\\status81_np.csv\")\n",
    "fhs_outcomes = pd.read_csv(\"datasets_FHS_ARIC_CHS_SHHS\\\\dataset_Framingham_Offspring_2023b\\\\Datasets\\\\CSV\\\\vr_demsurv_2018_a_1281d.csv\")\n",
    "days_to_psg=pd.read_csv(\"parent_shhs_pids.csv\")\n",
    "days_to_psg = days_to_psg[[\"PID\", \"days_studyv1\"]].copy()"
   ]
  },
  {
   "cell_type": "markdown",
   "id": "fff848e1-e745-4b9c-a3a8-9d07df891291",
   "metadata": {},
   "source": [
    "### FHS-OFF1 Data"
   ]
  },
  {
   "cell_type": "code",
   "execution_count": 4,
   "id": "a0f38179-7f1b-49b3-a9a0-1e1057ec9e86",
   "metadata": {},
   "outputs": [
    {
     "name": "stdout",
     "output_type": "stream",
     "text": [
      "Number of FOFF PIDs in spo2 but not in fhs_outcomes: 6\n"
     ]
    }
   ],
   "source": [
    "# How many participants do we have in spo2 dataset that are missing from fhs_outcomes? \n",
    "\n",
    "# Standardize the data type \n",
    "spo2_data[\"PID\"] = spo2_data[\"PID\"].astype(str).str.strip()\n",
    "spo2_data[\"Parent Study\"] = spo2_data[\"Parent Study\"].astype(str).str.strip()\n",
    "fhs_outcomes[\"PID\"] = fhs_outcomes[\"PID\"].astype(str).str.strip()\n",
    "\n",
    "# Filter SpO2 for FOFF participants only \n",
    "spo2_foff_filtered = spo2_data[(spo2_data[\"Parent Study\"] == \"FOFF\")]\n",
    "\n",
    "# Find PIDs in SPO2 data who are missing dementia follow-up data\n",
    "spo2_missing_foff_participants = set(spo2_foff_filtered[\"PID\"]) - set(fhs_outcomes[\"PID\"])\n",
    "\n",
    "# Output\n",
    "print(f\"Number of FOFF PIDs in spo2 but not in fhs_outcomes: {len(spo2_missing_foff_participants)}\")\n",
    "\n",
    "# Note: FHS-OFF1 documentation says that these 6 PIDs may not have consented to information sharing "
   ]
  },
  {
   "cell_type": "code",
   "execution_count": 5,
   "id": "785b0b25-7fba-428b-ae84-10c5314df76e",
   "metadata": {},
   "outputs": [
    {
     "name": "stdout",
     "output_type": "stream",
     "text": [
      "DEM_STATUS\n",
      "0    553\n",
      "1     62\n",
      "Name: count, dtype: int64\n"
     ]
    }
   ],
   "source": [
    "# Extract relevant follow up data for FOFF \n",
    "\n",
    "# If PID in SpO2 pids, pull out the relevant information \n",
    "spo2_pids = set(spo2_data[\"PID\"])\n",
    "fhs_filtered = fhs_outcomes[fhs_outcomes[\"PID\"].isin(spo2_pids)]\n",
    "\n",
    "fhs_dementia = fhs_filtered[[\"PID\", \"DEM_STATUS\", \"DEM_SURVDATE\"]].copy()\n",
    "\n",
    "# Checking count of participants with dementia (1) and without (0)\n",
    "print(fhs_dementia[\"DEM_STATUS\"].value_counts(dropna=False))"
   ]
  },
  {
   "cell_type": "code",
   "execution_count": 6,
   "id": "9db1c369-aed0-42c3-8b88-fdb1f4916776",
   "metadata": {},
   "outputs": [
    {
     "name": "stdout",
     "output_type": "stream",
     "text": [
      "Number participants total: 615\n",
      "Number participants with DoD: 217\n"
     ]
    }
   ],
   "source": [
    "# Pull out competing event (if date of death recorded) from relevant follow up dataset \n",
    "# Note: dod = date of death \n",
    "fhs_dod = pd.read_csv(\"datasets_FHS_ARIC_CHS_SHHS//dataset_Framingham_Offspring_2023b\\\\Datasets\\\\CSV\\\\vr_survdth_2019_a_1337d.csv\")\n",
    "\n",
    "# Standardize datatypes \n",
    "fhs_dod[\"PID\"] = fhs_dod[\"PID\"].astype(str).str.strip()\n",
    "fhs_dod[\"DATEDTH\"] = pd.to_numeric(fhs_dod[\"DATEDTH\"], errors=\"coerce\")\n",
    "\n",
    "# Filter out only those we have SpO2 data for and copy relevant columns \n",
    "fhs_dod_filtered = fhs_dod[fhs_dod[\"PID\"].isin(spo2_pids)]\n",
    "fhs_dod_final = fhs_dod_filtered[[\"PID\", \"DATEDTH\"]].copy()\n",
    "\n",
    "print(\"Number participants total:\", len(fhs_dod_final))\n",
    "print(f\"Number participants with DoD: {fhs_dod_final[\"DATEDTH\"].notna().sum()}\")"
   ]
  },
  {
   "cell_type": "code",
   "execution_count": 7,
   "id": "99557d79-5e47-4ebc-b263-8bbf8a63802d",
   "metadata": {},
   "outputs": [
    {
     "name": "stdout",
     "output_type": "stream",
     "text": [
      "615\n"
     ]
    }
   ],
   "source": [
    "# Merge DOD with dementia outcomes \n",
    "fhs_merged = pd.merge(fhs_dementia, fhs_dod_final, on=\"PID\", how=\"left\")\n",
    "print(len(fhs_merged))"
   ]
  },
  {
   "cell_type": "code",
   "execution_count": 8,
   "id": "1bcfbc19-156d-4b30-8b26-ae1419ac6945",
   "metadata": {},
   "outputs": [],
   "source": [
    "# Merge with PSG date \n",
    "fhs_final_dementia = pd.merge(fhs_merged, days_to_psg, on=\"PID\", how=\"left\")"
   ]
  },
  {
   "cell_type": "code",
   "execution_count": 9,
   "id": "fd3b3c2f-5102-42a0-ad2f-2c3d5f3a1394",
   "metadata": {},
   "outputs": [
    {
     "name": "stdout",
     "output_type": "stream",
     "text": [
      "Number participants with dementia and dod: 56\n",
      "Number with accurate data: 56\n"
     ]
    }
   ],
   "source": [
    "# Verify if any participants have a dementia diagnosis recorded after DOD to ensure data harmony \n",
    "\n",
    "print(f\"Number participants with dementia and dod: {((fhs_final_dementia[\"DATEDTH\"].notna()) & (fhs_final_dementia[\"DEM_STATUS\"] == 1)).sum()}\")\n",
    "\n",
    "dod_dementia_comparison = fhs_final_dementia[\n",
    "    (fhs_final_dementia[\"DEM_STATUS\"] == 1) &\n",
    "    (fhs_final_dementia[\"DEM_SURVDATE\"] < fhs_final_dementia[\"DATEDTH\"])\n",
    "]\n",
    "\n",
    "print(f\"Number with accurate data: {len(dod_dementia_comparison)}\")\n",
    "\n",
    "# All 56 participants with a DOD have a dementia diagnosis occurring before the dod, and none on the same day "
   ]
  },
  {
   "cell_type": "code",
   "execution_count": 10,
   "id": "a9d8f2f7-997c-4090-b4b5-50bf3462d93b",
   "metadata": {},
   "outputs": [
    {
     "name": "stdout",
     "output_type": "stream",
     "text": [
      "Number FHS participants with data: 615\n",
      "Number with dementia diagnosis: 62\n"
     ]
    }
   ],
   "source": [
    "# Calculate DOD and dementia diagnosis date from PSG date \n",
    "# Note: DEM_SURVDATE is either the date of dementia diagnosis OR the date of last follow up for participants without dementia \n",
    "fhs_final_dementia[\"fhs_dementia_from_psg\"] = fhs_final_dementia[\"DEM_SURVDATE\"] - fhs_final_dementia[\"days_studyv1\"]\n",
    "fhs_final_dementia[\"fhs_dod_from_psg\"] = fhs_final_dementia[\"DATEDTH\"] - fhs_final_dementia[\"days_studyv1\"]\n",
    "\n",
    "print(f\"Number FHS participants with data: {len(fhs_final_dementia)}\")\n",
    "print(f\"Number with dementia diagnosis: {(fhs_final_dementia[\"DEM_STATUS\"]==1).sum()}\")"
   ]
  },
  {
   "cell_type": "markdown",
   "id": "401f85b3-d5f0-4fa1-942d-890b1de7ebc4",
   "metadata": {},
   "source": [
    "### ARIC Data"
   ]
  },
  {
   "cell_type": "code",
   "execution_count": 11,
   "id": "bbb5aad7-8a0f-4a61-ad32-640f69a2248c",
   "metadata": {},
   "outputs": [
    {
     "name": "stdout",
     "output_type": "stream",
     "text": [
      "Number of ARIC PIDs in spo2 but not in aric_outcomes: 90\n"
     ]
    }
   ],
   "source": [
    "# How many participants do we have in the Spo2 dataset that are missing ARIC follow up data? \n",
    "aric_outcomes[\"ID_C\"] = aric_outcomes[\"ID_C\"].astype(str).str.strip()\n",
    "\n",
    "# Filter spo2 for ARIC participants \n",
    "spo2_aric_filtered = spo2_data[(spo2_data[\"Parent Study\"] == \"ARIC\")]\n",
    "\n",
    "# Find PIDs in SPO2 dataset but not in ARIC outcomes\n",
    "spo2_aric = set(spo2_aric_filtered[\"PID\"]) - set(aric_outcomes[\"ID_C\"])\n",
    "\n",
    "# Output\n",
    "print(f\"Number of ARIC PIDs in spo2 but not in aric_outcomes: {len(spo2_aric)}\")"
   ]
  },
  {
   "cell_type": "code",
   "execution_count": 12,
   "id": "fbcf095c-2dfe-43dd-9331-23a3a74bd8bb",
   "metadata": {},
   "outputs": [
    {
     "name": "stdout",
     "output_type": "stream",
     "text": [
      "DEMDXL3_81\n",
      "0    1400\n",
      "1     424\n",
      "Name: count, dtype: int64\n"
     ]
    }
   ],
   "source": [
    "# Extract follow up data \n",
    "aric_filtered = aric_outcomes[aric_outcomes[\"ID_C\"].isin(spo2_pids)]\n",
    "aric_dementia = aric_filtered[[\"ID_C\", \"DEMDXL3_81\", \"COXDATE_DEMDXL3_81_FOLLOWUPDAYS\", \"DATEOFDEATH_FOLLOWUPDAYS\"]].copy()\n",
    "aric_dementia.rename(columns={\"ID_C\":\"PID\"}, inplace=True)\n",
    "\n",
    "print(aric_dementia[\"DEMDXL3_81\"].value_counts(dropna=False))"
   ]
  },
  {
   "cell_type": "code",
   "execution_count": 13,
   "id": "e529521c-f9be-45ed-8c9f-69b5ba6a566e",
   "metadata": {},
   "outputs": [],
   "source": [
    "# Merge days from psg \n",
    "aric_final_dementia = pd.merge(aric_dementia, days_to_psg, on=\"PID\", how=\"left\")"
   ]
  },
  {
   "cell_type": "code",
   "execution_count": 14,
   "id": "42c144f7-a32d-4ad2-8a6b-70d8a895228c",
   "metadata": {},
   "outputs": [
    {
     "name": "stdout",
     "output_type": "stream",
     "text": [
      "Number participants with dementia and dod: 318\n",
      "Number with accurate data: 318\n"
     ]
    }
   ],
   "source": [
    "# Ensure that dod is on/after dementia diagnosis date \n",
    "\n",
    "print(f\"Number participants with dementia and dod: {(aric_final_dementia[\"DATEOFDEATH_FOLLOWUPDAYS\"].notna() & (aric_final_dementia[\"DEMDXL3_81\"] == 1)).sum()}\")\n",
    "\n",
    "dod_dementia_comparison = aric_final_dementia[\n",
    "    (aric_final_dementia[\"DEMDXL3_81\"] == 1) &\n",
    "    (aric_final_dementia[\"COXDATE_DEMDXL3_81_FOLLOWUPDAYS\"] <= aric_final_dementia[\"DATEOFDEATH_FOLLOWUPDAYS\"])\n",
    "]\n",
    "\n",
    "print(\"Number with accurate data:\", len(dod_dementia_comparison))\n",
    "\n",
    "# all participants with a date of death occurred after dementia diagnosis (none on same day)"
   ]
  },
  {
   "cell_type": "code",
   "execution_count": 15,
   "id": "4f40d6f7-f6b2-4bcb-b69e-058cd9954bb6",
   "metadata": {},
   "outputs": [
    {
     "name": "stdout",
     "output_type": "stream",
     "text": [
      "Number ARIC participants with data: 1824\n",
      "Number with dementia diagnosis: 424\n"
     ]
    }
   ],
   "source": [
    "# Calculate DOD/dementia diagnosis date from PSG date \n",
    "# Note: COXDATE_DEMDXL3_81_FOLLOWUPDAYS is either the date of dementia diagnosis OR the date of last follow up for participants without dementia \n",
    "aric_final_dementia[\"aric_dementia_from_psg\"] = aric_final_dementia[\"COXDATE_DEMDXL3_81_FOLLOWUPDAYS\"] - aric_final_dementia[\"days_studyv1\"]\n",
    "aric_final_dementia[\"aric_dod_from_psg\"] = aric_final_dementia[\"DATEOFDEATH_FOLLOWUPDAYS\"] - aric_final_dementia[\"days_studyv1\"]\n",
    "\n",
    "print(f\"Number ARIC participants with data: {len(aric_final_dementia)}\")\n",
    "print(f\"Number with dementia diagnosis: {(aric_final_dementia[\"DEMDXL3_81\"]==1).sum()}\")"
   ]
  },
  {
   "cell_type": "markdown",
   "id": "186a493a-0b9a-43da-838c-74cf91d9104b",
   "metadata": {},
   "source": [
    "### Merge datasets to mastersheet"
   ]
  },
  {
   "cell_type": "code",
   "execution_count": 16,
   "id": "1b03e96a-7c9b-48c1-a0ed-44de10f930d7",
   "metadata": {},
   "outputs": [],
   "source": [
    "#with pd.ExcelWriter(\"mastersheet.xlsx\", mode=\"a\", engine=\"openpyxl\", if_sheet_exists=\"overlay\") as writer:\n",
    "    #fhs_final_dementia.to_excel(writer, sheet_name=\"DementiaFHS\", index=False)"
   ]
  },
  {
   "cell_type": "code",
   "execution_count": 17,
   "id": "42f52218-1204-42e3-b1af-ca8f0c90b57d",
   "metadata": {},
   "outputs": [],
   "source": [
    "#with pd.ExcelWriter(\"mastersheet.xlsx\", mode=\"a\", engine=\"openpyxl\", if_sheet_exists=\"overlay\") as writer:\n",
    "    #aric_final_dementia.to_excel(writer, sheet_name=\"DementiaARIC\", index=False)"
   ]
  }
 ],
 "metadata": {
  "kernelspec": {
   "display_name": "Python 3 (ipykernel)",
   "language": "python",
   "name": "python3"
  },
  "language_info": {
   "codemirror_mode": {
    "name": "ipython",
    "version": 3
   },
   "file_extension": ".py",
   "mimetype": "text/x-python",
   "name": "python",
   "nbconvert_exporter": "python",
   "pygments_lexer": "ipython3",
   "version": "3.12.7"
  }
 },
 "nbformat": 4,
 "nbformat_minor": 5
}
