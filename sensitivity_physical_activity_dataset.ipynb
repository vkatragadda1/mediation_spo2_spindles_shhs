{
 "cells": [
  {
   "cell_type": "markdown",
   "id": "a5cb3d65-74f8-4b6c-b563-e4351b0a0b8e",
   "metadata": {},
   "source": [
    "## Generating dataset with physical activity as a covariate\n",
    "\n",
    "This code converts physical activity data into a binary variable to use in the relevant mediation model script. "
   ]
  },
  {
   "cell_type": "code",
   "execution_count": 1,
   "id": "12b42a62-8269-450b-b3e6-58912b14b806",
   "metadata": {},
   "outputs": [],
   "source": [
    "# Load necessary libraries \n",
    "import numpy as np\n",
    "import pandas as pd"
   ]
  },
  {
   "cell_type": "code",
   "execution_count": 2,
   "id": "51fa3075-49b1-41b7-834c-1b00d2476576",
   "metadata": {},
   "outputs": [],
   "source": [
    "# Load physical activity data from mastersheet\n",
    "aric_data = pd.read_excel(\"mastersheet.xlsx\", sheet_name=\"Aric_phys\")\n",
    "fhs_data = pd.read_excel(\"mastersheet.xlsx\", sheet_name=\"FHS_phys\")"
   ]
  },
  {
   "cell_type": "code",
   "execution_count": 3,
   "id": "2669776a-be23-43f4-a3c1-ba6af69c3c46",
   "metadata": {},
   "outputs": [],
   "source": [
    "# Load final pid list from mediation_model_dataset\n",
    "mediation_dataset = pd.read_csv(\"mediation_model_dataset.csv\")\n",
    "mediation_dataset[\"PID\"] = mediation_dataset[\"PID\"].astype(str)\n",
    "pids = mediation_dataset[\"PID\"].tolist()\n"
   ]
  },
  {
   "cell_type": "code",
   "execution_count": 4,
   "id": "3fb09ee0-9235-425d-be67-87cb9847dee1",
   "metadata": {},
   "outputs": [
    {
     "name": "stdout",
     "output_type": "stream",
     "text": [
      "486\n",
      "1537\n"
     ]
    }
   ],
   "source": [
    "# Standardize PID columns \n",
    "fhs_data[\"PID\"] = fhs_data[\"PID\"].astype(str)\n",
    "aric_data[\"PID\"] = aric_data[\"PID\"].astype(str)\n",
    "\n",
    "fhs_final = fhs_data[fhs_data[\"PID\"].isin(pids)].copy()\n",
    "aric_final = aric_data[aric_data[\"PID\"].isin(pids)].copy()\n",
    "\n",
    "print(len(fhs_final))\n",
    "print(len(aric_final))"
   ]
  },
  {
   "cell_type": "code",
   "execution_count": 5,
   "id": "4e5277eb-4af7-4d01-9dee-e9eba791e0ba",
   "metadata": {},
   "outputs": [
    {
     "data": {
      "text/plain": [
       "RPAC8\n",
       "Y    1135\n",
       "N     402\n",
       "Name: count, dtype: int64"
      ]
     },
     "execution_count": 5,
     "metadata": {},
     "output_type": "execute_result"
    }
   ],
   "source": [
    "# RPAC8 is exercise/play sports during the year\n",
    "aric_final[\"RPAC8\"].value_counts(dropna=False)"
   ]
  },
  {
   "cell_type": "code",
   "execution_count": 6,
   "id": "2ed97bf0-4c95-4489-9e00-46e7040e75a0",
   "metadata": {},
   "outputs": [
    {
     "name": "stdout",
     "output_type": "stream",
     "text": [
      "exercise\n",
      "0.0     402\n",
      "1.0    1135\n",
      "NaN     486\n",
      "Name: count, dtype: int64\n"
     ]
    }
   ],
   "source": [
    "# ARIC activity first  \n",
    "\n",
    "# Map 'Y' → 1, 'N' → 0 based on RPAC8 values \n",
    "rpac8_map = aric_final.set_index(\"PID\")[\"RPAC8\"].map({\"Y\": 1, \"N\": 0})\n",
    "\n",
    "# Create new column in med_dataset using the map\n",
    "mediation_dataset[\"exercise\"] = mediation_dataset[\"PID\"].map(rpac8_map)\n",
    "\n",
    "print(mediation_dataset[\"exercise\"].value_counts(dropna=False).sort_index())\n",
    "\n",
    "# 486 NaN values are from FHS "
   ]
  },
  {
   "cell_type": "code",
   "execution_count": 7,
   "id": "d6f4cd9f-3751-4c09-88ab-11621143359e",
   "metadata": {},
   "outputs": [
    {
     "name": "stdout",
     "output_type": "stream",
     "text": [
      "exercise_score\n",
      "0.0      2\n",
      "1.0      2\n",
      "3.0      3\n",
      "4.0      6\n",
      "5.0      5\n",
      "        ..\n",
      "133.0    1\n",
      "146.0    1\n",
      "157.0    1\n",
      "171.0    1\n",
      "285.0    1\n",
      "Name: count, Length: 99, dtype: int64\n"
     ]
    }
   ],
   "source": [
    "# Repeat process for FHS \n",
    "\n",
    "# Variables ending in _2 contain the number of sports/activities played over the year. FHS breaks them down into categories \n",
    "# Sum together all the variables to create an exercise score \n",
    "fhs_subset = fhs_final.filter(regex=\"_2$\")\n",
    "fhs_final[\"exercise_score\"] = fhs_subset.sum(axis=1)    \n",
    "print(fhs_final[\"exercise_score\"].value_counts(dropna=False).sort_index())"
   ]
  },
  {
   "cell_type": "code",
   "execution_count": 8,
   "id": "51b00903-d3d4-4114-8da9-00eeebf783b9",
   "metadata": {},
   "outputs": [
    {
     "name": "stdout",
     "output_type": "stream",
     "text": [
      "exercise_binary\n",
      "0      2\n",
      "1    484\n",
      "Name: count, dtype: int64\n"
     ]
    }
   ],
   "source": [
    "# Now convert these values into a binary \n",
    "fhs_final[\"exercise_binary\"] = (fhs_final[\"exercise_score\"] > 0).astype(int)\n",
    "\n",
    "print(fhs_final[\"exercise_binary\"].value_counts(dropna=False).sort_index())"
   ]
  },
  {
   "cell_type": "code",
   "execution_count": 9,
   "id": "ced40216-71ce-4144-bdfa-3bf2725a960e",
   "metadata": {},
   "outputs": [
    {
     "name": "stdout",
     "output_type": "stream",
     "text": [
      "exercise\n",
      "0.0     404\n",
      "1.0    1619\n",
      "Name: count, dtype: int64\n"
     ]
    }
   ],
   "source": [
    "# Merge the FHS values into the overall df now using a map \n",
    "# Create mapping\n",
    "exercise_map = fhs_final.set_index(\"PID\")[\"exercise_binary\"].to_dict()\n",
    "mediation_dataset[\"PID\"] = mediation_dataset[\"PID\"].astype(str)\n",
    "fhs_final[\"PID\"] = fhs_final[\"PID\"].astype(str)\n",
    "\n",
    "# Only update missing values, rather than replacing the ARIC participant values \n",
    "for i, row in mediation_dataset.iterrows():\n",
    "    if pd.isna(row[\"exercise\"]):\n",
    "        pid = row[\"PID\"]\n",
    "        if pid in exercise_map:\n",
    "            mediation_dataset.at[i, \"exercise\"] = exercise_map[pid]\n",
    "\n",
    "print(mediation_dataset[\"exercise\"].value_counts(dropna=False).sort_index())"
   ]
  },
  {
   "cell_type": "code",
   "execution_count": 10,
   "id": "1dc0b0b2-8b43-4b62-9071-8dceb40fe848",
   "metadata": {},
   "outputs": [],
   "source": [
    "# Now storing data as a CSV to run mediation model  \n",
    "\n",
    "#med_dataset.to_csv(\"exercise_med_datset.csv\", index=False)"
   ]
  },
  {
   "cell_type": "markdown",
   "id": "9067dbd9-67e7-4578-b5d2-64d78639016a",
   "metadata": {},
   "source": [
    "## Mediation Figures \n",
    "Creating a clean dataset to format as a table for performance metrics and mediation results. "
   ]
  },
  {
   "cell_type": "code",
   "execution_count": 11,
   "id": "dc7bae92-351d-47fc-9839-cbdccdc41b3d",
   "metadata": {},
   "outputs": [
    {
     "name": "stdout",
     "output_type": "stream",
     "text": [
      "                 Exposure           Mediator   RMSE  SD (Mediator)  \\\n",
      "0  Avg Baseline SpO₂ NREM    Spindle Density  0.866          0.932   \n",
      "1  Avg Baseline SpO₂ NREM      Spindle Chirp  0.116          0.123   \n",
      "2  Avg Baseline SpO₂ NREM  SO Phase Coupling  0.204          0.215   \n",
      "3          Hypoxic Burden    Spindle Density  0.864          0.932   \n",
      "4          Hypoxic Burden      Spindle Chirp  0.116          0.123   \n",
      "5          Hypoxic Burden  SO Phase Coupling  0.204          0.215   \n",
      "\n",
      "       C-Index [95% CI]    AUC (10y) [95% CI]    AUC (15y) [95% CI]  \n",
      "0  0.787\\n[0.765–0.808]  0.833\\n[0.773–0.894]  0.822\\n[0.786–0.858]  \n",
      "1  0.784\\n[0.762–0.806]  0.826\\n[0.764–0.888]  0.816\\n[0.779–0.854]  \n",
      "2  0.784\\n[0.762–0.806]  0.825\\n[0.763–0.887]  0.816\\n[0.779–0.853]  \n",
      "3  0.787\\n[0.765–0.809]  0.834\\n[0.773–0.894]  0.823\\n[0.786–0.859]  \n",
      "4  0.784\\n[0.762–0.806]  0.826\\n[0.764–0.889]  0.817\\n[0.779–0.854]  \n",
      "5  0.784\\n[0.762–0.806]  0.825\\n[0.763–0.887]  0.817\\n[0.779–0.854]  \n"
     ]
    }
   ],
   "source": [
    "# Making formatted df with performance results for the significant pathways only \n",
    "\n",
    "# First import xlsx file and drop irrelevant columns\n",
    "results = pd.read_excel(\"med_results_physAct_7.9.2025.xlsx\", sheet_name=\"Group4\")\n",
    "results = results.drop(columns={\"ACME_Bootstrap_Success\", \"Covariate_Set\", \"N_Used\", \"ADE_Bootstrap_Success\", \"AUC_5y\"})\n",
    "results = results.drop(columns=results.loc[:, \"ACME\":\"ADE_pval_empirical\"].columns)\n",
    "\n",
    "# Rename the relevant columns \n",
    "results = results.rename(columns={\"Std_Dev_Y\":\"SD (Mediator)\",\n",
    "                                         \"C_Index\":\"C-Index\", \"AUC_10y\":\"AUC (10y)\", \"AUC_15y\":\"AUC (15y)\"})\n",
    "\n",
    "# Rename exposure/mediator variables with mapping \n",
    "exposure_map = {\n",
    "    \"avg_spo2_no_desat_NREM\": \"Avg Baseline SpO₂ NREM\",\n",
    "    \"hb_desat\": \"Hypoxic Burden\"\n",
    "}\n",
    "mediator_map = {\n",
    "    \"SP_DENS_all_C\": \"Spindle Density\",\n",
    "    \"SP_CHIRP_all_C\": \"Spindle Chirp\",\n",
    "    \"SP_R_PHASE_IF_all_C\": \"SO Phase Coupling\"\n",
    "}\n",
    "results[\"Exposure\"] = results[\"Exposure\"].replace(exposure_map)\n",
    "results[\"Mediator\"] = results[\"Mediator\"].replace(mediator_map)\n",
    "\n",
    "# Round values \n",
    "cols_to_round = [\"RMSE\", \"SD (Mediator)\", \"C-Index\", \"AUC (10y)\", \"AUC (15y)\"] \n",
    "results[cols_to_round] = results[cols_to_round].round(3)\n",
    "\n",
    "# Format to show CI values in brackets under the performance value \n",
    "for metric, lower, upper in [\n",
    "    (\"C-Index\", \"C_Index_CI_Lower\", \"C_Index_CI_Upper\"),\n",
    "    (\"AUC (10y)\", \"AUC_10y_CI_Lower\", \"AUC_10y_CI_Upper\"),\n",
    "    (\"AUC (15y)\", \"AUC_15y_CI_Lower\", \"AUC_15y_CI_Upper\")\n",
    "]:\n",
    "    results[f\"{metric} [95% CI]\"] = results.apply(\n",
    "        lambda row: f\"{row[metric]:.3f}\\n[{row[lower]:.3f}–{row[upper]:.3f}]\", axis=1\n",
    "    )\n",
    "\n",
    "# Drop individual columns \n",
    "results.drop(columns=[\"C-Index\", \"AUC (10y)\", \"AUC (15y)\", \"C_Index_CI_Lower\", \"C_Index_CI_Upper\",\n",
    "                      \"AUC_10y_CI_Lower\", \"AUC_10y_CI_Upper\",\n",
    "                      \"AUC_15y_CI_Lower\", \"AUC_15y_CI_Upper\"], inplace=True)\n",
    "\n",
    "print(results)"
   ]
  },
  {
   "cell_type": "code",
   "execution_count": 12,
   "id": "8bd7cb3c-74d9-4c3d-a837-b5e2b8897687",
   "metadata": {},
   "outputs": [],
   "source": [
    "# Export df to excel\n",
    "#results.to_excel(\"NAME FILE.xlsx\", index=False)"
   ]
  },
  {
   "cell_type": "code",
   "execution_count": 13,
   "id": "bd0e9cd7-d505-4827-a310-96ca0ecfe8f5",
   "metadata": {},
   "outputs": [
    {
     "name": "stdout",
     "output_type": "stream",
     "text": [
      "Index(['Exposure', 'Mediator', 'ACME', 'ACME_CI_Lower', 'ACME_CI_Upper',\n",
      "       'ACME_pval_empirical', 'ADE', 'ADE_CI_Lower', 'ADE_CI_Upper',\n",
      "       'ADE_pval_empirical', 'Total_Effect', 'Total_Effect_CI_Lower',\n",
      "       'Total_Effect_CI_Upper', 'TE_pval_empirical', 'ACME [95% CI]',\n",
      "       'ADE [95% CI]', 'Total_Effect [95% CI]'],\n",
      "      dtype='object')\n",
      "                              Exposure                   Mediator  \\\n",
      "0  Avg Desat-Removed Basal SpO₂ (NREM)            Spindle Density   \n",
      "1  Avg Desat-Removed Basal SpO₂ (NREM)              Spindle Chirp   \n",
      "2  Avg Desat-Removed Basal SpO₂ (NREM)  Spindle-SO Coupling Phase   \n",
      "3                       Hypoxic Burden            Spindle Density   \n",
      "4                       Hypoxic Burden              Spindle Chirp   \n",
      "5                       Hypoxic Burden  Spindle-SO Coupling Phase   \n",
      "\n",
      "          ACME [95% CI] ACME \\np-value              ADE [95% CI] ADE p-value  \\\n",
      "0   138.5\\n[4.9, 354.6]          0.034  539.3\\n[-1675.8, 2676.2]       0.645   \n",
      "1  11.1\\n[-87.9, 117.6]          0.775  643.7\\n[-1493.0, 3081.0]       0.531   \n",
      "2  27.7\\n[-40.1, 145.9]          0.485  623.9\\n[-1370.7, 3004.4]       0.535   \n",
      "3     44.7\\n[6.0, 98.8]          0.022    -87.4\\n[-568.9, 272.8]       0.579   \n",
      "4    5.4\\n[-12.8, 29.9]          0.584    -42.9\\n[-525.6, 313.1]       0.804   \n",
      "5   12.3\\n[-16.8, 45.4]          0.345    -56.2\\n[-535.9, 302.3]       0.738   \n",
      "\n",
      "                TE [95% CI] TE p-value  \n",
      "0  683.6\\n[-1583.9, 2866.5]      0.522  \n",
      "1  655.4\\n[-1494.2, 3086.8]      0.525  \n",
      "2  653.0\\n[-1329.9, 3023.3]      0.523  \n",
      "3    -42.4\\n[-519.5, 308.4]      0.766  \n",
      "4    -37.5\\n[-511.8, 313.3]      0.814  \n",
      "5    -43.8\\n[-529.8, 320.0]      0.774  \n"
     ]
    }
   ],
   "source": [
    "# Repeating process, but now creating the results df \n",
    "\n",
    "# Pick out columns from data \n",
    "results = pd.read_excel(\"med_results_physAct_7.9.2025.xlsx\", sheet_name=\"Group4\")\n",
    "data = results[[\"Exposure\",\"Mediator\", \"ACME\", \"ACME_CI_Lower\", \"ACME_CI_Upper\", \"ACME_pval_empirical\", \n",
    "                \"ADE\", \"ADE_CI_Lower\", \"ADE_CI_Upper\", \"ADE_pval_empirical\",\n",
    "                \"Total_Effect\", \"Total_Effect_CI_Lower\", \"Total_Effect_CI_Upper\", \"TE_pval_empirical\"]].copy()\n",
    "\n",
    "# Rename exposure/mediator variables \n",
    "exposure_map = {\n",
    "    \"avg_spo2_no_desat_NREM\": \"Avg Desat-Removed Basal SpO₂ (NREM)\",\n",
    "    \"hb_desat\": \"Hypoxic Burden\"\n",
    "}\n",
    "mediator_map = {\n",
    "    \"SP_DENS_all_C\": \"Spindle Density\",\n",
    "    \"SP_CHIRP_all_C\": \"Spindle Chirp\",\n",
    "    \"SP_R_PHASE_IF_all_C\": \"Spindle-SO Coupling Phase\"\n",
    "}\n",
    "data[\"Exposure\"] = data[\"Exposure\"].replace(exposure_map)\n",
    "data[\"Mediator\"] = data[\"Mediator\"].replace(mediator_map)\n",
    "\n",
    "\n",
    "# Sign transform for Hypoxic Burden rows (multiplying by -1 to enhance interpretability) \n",
    "mask = data[\"Exposure\"] == \"Hypoxic Burden\"\n",
    "cols_to_flip = [\n",
    "    \"ACME\", \"ACME_CI_Lower\", \"ACME_CI_Upper\",\n",
    "    \"ADE\", \"ADE_CI_Lower\", \"ADE_CI_Upper\",\n",
    "    \"Total_Effect\", \"Total_Effect_CI_Lower\", \"Total_Effect_CI_Upper\"\n",
    "]\n",
    "for col in cols_to_flip:\n",
    "    data.loc[mask, col] = pd.to_numeric(data.loc[mask, col], errors='coerce') * -1\n",
    "\n",
    "\n",
    "# Format p-values to always show 3 decimal places \n",
    "for col in [\"ACME_pval_empirical\", \"ADE_pval_empirical\", \"TE_pval_empirical\"]:\n",
    "    data[col] = data[col].apply(lambda x: f\"{x:.3f}\" if pd.notna(x) else \"\")\n",
    "\n",
    "# Format other numeric columns (except Exposure/Mediator) to 1 decimal places\n",
    "for col in data.columns:\n",
    "    if col not in [\"Exposure\", \"Mediator\", \"ACME_pval_empirical\", \"ADE_pval_empirical\", \"TE_pval_empirical\"]:\n",
    "        if pd.api.types.is_numeric_dtype(data[col]):\n",
    "            data[col] = data[col].apply(lambda x: f\"{x:.1f}\" if pd.notna(x) else \"\")\n",
    "\n",
    "\n",
    "# Format to show CI values in brackets under the performance value \n",
    "# Also need to flip hypoxic burden CI to upper-lower, since we multiplied by -1 \n",
    "for metric, lower, upper in [\n",
    "    (\"ACME\", \"ACME_CI_Lower\", \"ACME_CI_Upper\"),\n",
    "    (\"ADE\", \"ADE_CI_Lower\", \"ADE_CI_Upper\"),\n",
    "    (\"Total_Effect\", \"Total_Effect_CI_Lower\", \"Total_Effect_CI_Upper\")\n",
    "]:\n",
    "    data[f\"{metric} [95% CI]\"] = data.apply(\n",
    "        lambda row: (\n",
    "            f\"{row[metric]}\\n[{row[upper]}, {row[lower]}]\"\n",
    "            if row[\"Exposure\"] == \"Hypoxic Burden\"\n",
    "            else f\"{row[metric]}\\n[{row[lower]}, {row[upper]}]\"\n",
    "        ),\n",
    "        axis=1\n",
    "    )\n",
    "\n",
    "print(data.columns)\n",
    "\n",
    "# Drop the separated CI columns\n",
    "data.drop(columns=[\n",
    "    \"ACME_CI_Lower\", \"ACME_CI_Upper\",\n",
    "    \"ADE_CI_Lower\", \"ADE_CI_Upper\",\n",
    "    \"Total_Effect_CI_Lower\", \"Total_Effect_CI_Upper\"\n",
    "], inplace=True)\n",
    "\n",
    "\n",
    "# Rename columns \n",
    "data = data.rename(columns={\"ACME_pval_empirical\":\"ACME \\np-value\",\n",
    "                            \"ADE_pval_empirical\": \"ADE p-value\",\n",
    "                            \"TE_pval_empirical\":\"TE p-value\",\n",
    "                            \"Total_Effect [95% CI]\":\"TE [95% CI]\"})\n",
    "\n",
    "# Reorder columns \n",
    "col_order = [\n",
    "    \"Exposure\", \"Mediator\",\n",
    "    \"ACME [95% CI]\", \"ACME \\np-value\",\n",
    "     \"ADE [95% CI]\", \"ADE p-value\",\n",
    "     \"TE [95% CI]\", \"TE p-value\"\n",
    "]\n",
    "data = data[col_order]\n",
    "\n",
    "\n",
    "print(data)"
   ]
  },
  {
   "cell_type": "code",
   "execution_count": 14,
   "id": "19743e9a-d22c-40b4-841f-b0398b5634e8",
   "metadata": {},
   "outputs": [],
   "source": [
    "# Export to excel \n",
    "#data.to_excel(\"NAME FILE.xlsx\", index=False)"
   ]
  }
 ],
 "metadata": {
  "kernelspec": {
   "display_name": "Python 3 (ipykernel)",
   "language": "python",
   "name": "python3"
  },
  "language_info": {
   "codemirror_mode": {
    "name": "ipython",
    "version": 3
   },
   "file_extension": ".py",
   "mimetype": "text/x-python",
   "name": "python",
   "nbconvert_exporter": "python",
   "pygments_lexer": "ipython3",
   "version": "3.12.7"
  }
 },
 "nbformat": 4,
 "nbformat_minor": 5
}
