{
 "cells": [
  {
   "cell_type": "markdown",
   "id": "7e290906-759c-4b84-856a-117f08a67701",
   "metadata": {},
   "source": [
    "## Correlations between TMT-B test scores and exposure/mediator variables \n",
    "\n",
    "This code extracts TMT-B scores from ARIC and FHS datasets, calculates Spearman's correlation values between exposure/mediator variables and TMT-B scores (unadjusted and adjusted for age/sex/BMI), and plots a heatmap of correlation values. TMT-B scores show time to complete the test (min). "
   ]
  },
  {
   "cell_type": "code",
   "execution_count": 1,
   "id": "add78d10-561a-473e-a089-c137be17672d",
   "metadata": {},
   "outputs": [],
   "source": [
    "# Load all necessary packages \n",
    "\n",
    "import numpy as np\n",
    "import pandas as pd\n",
    "import matplotlib.pyplot as plt\n",
    "import pingouin as pg"
   ]
  },
  {
   "cell_type": "markdown",
   "id": "df4c8dfe-18ee-4ad9-80cd-469cca06e610",
   "metadata": {},
   "source": [
    "### First step: extract Trail Making Test B (TMT-B) scores from data"
   ]
  },
  {
   "cell_type": "code",
   "execution_count": 2,
   "id": "aa775f30-9eb0-43d5-9492-6163f3a59c65",
   "metadata": {},
   "outputs": [],
   "source": [
    "# Loading in data for Framingham Heart Study (FHS) first \n",
    "fhs_df = pd.read_excel(\"mastersheet.xlsx\", sheet_name=\"DementiaFHS\") \n",
    "np_dates_df = pd.read_csv(\"datasets_FHS_ARIC_CHS_SHHS\\\\dataset_Framingham_Offspring_2023b\\\\Datasets\\\\CSV\\\\vr_npdates_2019_a_1249d.csv\")\n",
    "np_df = pd.read_csv(\"datasets_FHS_ARIC_CHS_SHHS\\\\dataset_Framingham_Offspring_2023b\\\\Datasets\\\\CSV\\\\vr_np_2018_a_1185d.csv\")\n",
    "mediation_df = pd.read_csv(\"mediation_model_dataset.csv\")"
   ]
  },
  {
   "cell_type": "code",
   "execution_count": 3,
   "id": "3cac5f30-b102-4e74-a9a2-e46947c041a0",
   "metadata": {},
   "outputs": [
    {
     "name": "stdout",
     "output_type": "stream",
     "text": [
      "486\n"
     ]
    }
   ],
   "source": [
    "# Ensure PID fields are all strings and are uniform \n",
    "for df in [fhs_df, np_dates_df, np_df, mediation_df]:\n",
    "    df[\"PID\"] = df[\"PID\"].astype(str).str.strip()\n",
    "\n",
    "# Extracting list of final PIDs from mediation model \n",
    "pid_list = set(mediation_df[\"PID\"])\n",
    "\n",
    "# Creating a subset of FHS PIDs only \n",
    "fhs_df = fhs_df[fhs_df[\"PID\"].isin(pid_list)].copy() \n",
    "print(len(fhs_df))"
   ]
  },
  {
   "cell_type": "code",
   "execution_count": 4,
   "id": "6231b298-3509-4572-be3c-6c6a71129c33",
   "metadata": {},
   "outputs": [
    {
     "name": "stdout",
     "output_type": "stream",
     "text": [
      "Filtered PIDs with NP_DATE > days_studyv1: 1589\n",
      "Total with duplicates: 405\n",
      "No dupes: 58\n"
     ]
    }
   ],
   "source": [
    "# Merge neuropsych testing dates and filter where NP_DATE > days_studyv1 (psg date) \n",
    "merged = fhs_df.merge(np_dates_df, on=\"PID\", how=\"inner\")\n",
    "filtered_pids = merged[merged[\"NP_DATE\"] > merged[\"days_studyv1\"]].copy()\n",
    "print(f\"Filtered PIDs with NP_DATE > days_studyv1: {len(filtered_pids)}\")\n",
    "\n",
    "# Check duplicate test counts (np testing done several times after PSG date) \n",
    "dup_counts = filtered_pids[\"PID\"].value_counts()\n",
    "print(f\"Total with duplicates: {(dup_counts > 1).sum()}\")\n",
    "print(f\"No dupes: {(dup_counts == 1).sum()}\")\n",
    "\n",
    "# Have NP testing from 463 total participants, 58 with only one test, and 405 with multiple "
   ]
  },
  {
   "cell_type": "code",
   "execution_count": 5,
   "id": "7009f896-4235-49eb-b57e-efeb8665478d",
   "metadata": {},
   "outputs": [
    {
     "name": "stdout",
     "output_type": "stream",
     "text": [
      "463\n"
     ]
    }
   ],
   "source": [
    "# Will use the first instance of neuropsych testing\n",
    "filtered_np_dates = filtered_pids.sort_values(\"NP_DATE\").drop_duplicates(subset=\"PID\", keep=\"first\")\n",
    "print(len(filtered_np_dates))\n",
    "\n",
    "# filtered_np_dates is now the final df with the earliest test date for all 463 participants "
   ]
  },
  {
   "cell_type": "code",
   "execution_count": 6,
   "id": "31b1c614-fd56-4a69-8ef8-0dcf6fadc348",
   "metadata": {},
   "outputs": [],
   "source": [
    "# Making PID column uniform \n",
    "np_df[\"PID\"] = np_df[\"PID\"].astype(str).str.strip()\n",
    "filtered_np_dates[\"PID\"] = filtered_np_dates[\"PID\"].astype(str).str.strip()\n",
    "\n",
    "# Merge dates with np_df to extract scores, keep only the relevant columns \n",
    "first_tmtb = filtered_np_dates.merge(\n",
    "    np_df[[\"PID\", \"NP_DATE\", \"TRAILSB\"]],\n",
    "    on=[\"PID\", \"NP_DATE\"],\n",
    "    how=\"left\"\n",
    ")\n",
    "\n",
    "# Drop rows where TRAILSB test is missing. A remaining 447 people have data. \n",
    "final_tmtb_fhs = first_tmtb[first_tmtb[\"TRAILSB\"].notna()].copy()\n",
    "\n",
    "# Calculate date of test from PSG date \n",
    "final_tmtb_fhs[\"npdate_from_psg\"] = final_tmtb_fhs[\"NP_DATE\"]-final_tmtb_fhs[\"days_studyv1\"]\n",
    "\n",
    "# Note: TRAILSB is stored as time to complete in minutes "
   ]
  },
  {
   "cell_type": "code",
   "execution_count": 7,
   "id": "81046e49-34c0-465a-a6f1-ecbb9fc02ff0",
   "metadata": {},
   "outputs": [],
   "source": [
    "# Repeat process for ARIC dataset\n",
    "# ARIC stores data separately for each neuropsych test. V5 is the first instance \n",
    "aric_v5 = pd.read_csv('C:\\\\Users\\\\vkatraga\\\\Documents\\\\VK SHHS Project\\\\datasets_FHS_ARIC_CHS_SHHS\\\\dataset_ARIC_2024b\\\\Main_Study\\\\v5\\\\CSV\\\\ncs.csv')\n",
    "aric_np_dates = pd.read_csv('C:\\\\Users\\\\vkatraga\\\\Documents\\\\VK SHHS Project\\\\datasets_FHS_ARIC_CHS_SHHS\\\\dataset_ARIC_2024b\\\\Main_Study\\\\v5\\\\CSV\\\\derive51.csv')\n",
    "aric_df = pd.read_excel(\"mastersheet.xlsx\", sheet_name=\"DementiaARIC\")\n",
    "\n",
    "# Standardize PID columns \n",
    "aric_v5.rename(columns={\"ID_C\": \"PID\"}, inplace=True)\n",
    "aric_np_dates.rename(columns={\"ID_C\": \"PID\"}, inplace=True)\n",
    "\n",
    "aric_v5[\"PID\"] = aric_v5[\"PID\"].astype(str).str.strip()\n",
    "aric_df[\"PID\"] = aric_df[\"PID\"].astype(str).str.strip()\n",
    "aric_np_dates[\"PID\"] = aric_v5[\"PID\"].astype(str).str.strip()"
   ]
  },
  {
   "cell_type": "code",
   "execution_count": 8,
   "id": "61121fb1-02b1-4354-81b7-547c1483e71a",
   "metadata": {},
   "outputs": [
    {
     "name": "stdout",
     "output_type": "stream",
     "text": [
      "1537\n"
     ]
    }
   ],
   "source": [
    "# Filter out ARIC PIDs from mediation dataset \n",
    "pid_list = set(mediation_df[\"PID\"])\n",
    "aric_pid_filtered = aric_df[aric_df[\"PID\"].isin(pid_list)].copy() \n",
    "print(len(aric_pid_filtered))\n",
    "\n",
    "#aric_pid_filter has the pids that are in med list "
   ]
  },
  {
   "cell_type": "code",
   "execution_count": 9,
   "id": "48076f89-7d8c-4b18-987f-f778da7c3d47",
   "metadata": {},
   "outputs": [
    {
     "name": "stdout",
     "output_type": "stream",
     "text": [
      "Number of PID + date duplicates: 0\n",
      "Number of PIDs with duplicates: 0\n"
     ]
    }
   ],
   "source": [
    "# Ensuring no duplicates by date \n",
    "dups = aric_np_dates.duplicated(subset=[\"PID\", \"V5DATE51_DAYS\"], keep=False)\n",
    "print(f\"Number of PID + date duplicates: {dups.sum()}\")\n",
    "\n",
    "# Ensure no duplicates by PID \n",
    "dup_counts = aric_np_dates[\"PID\"].value_counts()\n",
    "print(f\"Number of PIDs with duplicates: {(dup_counts > 1).sum()}\")"
   ]
  },
  {
   "cell_type": "code",
   "execution_count": 10,
   "id": "5deb4d2c-6bf6-445e-8a8f-e37a48782961",
   "metadata": {},
   "outputs": [],
   "source": [
    "# Merge dates and filter where NP_DATE > days_studyv1\n",
    "\n",
    "aric_df_date = aric_pid_filtered.merge(aric_np_dates[[\"PID\", \"V5DATE51_DAYS\"]], on=\"PID\", how=\"inner\")\n",
    "aric_v5_pids = aric_df_date[aric_df_date[\"V5DATE51_DAYS\"] > aric_df_date[\"days_studyv1\"]].copy()\n",
    "\n",
    "# 1021 participants have tests from V5, stored in <aric_v5_pids>"
   ]
  },
  {
   "cell_type": "code",
   "execution_count": 11,
   "id": "d6d558cc-187f-4485-a4ac-a3104391a2cd",
   "metadata": {},
   "outputs": [
    {
     "name": "stdout",
     "output_type": "stream",
     "text": [
      "final num new participants: 12\n"
     ]
    }
   ],
   "source": [
    "# Now checking if other participants had their earliest NP test during Visit 6 \n",
    "\n",
    "missing_pids = set(aric_pid_filtered[\"PID\"]) - set(aric_v5_pids[\"PID\"])\n",
    "aric_v6 = pd.read_csv('datasets_FHS_ARIC_CHS_SHHS\\\\dataset_ARIC_2024b\\\\Main_Study\\\\v6\\\\CSV\\\\ncs.csv')\n",
    "\n",
    "aric_v6.rename(columns={\"ID_C\": \"PID\"}, inplace=True)\n",
    "aric_v6[\"PID\"] = aric_v6[\"PID\"].astype(str).str.strip()\n",
    "\n",
    "in_v6 = aric_v6[aric_v6[\"PID\"].isin(missing_pids)]\n",
    "\n",
    "# Extract only the columns relevant to TMT-B \n",
    "v6_pids_df = in_v6[[\"PID\", \"NCS10B\", \"NCS10C\"]].copy()\n",
    "\n",
    "# Now merge NP test dates \n",
    "v6_dates = pd.read_csv('datasets_FHS_ARIC_CHS_SHHS\\\\dataset_ARIC_2024b\\\\Main_Study\\\\v6\\\\CSV\\\\derive61.csv')\n",
    "v6_dates.rename(columns={\"ID_C\": \"PID\"}, inplace=True)\n",
    "v6_dates[\"PID\"] = v6_dates[\"PID\"].astype(str).str.strip()\n",
    "\n",
    "v6_final = v6_pids_df.merge(v6_dates[[\"PID\", \"V6DATE61_DAYS\"]], on=\"PID\", how=\"inner\")\n",
    "\n",
    "\n",
    "# Min and seconds for time to complete test stored separately--combine into one \n",
    "v6_final[\"TMTB_time_min\"] = v6_final[\"NCS10B\"] + v6_final[\"NCS10C\"]/60\n",
    "\n",
    "# Drop missing values \n",
    "v6_final = v6_final[v6_final[\"TMTB_time_min\"].notna()].copy()\n",
    "\n",
    "# 12 new PIDs with data  \n",
    "print(\"final num new participants:\", len(v6_final))"
   ]
  },
  {
   "cell_type": "code",
   "execution_count": 12,
   "id": "a69fbf62-db94-4698-99c6-d5a62020b32b",
   "metadata": {},
   "outputs": [
    {
     "name": "stdout",
     "output_type": "stream",
     "text": [
      "1\n"
     ]
    }
   ],
   "source": [
    "# Repeating process for Visit 7 \n",
    "aric_v7 = pd.read_csv('datasets_FHS_ARIC_CHS_SHHS\\\\dataset_ARIC_2024b\\\\Main_Study\\\\v7\\\\CSV\\\\ncs.csv')\n",
    "aric_v7.rename(columns={\"ID_C\": \"PID\"}, inplace=True)\n",
    "aric_v7[\"PID\"] = aric_v7[\"PID\"].astype(str).str.strip()\n",
    "\n",
    "\n",
    "missing_pids_afterv6 = missing_pids - set(in_v6[\"PID\"])\n",
    "in_v7 = aric_v7[aric_v7[\"PID\"].isin(missing_pids_afterv6)]\n",
    "\n",
    "# Copy only the relevant columns \n",
    "v7_pids_df = in_v7[[\"PID\", \"NCS10B\", \"NCS10C\"]].copy()\n",
    "\n",
    "\n",
    "# Merge in dates \n",
    "v7_dates = pd.read_csv('datasets_FHS_ARIC_CHS_SHHS\\\\dataset_ARIC_2024b\\\\Main_Study\\\\v7\\\\CSV\\\\derive71.csv')\n",
    "v7_dates.rename(columns={\"ID_C\": \"PID\"}, inplace=True)\n",
    "v7_dates[\"PID\"] = v7_dates[\"PID\"].astype(str).str.strip()\n",
    "v7_final = v7_pids_df.merge(v7_dates[[\"PID\", \"V7DATE71_FOLLOWUPDAYS\"]], on=\"PID\", how=\"inner\")\n",
    "\n",
    "# Convert to minutes and drop missing values \n",
    "v7_final = v7_final[v7_final[\"NCS10B\"].notna()].copy()\n",
    "v7_final[\"TMTB_time_min\"] = v7_final[\"NCS10B\"] + v7_final[\"NCS10C\"]/60\n",
    "\n",
    "# 1 new PID with data \n",
    "print(len(v7_final))"
   ]
  },
  {
   "cell_type": "code",
   "execution_count": 13,
   "id": "a967ea8f-0561-41da-a959-ffaf28fc2b78",
   "metadata": {},
   "outputs": [
    {
     "name": "stdout",
     "output_type": "stream",
     "text": [
      "number of new participants 13\n"
     ]
    }
   ],
   "source": [
    "# Append V6 and V7 dfs into one df \n",
    "\n",
    "v6_final.rename(columns={\"V6DATE61_DAYS\":\"visit_date\"}, inplace=True)\n",
    "v7_final.rename(columns={\"V7DATE71_FOLLOWUPDAYS\":\"visit_date\"}, inplace=True)\n",
    "v6_and_v7 = pd.concat([v6_final, v7_final], ignore_index=True)\n",
    "\n",
    "print(\"number of new participants\", len(v6_and_v7))"
   ]
  },
  {
   "cell_type": "code",
   "execution_count": 14,
   "id": "3b0d21ac-52d5-4ddc-b838-911b2ed5fd4e",
   "metadata": {},
   "outputs": [],
   "source": [
    "# Merge in <days_studyv1> to calculate NP date from PSG date \n",
    "v6_and_v7_final = v6_and_v7.merge(aric_df[[\"PID\", \"days_studyv1\", \"aric_dementia_from_psg\", \"aric_dod_from_psg\"]], on=\"PID\", how=\"inner\")"
   ]
  },
  {
   "cell_type": "code",
   "execution_count": 15,
   "id": "bcd75035-704e-4c5a-ae8b-5a9046cc0782",
   "metadata": {},
   "outputs": [
    {
     "name": "stdout",
     "output_type": "stream",
     "text": [
      "Index(['PID', 'days_studyv1', 'aric_dementia_from_psg', 'aric_dod_from_psg',\n",
      "       'visit_date', 'NCS10B', 'NCS10C', 'TMTB_time_min'],\n",
      "      dtype='object')\n"
     ]
    }
   ],
   "source": [
    "# Select relevant columns from V5 \n",
    "\n",
    "final_v5 = aric_v5_pids.drop(columns={\"DEMDXL3_81\", \"COXDATE_DEMDXL3_81_FOLLOWUPDAYS\", \"DATEOFDEATH_FOLLOWUPDAYS\"})\n",
    "final_v5 = final_v5.merge(aric_v5[[\"PID\", \"NCS10B\", \"NCS10C\"]], on=\"PID\", how=\"inner\")\n",
    "final_v5[\"TMTB_time_min\"] = final_v5[\"NCS10B\"] + final_v5[\"NCS10C\"]/60\n",
    "\n",
    "final_v5 = final_v5[final_v5[\"TMTB_time_min\"].notna()].copy()\n",
    "final_v5.rename(columns={\"V5DATE51_DAYS\":\"visit_date\"}, inplace=True)\n",
    "print(final_v5.columns)"
   ]
  },
  {
   "cell_type": "code",
   "execution_count": 16,
   "id": "6884e117-7b1c-49d7-bfb3-0b322a88a9d7",
   "metadata": {},
   "outputs": [
    {
     "name": "stdout",
     "output_type": "stream",
     "text": [
      "927\n"
     ]
    }
   ],
   "source": [
    "# Merge all dfs together\n",
    "final_aric_dataset = pd.concat([final_v5, v6_and_v7_final],ignore_index=True)\n",
    "\n",
    "# Calculate NP date from PSG in case it's needed \n",
    "final_aric_dataset[\"npdate_from_psg\"] = final_aric_dataset[\"visit_date\"] - final_aric_dataset[\"days_studyv1\"]\n",
    "\n",
    "print(len(final_aric_dataset))"
   ]
  },
  {
   "cell_type": "markdown",
   "id": "86677783-8d1c-4cc0-943f-9dd37bf5f94d",
   "metadata": {},
   "source": [
    "### Calculate correlation values from both FHS and ARIC "
   ]
  },
  {
   "cell_type": "code",
   "execution_count": 17,
   "id": "b985ccc3-6d31-458b-b59e-ebb3b9ca86ba",
   "metadata": {},
   "outputs": [
    {
     "name": "stdout",
     "output_type": "stream",
     "text": [
      "Index(['PID', 'DEM_STATUS', 'DEM_SURVDATE', 'DATEDTH', 'days_studyv1',\n",
      "       'fhs_dementia_from_psg', 'fhs_dod_from_psg', 'idtype', 'NP_DATE',\n",
      "       'TRAILSB', 'npdate_from_psg'],\n",
      "      dtype='object')\n",
      "Index(['PID', 'TRAILSB', 'npdate_from_psg'], dtype='object')\n"
     ]
    }
   ],
   "source": [
    "# Creating final TMT-B df \n",
    "print(final_tmtb_fhs.columns)\n",
    "fhs_tmtb = final_tmtb_fhs[[\"PID\", \"TRAILSB\", \"npdate_from_psg\"]].copy()\n",
    "print(fhs_tmtb.columns)"
   ]
  },
  {
   "cell_type": "code",
   "execution_count": 18,
   "id": "618d4e11-c2ab-473a-be1a-b415e734f14a",
   "metadata": {},
   "outputs": [
    {
     "name": "stdout",
     "output_type": "stream",
     "text": [
      "Index(['PID', 'days_studyv1', 'aric_dementia_from_psg', 'aric_dod_from_psg',\n",
      "       'visit_date', 'NCS10B', 'NCS10C', 'TMTB_time_min', 'npdate_from_psg'],\n",
      "      dtype='object')\n",
      "Index(['PID', 'TMTB_time_min', 'npdate_from_psg'], dtype='object')\n"
     ]
    }
   ],
   "source": [
    "# Final ARIC df \n",
    "print(final_aric_dataset.columns)\n",
    "aric_tmtb = final_aric_dataset[[\"PID\", \"TMTB_time_min\", \"npdate_from_psg\"]].copy()\n",
    "print(aric_tmtb.columns)"
   ]
  },
  {
   "cell_type": "code",
   "execution_count": 19,
   "id": "8922df8d-58ba-481d-91e0-c77b0d73c17a",
   "metadata": {},
   "outputs": [],
   "source": [
    "# Rename column to concatenate \n",
    "fhs_tmtb.rename(columns={\"TRAILSB\":\"TMTB_time_min\"}, inplace=True)"
   ]
  },
  {
   "cell_type": "code",
   "execution_count": 20,
   "id": "cd8a8a83-6bea-4f56-9399-ea75960480f8",
   "metadata": {},
   "outputs": [
    {
     "name": "stdout",
     "output_type": "stream",
     "text": [
      "1374\n"
     ]
    }
   ],
   "source": [
    "# Concatenate dfs\n",
    "cognitive_df = pd.concat([aric_tmtb, fhs_tmtb], ignore_index=True)\n",
    "print(len(cognitive_df))"
   ]
  },
  {
   "cell_type": "code",
   "execution_count": 21,
   "id": "593ecf40-d89e-4b1b-a171-7a2cefd82fef",
   "metadata": {},
   "outputs": [
    {
     "name": "stdout",
     "output_type": "stream",
     "text": [
      "Index(['PID', 'hb_desat', 'avg_spo2_no_desat_NREM', 'SP_DENS_all_C',\n",
      "       'SP_CHIRP_all_C', 'SP_R_PHASE_IF_all_C', 'age', 'sex', 'bmi'],\n",
      "      dtype='object')\n",
      "1374\n"
     ]
    }
   ],
   "source": [
    "# Pull in the exposure/mediator values for correlation \n",
    "# Standardize the PID column first \n",
    "mediation_df[\"PID\"] = mediation_df[\"PID\"].astype(str).str.strip()\n",
    "\n",
    "# Extract only PIDs we have cognitive data for \n",
    "final_pids = set(cognitive_df[\"PID\"])\n",
    "mediation_df_filtered = mediation_df[mediation_df[\"PID\"].isin(final_pids)].copy()\n",
    "\n",
    "# Extract exposure/mediator columns and relevant covariates\n",
    "mediation_df_subset = mediation_df_filtered[[\"PID\", \"hb_desat\", \"avg_spo2_no_desat_NREM\", \"SP_DENS_all_C\", \"SP_CHIRP_all_C\", \"SP_R_PHASE_IF_all_C\", \n",
    "                                 \"age\", \"sex\",\"bmi\"]].copy()\n",
    "print(mediation_df_subset.columns)\n",
    "print(len(mediation_df_subset))"
   ]
  },
  {
   "cell_type": "code",
   "execution_count": 22,
   "id": "21afd5ff-4570-49b9-a2e1-7f578ac3b3f8",
   "metadata": {},
   "outputs": [
    {
     "name": "stdout",
     "output_type": "stream",
     "text": [
      "Index(['PID', 'hb_desat', 'avg_spo2_no_desat_NREM', 'SP_DENS_all_C',\n",
      "       'SP_CHIRP_all_C', 'SP_R_PHASE_IF_all_C', 'age', 'sex', 'bmi',\n",
      "       'TMTB_time_min', 'npdate_from_psg'],\n",
      "      dtype='object')\n"
     ]
    }
   ],
   "source": [
    "# Merge exposure/mediators with cognitive df \n",
    "final_df = mediation_df_subset.merge(cognitive_df, on=\"PID\", how=\"inner\")\n",
    "print(final_df.columns)"
   ]
  },
  {
   "cell_type": "code",
   "execution_count": 23,
   "id": "d5da9a5e-2da1-4362-9c52-1201da7539d6",
   "metadata": {},
   "outputs": [
    {
     "name": "stdout",
     "output_type": "stream",
     "text": [
      "                 Variable  Unadjusted_rho  Unadjusted_p  Adjusted_rho  \\\n",
      "0  avg_spo2_no_desat_NREM          -0.136         0.000        -0.038   \n",
      "1                hb_desat           0.076         0.005        -0.031   \n",
      "2           SP_DENS_all_C          -0.150         0.000        -0.028   \n",
      "3          SP_CHIRP_all_C           0.099         0.000         0.018   \n",
      "4     SP_R_PHASE_IF_all_C          -0.094         0.000         0.031   \n",
      "\n",
      "   Adjusted_p  \n",
      "0       0.158  \n",
      "1       0.250  \n",
      "2       0.299  \n",
      "3       0.515  \n",
      "4       0.247  \n"
     ]
    }
   ],
   "source": [
    "# Define exposure/mediator variables, and results column \n",
    "variables = [\"avg_spo2_no_desat_NREM\", \"hb_desat\", \"SP_DENS_all_C\", \"SP_CHIRP_all_C\", \"SP_R_PHASE_IF_all_C\"]\n",
    "results = []\n",
    "\n",
    "# Covariates to adjust for \n",
    "covariates = [\"age\", \"sex\", \"bmi\"]\n",
    "\n",
    "# Loop through the exposure/mediator - cognitive outcome pairings \n",
    "for var in variables:\n",
    "    # Drop NAN rows, in case present \n",
    "    subset = final_df[[var, \"TMTB_time_min\"] + covariates].dropna()\n",
    "    \n",
    "    # UNADJUSTED Spearman calculation first \n",
    "    unadj = pg.corr(x=subset[var], y=subset[\"TMTB_time_min\"], method=\"spearman\")\n",
    "\n",
    "    rho_unadj = unadj[\"r\"].values[0]\n",
    "    pval_unadj = unadj[\"p-val\"].values[0]\n",
    "\n",
    "    # ADJUSTED Spearman\n",
    "    adj = pg.partial_corr(data=subset, x=var, y=\"TMTB_time_min\", covar=covariates, method=\"spearman\")\n",
    "\n",
    "    rho_adj = adj[\"r\"].values[0]\n",
    "    pval_adj = adj[\"p-val\"].values[0]\n",
    "\n",
    "    # Store results into df \n",
    "    results.append({\n",
    "        \"Variable\": var,\n",
    "        \"Unadjusted_rho\": round(rho_unadj, 3),\n",
    "        \"Unadjusted_p\": round(pval_unadj, 3),\n",
    "        \"Adjusted_rho\": round(rho_adj, 3),\n",
    "        \"Adjusted_p\": round(pval_adj, 3)\n",
    "    })\n",
    "\n",
    "# Convert from dictionary to DataFrame\n",
    "results_df = pd.DataFrame(results)\n",
    "print(results_df)"
   ]
  },
  {
   "cell_type": "markdown",
   "id": "98e08d49-65c7-4d17-b748-46a8537481bc",
   "metadata": {},
   "source": [
    "### Generating Figure"
   ]
  },
  {
   "cell_type": "code",
   "execution_count": 24,
   "id": "71b92f3d-c174-4963-b319-30bb432bd635",
   "metadata": {},
   "outputs": [],
   "source": [
    "# import relevant packages \n",
    "from mpl_toolkits.axes_grid1 import make_axes_locatable\n",
    "import seaborn as sns"
   ]
  },
  {
   "cell_type": "code",
   "execution_count": 25,
   "id": "5a17402d-6ee9-4a55-bd26-b038f140f0d9",
   "metadata": {},
   "outputs": [
    {
     "data": {
      "image/png": "[encoded data removed]",
      "text/plain": [
       "<Figure size 1000x300 with 2 Axes>"
      ]
     },
     "metadata": {},
     "output_type": "display_data"
    }
   ],
   "source": [
    "# Set font style \n",
    "plt.rcParams['font.family'] = 'Times New Roman'\n",
    "\n",
    "# Pull in correlation results, transpose to make it 2 rows and 6 columns \n",
    "heatmap_matrix = results_df[[\"Unadjusted_rho\", \"Adjusted_rho\"]].T.to_numpy()\n",
    "pval_data = results_df[[\"Unadjusted_p\", \"Adjusted_p\"]].T.to_numpy()\n",
    "\n",
    "# Create figure plot \n",
    "fig, ax = plt.subplots(figsize=(10, 3)) \n",
    "\n",
    "# Set color scale and bar according to results \n",
    "vmin, vmax = -0.16, 0.1\n",
    "norm = plt.Normalize(vmin, vmax)\n",
    "cmap = sns.color_palette(\"vlag\", as_cmap=True)\n",
    "\n",
    "# Show heatmap\n",
    "im = ax.imshow(heatmap_matrix, cmap=cmap, norm=norm)\n",
    "\n",
    "# Axis labels\n",
    "custom_x_labels = ['Avg\\nDesat-Removed\\nBasal SpO₂ (NREM)', 'Hypoxic \\nBurden',\n",
    "                   'Spindle \\nDensity', 'Spindle \\nChirp', 'Spindle-SO\\nCoupling Phase']\n",
    "custom_y_labels = [\"Unadjusted\", \"Adjusted\"]\n",
    "\n",
    "ax.set_xticks(np.arange(len(custom_x_labels)))\n",
    "ax.set_yticks([0, 1])\n",
    "ax.set_xticklabels(custom_x_labels, fontsize=11, ha='center')\n",
    "ax.set_yticklabels(custom_y_labels, fontsize=11)\n",
    "\n",
    "\n",
    "# Annotate each cell with rho value \n",
    "for i in range(heatmap_matrix.shape[0]):\n",
    "    for j in range(heatmap_matrix.shape[1]):\n",
    "        rho = heatmap_matrix[i, j]\n",
    "        ax.text(j, i, f'ρ = {rho:.3f}', ha='center', va='center', fontsize=11, color='black', fontweight='bold')\n",
    "\n",
    "# Rectangle borders around cells \n",
    "for i in range(heatmap_matrix.shape[0]):\n",
    "    for j in range(heatmap_matrix.shape[1]):\n",
    "        rect = plt.Rectangle((j - 0.5, i - 0.5), 1, 1, fill=False, edgecolor='black', linewidth=1)\n",
    "        ax.add_patch(rect)\n",
    "\n",
    "# Add p-value asterisk notation \n",
    "for i in range(pval_data.shape[0]):\n",
    "    for j in range(pval_data.shape[1]):\n",
    "        pval = pval_data[i, j]\n",
    "        if pval<0.05:\n",
    "            ax.text(j, i + 0.2, f'*', ha='center', va='center', fontsize=12, color='black', fontweight='bold')\n",
    "        elif pval<0.01:\n",
    "            ax.text(j, i + 0.3, f'**', ha='center', va='center', fontsize=12, color='black', fontweight='bold')\n",
    "\n",
    "# Thicken outer spines for clarity \n",
    "for spine in ax.spines.values():\n",
    "    spine.set_linewidth(1)\n",
    "\n",
    "# Set heatmap colorbar\n",
    "divider = make_axes_locatable(ax)\n",
    "cax = divider.append_axes(\"right\", size=\"5%\", pad=1)\n",
    "cbar = plt.colorbar(im, cax=cax)\n",
    "cbar.set_label(\"Spearman Correlation\", fontsize=11)\n",
    "cbar.set_ticks(np.linspace(-0.16, 0.1, 6))\n",
    "cbar.ax.yaxis.set_ticks_position('left')   \n",
    "cbar.ax.yaxis.set_label_position('left')   \n",
    "\n",
    "\n",
    "# Save figure and show\n",
    "plt.tight_layout()\n",
    "#plt.savefig(\"FIGURE NAME.png\", dpi=600, bbox_inches='tight')\n",
    "plt.show()"
   ]
  }
 ],
 "metadata": {
  "kernelspec": {
   "display_name": "Python 3 (ipykernel)",
   "language": "python",
   "name": "python3"
  },
  "language_info": {
   "codemirror_mode": {
    "name": "ipython",
    "version": 3
   },
   "file_extension": ".py",
   "mimetype": "text/x-python",
   "name": "python",
   "nbconvert_exporter": "python",
   "pygments_lexer": "ipython3",
   "version": "3.12.7"
  }
 },
 "nbformat": 4,
 "nbformat_minor": 5
}
