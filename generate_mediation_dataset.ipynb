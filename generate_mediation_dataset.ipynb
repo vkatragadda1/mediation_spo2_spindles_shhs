{
 "cells": [
  {
   "cell_type": "markdown",
   "id": "e4e46844-9b87-4a8a-830f-0df50ec38f75",
   "metadata": {},
   "source": [
    "# Preparing Mediation Dataset \n",
    "This code compiles all relevant data, applies exclusion/inclusion criteria (i.e., removes participants with missing data/exclusionary medications), and exports final dataset to a CSV for mediation analysis. Additionally, the dataset is stratified into separate files for mediation analysis by stratification. \n",
    "\n",
    "Finally, descriptive statistics for covariates and exposure/mediator/outcome variables are generated. "
   ]
  },
  {
   "cell_type": "code",
   "execution_count": 1,
   "id": "87e5be04-cfa3-45f7-b06e-fb98463266a0",
   "metadata": {},
   "outputs": [],
   "source": [
    "# Load packages\n",
    "import numpy as np\n",
    "import pandas as pd\n",
    "import openpyxl\n",
    "from openpyxl import load_workbook\n",
    "from functools import reduce"
   ]
  },
  {
   "cell_type": "code",
   "execution_count": 2,
   "id": "efe0e0af-43a8-45fa-a733-f2ce8c87ccad",
   "metadata": {},
   "outputs": [],
   "source": [
    "# Load in main EEG/SpO2 data\n",
    "filepath = \"mastersheet.xlsx\"\n",
    "spo2_df = pd.read_excel(filepath, sheet_name=\"SPO2Final\")\n",
    "eeg_df = pd.read_excel(filepath, sheet_name=\"EEGFinal\")"
   ]
  },
  {
   "cell_type": "code",
   "execution_count": 3,
   "id": "31bb1a9a-e4f8-4b09-84f4-f67b0a4b7049",
   "metadata": {},
   "outputs": [],
   "source": [
    "# Load participants we have dementia follow up data from \n",
    "dementia_fhs_df = pd.read_excel(filepath, sheet_name=\"DementiaFHS\")\n",
    "dementia_aric_df = pd.read_excel(filepath, sheet_name=\"DementiaARIC\")"
   ]
  },
  {
   "cell_type": "code",
   "execution_count": 4,
   "id": "6ff37c65-d9d7-4230-866e-85a9e055fbca",
   "metadata": {},
   "outputs": [],
   "source": [
    "# Load in all covariates \n",
    "covariates = pd.read_excel(filepath, sheet_name=\"covariates\")\n",
    "medications = pd.read_excel(filepath, sheet_name=\"medications\")\n",
    "aric_phys = pd.read_excel(filepath, sheet_name=\"Aric_phys\")\n",
    "fhs_phys = pd.read_excel(filepath, sheet_name=\"FHS_phys\")"
   ]
  },
  {
   "cell_type": "code",
   "execution_count": 5,
   "id": "c7bf93b2-b368-4341-9b39-3c539e43ca6d",
   "metadata": {},
   "outputs": [
    {
     "name": "stdout",
     "output_type": "stream",
     "text": [
      "2439\n"
     ]
    }
   ],
   "source": [
    "# Combine both dementia follow up dfs into one, ensure that only relevant PIDs are copied \n",
    "pids_spo2 = set(spo2_df['PID'])\n",
    "pids_eeg = set(eeg_df['PID'])\n",
    "dementia_fhs_df[\"PID\"] = dementia_fhs_df[\"PID\"].astype(str).str.strip()\n",
    "pids_dementia = set(dementia_fhs_df['PID']).union(set(dementia_aric_df['PID']))\n",
    "\n",
    "pids_final = pids_spo2 & pids_eeg & pids_dementia\n",
    "print(len(pids_final))"
   ]
  },
  {
   "cell_type": "code",
   "execution_count": 6,
   "id": "99460ee1-fcaf-4e6f-8846-3530c794863a",
   "metadata": {},
   "outputs": [
    {
     "name": "stdout",
     "output_type": "stream",
     "text": [
      "dementia_final shape: 2439\n"
     ]
    }
   ],
   "source": [
    "# Standardize and filter by PID \n",
    "dementia_fhs_df[\"PID\"] = dementia_fhs_df[\"PID\"].astype(str).str.strip()\n",
    "dementia_aric_df[\"PID\"] = dementia_aric_df[\"PID\"].astype(str).str.strip()\n",
    "\n",
    "fhs_filtered = dementia_fhs_df[dementia_fhs_df[\"PID\"].isin(pids_final)]\n",
    "aric_filtered = dementia_aric_df[dementia_aric_df[\"PID\"].isin(pids_final)]\n",
    "\n",
    "# Combine both dfs into one final df \n",
    "dementia_final = pd.concat([fhs_filtered, aric_filtered], ignore_index=True)\n",
    "\n",
    "print(f\"dementia_final shape: {len(dementia_final)}\")"
   ]
  },
  {
   "cell_type": "markdown",
   "id": "2e85164d-6b96-41d5-8a7e-22bfc220c5ac",
   "metadata": {},
   "source": [
    "### Apply exclusions (exclusionary meds/missing data/etc) "
   ]
  },
  {
   "cell_type": "code",
   "execution_count": 7,
   "id": "3c032edd-f9ed-47b9-99fb-a4f632a8d64e",
   "metadata": {},
   "outputs": [
    {
     "name": "stdout",
     "output_type": "stream",
     "text": [
      "Index(['PID', 'nsrr_age', 'nsrr_sex', 'nsrr_race', 'nsrr_bmi', 'educat',\n",
      "       'alcoh', 'evsmok15', 'smknow15', 'cigday15', 'avesmk15'],\n",
      "      dtype='object')\n"
     ]
    }
   ],
   "source": [
    "print(covariates.columns)"
   ]
  },
  {
   "cell_type": "code",
   "execution_count": 8,
   "id": "44fd2e7c-d105-4b90-ba60-cd090f066f5a",
   "metadata": {},
   "outputs": [
    {
     "name": "stdout",
     "output_type": "stream",
     "text": [
      "PIDs with all stage 1 covariates: 2438\n",
      "stage 1 cov = age, race, bmi, sex\n"
     ]
    }
   ],
   "source": [
    "# Checking Tier 1 covariates first \n",
    "stage1_cols = covariates.loc[:, \"nsrr_age\":\"nsrr_bmi\"].columns\n",
    "\n",
    "valid_data = covariates[stage1_cols].notna().all(axis=1)\n",
    "valid_pid_count = covariates.loc[valid_data, \"PID\"].nunique()\n",
    "\n",
    "print(f\"PIDs with all stage 1 covariates: {valid_pid_count}\")\n",
    "print(\"stage 1 cov = age, race, bmi, sex\")"
   ]
  },
  {
   "cell_type": "code",
   "execution_count": 9,
   "id": "32c22571-4154-457a-8f44-12ed32ba5335",
   "metadata": {},
   "outputs": [
    {
     "name": "stdout",
     "output_type": "stream",
     "text": [
      "PIDs with all stage 2 covariates: 2399\n",
      "stage 2 cov = education, alc use, smoking history\n"
     ]
    }
   ],
   "source": [
    "# Checking Tier 2 \n",
    "stage2_cols = [\"educat\", \"alcoh\", \"evsmok15\"]\n",
    "\n",
    "valid_data = covariates[stage2_cols].notna().all(axis=1)\n",
    "valid_pid_count = covariates.loc[valid_data, \"PID\"].nunique()\n",
    "\n",
    "print(f\"PIDs with all stage 2 covariates: {valid_pid_count}\")\n",
    "print(\"stage 2 cov = education, alc use, smoking history\")"
   ]
  },
  {
   "cell_type": "code",
   "execution_count": 10,
   "id": "f7afeb38-a9cf-4a7f-9d77-842fbf5b6a2f",
   "metadata": {},
   "outputs": [
    {
     "name": "stdout",
     "output_type": "stream",
     "text": [
      "PIDs with all stage 1 and 2 covariates: 2398\n"
     ]
    }
   ],
   "source": [
    "# Tiers 1 and 2 combined \n",
    "\n",
    "stage1_and2 = list(stage1_cols)+stage2_cols \n",
    "\n",
    "valid_data = covariates[stage1_and2].notna().all(axis=1)\n",
    "valid_pid_count = covariates.loc[valid_data, \"PID\"].nunique()\n",
    "\n",
    "print(f\"PIDs with all stage 1 and 2 covariates: {valid_pid_count}\")"
   ]
  },
  {
   "cell_type": "code",
   "execution_count": 11,
   "id": "71e6a98b-b924-4031-8fee-0913aa5e5882",
   "metadata": {},
   "outputs": [
    {
     "name": "stdout",
     "output_type": "stream",
     "text": [
      "exclusionary med columns: Index(['PID', 'ohga1', 'insuln1', 'ostrd1', 'sympth1', 'istrd1', 'benzod1'], dtype='object')\n",
      "number taking exclusionary meds: 336\n"
     ]
    }
   ],
   "source": [
    "# Tier 3 -- exclusionary meds (oral hypoglycemics, insulins, oral steroids, sympathomimetics, asthma steroids, benzodiazepines) \n",
    "exclusionary_meds = medications.loc[:, [\"PID\"] + list(medications.loc[:, \"ohga1\":\"benzod1\"].columns)]\n",
    "print(\"exclusionary med columns:\", exclusionary_meds.columns)\n",
    "\n",
    "# Use mask to find if participants are taking any exclusionary med\n",
    "mask = exclusionary_meds.loc[:, \"ohga1\":\"benzod1\"].eq(1).any(axis=1)\n",
    "excluded_df = exclusionary_meds[mask]\n",
    "\n",
    "# Check number PIDs taking exclusionary meds\n",
    "excluded_pids = excluded_df[\"PID\"]\n",
    "print(f\"number taking exclusionary meds: {len(excluded_pids)}\")"
   ]
  },
  {
   "cell_type": "code",
   "execution_count": 12,
   "id": "ebeee326-9546-4fed-a36a-23032a6e9e07",
   "metadata": {},
   "outputs": [
    {
     "name": "stdout",
     "output_type": "stream",
     "text": [
      "PIDs with all medication data: 2431\n",
      "Number of included participants after medicine exclusions: 2095\n"
     ]
    }
   ],
   "source": [
    "# Tier 3--how many participants are missing medication data? \n",
    "\n",
    "med_cols = medications.loc[:, \"tca1\":\"thry1\"].columns\n",
    "valid_data = medications[med_cols].notna().all(axis=1)\n",
    "valid_pid_count = medications.loc[valid_data, \"PID\"].nunique()\n",
    "print(f\"PIDs with all medication data: {valid_pid_count}\")\n",
    "\n",
    "# Exclude PIDs who are taking exclusionary meds\n",
    "valid_med_pids = medications.loc[valid_data & ~medications[\"PID\"].isin(excluded_pids),\"PID\"].unique()\n",
    "print(f\"Number of included participants after medicine exclusions: {len(valid_med_pids)}\")"
   ]
  },
  {
   "cell_type": "code",
   "execution_count": 13,
   "id": "ca2714f2-0f67-42eb-b5e4-8e141994f199",
   "metadata": {},
   "outputs": [
    {
     "name": "stdout",
     "output_type": "stream",
     "text": [
      "Final participant count with complete Stage 1+2 covariates and valid medication data : 2067\n"
     ]
    }
   ],
   "source": [
    "# Now that we have numbers, apply exclusions\n",
    "# Step 1: Get PIDs with all Tier 1 + 2 covariate data\n",
    "valid_covariate_data = covariates[stage1_and2].notna().all(axis=1)\n",
    "valid_covariate_pids = covariates.loc[valid_covariate_data, \"PID\"]\n",
    "\n",
    "# Step 2: Find intersection with included_pids from medication step\n",
    "final_valid_pids = set(valid_med_pids) & set(valid_covariate_pids)\n",
    "\n",
    "# Step 3: Print result\n",
    "print(f\"Final participant count with complete Stage 1+2 covariates and valid medication data : {len(final_valid_pids)}\")"
   ]
  },
  {
   "cell_type": "code",
   "execution_count": 14,
   "id": "a9e470dc-85cd-44ee-bc76-22c23fc4b67f",
   "metadata": {},
   "outputs": [],
   "source": [
    "# Now we have valid PIDs from Tier1-Tier3 covariates \n",
    "# Need to check which participants are missing physical activity data \n",
    "\n",
    "# Starting with ARIC, check if RPAC8 (binary for exercise) is NaN  \n",
    "aric_phys[\"PID\"] = aric_phys[\"PID\"].astype(str).str.strip()\n",
    "aric_phys = aric_phys[[\"PID\",\"RPAC8\"]].copy()"
   ]
  },
  {
   "cell_type": "code",
   "execution_count": 15,
   "id": "71f077be-822f-4bee-b724-9918477c7853",
   "metadata": {},
   "outputs": [],
   "source": [
    "# Now for FHS, which has physical activity split by sport/activity type, we will sum relevant variables (those ending in _2) \n",
    "activity_cols = fhs_phys.filter(regex='_2$', axis=1)\n",
    "\n",
    "# Sum across those columns for each row\n",
    "fhs_phys['total_activity_score'] = activity_cols.sum(axis=1)\n",
    "\n",
    "# Keep only relevant columns\n",
    "relevant_fhs = fhs_phys[[\"PID\", \"total_activity_score\"]].copy()\n"
   ]
  },
  {
   "cell_type": "code",
   "execution_count": 16,
   "id": "9569b66c-7585-4f49-9731-1583925bbd6e",
   "metadata": {},
   "outputs": [
    {
     "name": "stdout",
     "output_type": "stream",
     "text": [
      "Number of column pairs with mismatches: 11\n"
     ]
    }
   ],
   "source": [
    "# Check if any column with _2 is missing it's pair ending in _4 \n",
    "# First, find all columns ending in _2\n",
    "cols_2 = [col for col in fhs_phys.columns if col.endswith(\"_2\")]\n",
    "\n",
    "# Track mismatched pairs\n",
    "mismatched = []\n",
    "\n",
    "# For each _2 column, find its _4 pair and compare missingness\n",
    "for col_2 in cols_2:\n",
    "    col_4 = col_2[:-2] + \"_4\"\n",
    "    if col_4 in fhs_phys.columns:\n",
    "        # Check where one is null and the other is not\n",
    "        mismatch_mask = fhs_phys[col_2].isna() != fhs_phys[col_4].isna()\n",
    "        if mismatch_mask.any():\n",
    "            mismatched.append((col_2, col_4, mismatch_mask.sum()))\n",
    "\n",
    "# Show results\n",
    "print(\"Number of column pairs with mismatches:\", len(mismatched))"
   ]
  },
  {
   "cell_type": "code",
   "execution_count": 17,
   "id": "9b08c995-ff20-4290-a499-a2d6acb395ad",
   "metadata": {},
   "outputs": [
    {
     "name": "stdout",
     "output_type": "stream",
     "text": [
      "Excluded 29 participants due to data mismatches\n",
      "Remaining participants: 575\n"
     ]
    }
   ],
   "source": [
    "# Now exclude participants with mismatched data \n",
    "\n",
    "# Initialize a mask with all False (no mismatch)\n",
    "mismatch_rows = pd.Series(False, index=fhs_phys.index)\n",
    "\n",
    "# Loop through mismatched column pairs and accumulate mismatches\n",
    "for col_2, col_4, _ in mismatched:\n",
    "    mismatch_rows |= fhs_phys[col_2].isna() != fhs_phys[col_4].isna()\n",
    "\n",
    "# Exclude those rows\n",
    "fhs_phys_cleaned = fhs_phys[~mismatch_rows].copy()\n",
    "\n",
    "print(f\"Excluded {mismatch_rows.sum()} participants due to data mismatches\")\n",
    "print(f\"Remaining participants: {len(fhs_phys_cleaned)}\")\n",
    "\n",
    "# Remove missing participants from the dataframe\n",
    "fhs_phys_cleaned = fhs_phys.loc[~mismatch_rows].copy()\n"
   ]
  },
  {
   "cell_type": "code",
   "execution_count": 18,
   "id": "034356aa-dfc2-4164-8c53-fd416b7f055c",
   "metadata": {},
   "outputs": [
    {
     "name": "stdout",
     "output_type": "stream",
     "text": [
      "ARIC participants with any NaN in physical activity data: 0\n",
      "Number of NaNs in total-activity_score: 0\n"
     ]
    }
   ],
   "source": [
    "# Checking if any data is NaN for ARIC participnats \n",
    "aric_nan_count = aric_phys[\"RPAC8\"].isna().sum()\n",
    "aric_phys[\"PID\"] = aric_phys[\"PID\"].astype(str).str.strip()\n",
    "print(f\"ARIC participants with any NaN in physical activity data: {aric_nan_count}\")\n",
    "\n",
    "# Checking NaN data for FHS participants \n",
    "fhs_nan_count = fhs_phys_cleaned[\"total_activity_score\"].isna().sum()\n",
    "fhs_phys_cleaned[\"PID\"] = fhs_phys_cleaned[\"PID\"].astype(str).str.strip()\n",
    "print(f\"Number of NaNs in total-activity_score: {fhs_nan_count}\")\n"
   ]
  },
  {
   "cell_type": "code",
   "execution_count": 19,
   "id": "6c602b46-4f37-4016-bb56-65fdd440603f",
   "metadata": {},
   "outputs": [
    {
     "name": "stdout",
     "output_type": "stream",
     "text": [
      "FHS valid pids: 575\n",
      "ARIC valid pids: 1813\n",
      "ARIC and FHS pids together: 2388\n",
      "Total participants with complete covariates, meds, and physical activity data: 2028\n"
     ]
    }
   ],
   "source": [
    "# Now, getting pids with valid data \n",
    "pids_fhs_phys = set(fhs_phys_cleaned[\"PID\"])\n",
    "print(f\"FHS valid pids: {len(pids_fhs_phys)}\")\n",
    "\n",
    "pids_aric_phys = set(aric_phys[\"PID\"])  \n",
    "print(f\"ARIC valid pids: {len(pids_aric_phys)}\")\n",
    "\n",
    "# Combine physical activity PIDs\n",
    "pids_phys_valid = pids_fhs_phys.union(pids_aric_phys)\n",
    "print(\"ARIC and FHS pids together:\", len(pids_phys_valid))\n",
    "\n",
    "# Find intersection with the 2067 PIDs with valid Tier1-Tier 3 data \n",
    "pids_with_all_data = final_valid_pids & pids_phys_valid\n",
    "\n",
    "# Step 3: Output the result\n",
    "print(f\"Total participants with complete covariates, meds, and physical activity data: {len(pids_with_all_data)}\")\n"
   ]
  },
  {
   "cell_type": "markdown",
   "id": "8b5b57e1-28a2-4394-8069-e87c846e591c",
   "metadata": {},
   "source": [
    "### Creating CSV File for Mediation\n",
    "\n",
    "Now that we have 2028 participants with every single data point needed, we can put together the csv file to pull into R for the mediation analysis.\n",
    "\n",
    "Columns needed: \n",
    "* PID\n",
    "* Data for 2 SpO2 exposures\n",
    "* Data for 3 EEG mediators \n",
    "* The number of days to dementia diagnosis (from PSG) OR the number of follow up days\n",
    "* The dementia event (as 0 or 1)\n",
    "* Tier 1 covariates: bmi, race, age, sex\n",
    "* Tier 2 covariates: education, alc, smoking\n",
    "* Tier 3 covariates: medications binary for two groups \n",
    "* Physical activity data (RPAC8 from ARIC and the created total_activity_score for FHS) "
   ]
  },
  {
   "cell_type": "code",
   "execution_count": 20,
   "id": "ac5e3c54-d7c2-4914-bec2-1df2f41e36bd",
   "metadata": {},
   "outputs": [
    {
     "name": "stdout",
     "output_type": "stream",
     "text": [
      "2028\n",
      "Index(['PID', 'hb_desat', 'avg_spo2_no_desat_NREM'], dtype='object')\n"
     ]
    }
   ],
   "source": [
    "# Will create one big dataframe with ALL data before applying final checks and exclusions \n",
    "\n",
    "# Starting with exposures \n",
    "spo2_df[\"PID\"] = spo2_df[\"PID\"].astype(str)\n",
    "filtered_spo2 = spo2_df.loc[spo2_df[\"PID\"].isin(pids_with_all_data), [\"PID\", \"hb_desat\", \"avg_spo2_no_desat_NREM\"]]\n",
    "print(len(filtered_spo2))\n",
    "print(filtered_spo2.columns)"
   ]
  },
  {
   "cell_type": "code",
   "execution_count": 21,
   "id": "c0c3f077-2dc8-4569-8a4f-a8f64cd0defe",
   "metadata": {},
   "outputs": [
    {
     "name": "stdout",
     "output_type": "stream",
     "text": [
      "2028\n",
      "Index(['PID', 'SP_DENS_all_C', 'SP_CHIRP_all_C', 'SP_R_PHASE_IF_all_C'], dtype='object')\n"
     ]
    }
   ],
   "source": [
    "# Exposures \n",
    "eeg_df[\"PID\"] = eeg_df[\"PID\"].astype(str)\n",
    "filtered_eeg = eeg_df.loc[eeg_df[\"PID\"].isin(pids_with_all_data), [\"PID\", \"SP_DENS_all_C\", \"SP_CHIRP_all_C\", \"SP_R_PHASE_IF_all_C\"]]\n",
    "print(len(filtered_eeg))\n",
    "print(filtered_eeg.columns)"
   ]
  },
  {
   "cell_type": "code",
   "execution_count": 22,
   "id": "cf8b6307-3f3a-4338-a918-cdd41ce48069",
   "metadata": {},
   "outputs": [
    {
     "name": "stdout",
     "output_type": "stream",
     "text": [
      "489\n",
      "Index(['PID', 'DEM_STATUS', 'fhs_dementia_from_psg', 'fhs_dod_from_psg'], dtype='object')\n"
     ]
    }
   ],
   "source": [
    "# FHS dementia follow up \n",
    "dementia_fhs_df[\"PID\"] = dementia_fhs_df[\"PID\"].astype(str)\n",
    "dementia_fhs = dementia_fhs_df.loc[dementia_fhs_df[\"PID\"].isin(pids_with_all_data), [\"PID\", \"DEM_STATUS\",\"fhs_dementia_from_psg\",\"fhs_dod_from_psg\"]]\n",
    "\n",
    "print(len(dementia_fhs))\n",
    "print(dementia_fhs.columns)"
   ]
  },
  {
   "cell_type": "code",
   "execution_count": 23,
   "id": "79554cc6-d615-4197-a7d5-95ae795e6105",
   "metadata": {},
   "outputs": [
    {
     "name": "stdout",
     "output_type": "stream",
     "text": [
      "1539\n",
      "Index(['PID', 'DEMDXL3_81', 'aric_dementia_from_psg', 'aric_dod_from_psg'], dtype='object')\n"
     ]
    }
   ],
   "source": [
    "# ARIC dementia follow up \n",
    "\n",
    "dementia_aric_df[\"PID\"] = dementia_aric_df[\"PID\"].astype(str)\n",
    "dementia_aric = dementia_aric_df.loc[dementia_aric_df[\"PID\"].isin(pids_with_all_data), [\"PID\", \"DEMDXL3_81\",\"aric_dementia_from_psg\",\"aric_dod_from_psg\"]]\n",
    "\n",
    "print(len(dementia_aric))\n",
    "print(dementia_aric.columns)"
   ]
  },
  {
   "cell_type": "code",
   "execution_count": 24,
   "id": "8d07b147-fc3a-47f4-8eb1-598cca63cb50",
   "metadata": {},
   "outputs": [
    {
     "data": {
      "text/plain": [
       "2028"
      ]
     },
     "execution_count": 24,
     "metadata": {},
     "output_type": "execute_result"
    }
   ],
   "source": [
    "## Note: ARIC + FHS participants total the 2028 participants \n",
    "1539+489"
   ]
  },
  {
   "cell_type": "code",
   "execution_count": 25,
   "id": "a3f93971-35b3-4ee3-9cdc-92f695136d83",
   "metadata": {},
   "outputs": [
    {
     "name": "stdout",
     "output_type": "stream",
     "text": [
      "Number participants: 2028\n",
      "Columns: Index(['PID', 'dementia_event', 'days_psg_to_dementia', 'days_psg_to_death'], dtype='object')\n",
      "PIDs with follow up data: 2028\n",
      "PIDs with DoD: 882\n"
     ]
    }
   ],
   "source": [
    "# Combining both dementia dataframes into one and adding dementia_event column\n",
    "fhs = dementia_fhs.rename(columns={\"fhs_dementia_from_psg\": \"days_psg_to_dementia\", \"fhs_dod_from_psg\": \"days_psg_to_death\", \"DEM_STATUS\":\"dementia_event\"})\n",
    "aric = dementia_aric.rename(columns={\"aric_dementia_from_psg\": \"days_psg_to_dementia\",\"aric_dod_from_psg\": \"days_psg_to_death\", \"DEMDXL3_81\":\"dementia_event\"})\n",
    "\n",
    "dementia = pd.concat([fhs, aric], ignore_index=True)\n",
    "print(\"Number participants:\", len(dementia))\n",
    "print(\"Columns:\", dementia.columns)\n",
    "print(\"PIDs with follow up data:\", dementia[\"days_psg_to_dementia\"].notna().sum())\n",
    "print(\"PIDs with DoD:\", dementia[\"days_psg_to_death\"].notna().sum())"
   ]
  },
  {
   "cell_type": "code",
   "execution_count": 26,
   "id": "42b731f8-bba1-4f66-87bd-c06feedc6882",
   "metadata": {},
   "outputs": [
    {
     "name": "stdout",
     "output_type": "stream",
     "text": [
      "2028\n"
     ]
    }
   ],
   "source": [
    "# Starting with Tier 1 covariates\n",
    "covariates[\"PID\"] = covariates[\"PID\"].astype(str)\n",
    "filtered_cov = covariates.loc[covariates[\"PID\"].isin(pids_with_all_data), [\"PID\", \"nsrr_age\", \"nsrr_sex\", \"nsrr_race\", \"nsrr_bmi\"]]\n",
    "print(len(filtered_cov))"
   ]
  },
  {
   "cell_type": "code",
   "execution_count": 27,
   "id": "afcebb76-444c-44f9-a079-4d54cb028109",
   "metadata": {},
   "outputs": [
    {
     "name": "stdout",
     "output_type": "stream",
     "text": [
      "smoking\n",
      "0    1816\n",
      "1     212\n",
      "Name: count, dtype: int64\n",
      "212\n"
     ]
    }
   ],
   "source": [
    "# For Tier 2 covariates, need to recategorize\n",
    "# Recategorize smoking data into binary \n",
    "\n",
    "# Recode: smknow15 == 1 → 1; everything else → 0\n",
    "filtered_cov[\"smoking\"] = (covariates[\"smknow15\"] == 1).astype(int)\n",
    "\n",
    "print(filtered_cov[\"smoking\"].value_counts(dropna=False).sort_index())\n",
    "print(filtered_cov[\"smoking\"].sum())\n"
   ]
  },
  {
   "cell_type": "code",
   "execution_count": 28,
   "id": "f399184f-64c9-4812-8ba0-f9553e70618e",
   "metadata": {},
   "outputs": [
    {
     "name": "stdout",
     "output_type": "stream",
     "text": [
      "alcohol\n",
      "0     980\n",
      "1    1048\n",
      "Name: count, dtype: int64\n",
      "1048\n"
     ]
    }
   ],
   "source": [
    "# Recategorize alcohol data into binary \n",
    "\n",
    "# Recode: alcoh > 0 → 1; if alcoh==0 → 0 \n",
    "filtered_cov[\"alcohol\"] = (covariates[\"alcoh\"] > 0).astype(int)\n",
    "\n",
    "print(filtered_cov[\"alcohol\"].value_counts(dropna=False).sort_index())\n",
    "print(filtered_cov[\"alcohol\"].sum())\n"
   ]
  },
  {
   "cell_type": "code",
   "execution_count": 29,
   "id": "30d05dd6-db93-46aa-8bd5-08f5c33d005f",
   "metadata": {},
   "outputs": [
    {
     "name": "stdout",
     "output_type": "stream",
     "text": [
      "education\n",
      "0    1173\n",
      "1     855\n",
      "Name: count, dtype: int64\n",
      "855\n"
     ]
    }
   ],
   "source": [
    "# Recategorize education into binary \n",
    "\n",
    "# Recode: educat 1–2 → 0; 3–4 → 1\n",
    "filtered_cov[\"education\"] = covariates[\"educat\"].isin([3, 4]).astype(int)\n",
    "\n",
    "print(filtered_cov[\"education\"].value_counts(dropna=False).sort_index())\n",
    "print(filtered_cov[\"education\"].sum())"
   ]
  },
  {
   "cell_type": "code",
   "execution_count": 30,
   "id": "d9795224-598a-437c-87a9-67639ee1c7e1",
   "metadata": {},
   "outputs": [
    {
     "name": "stdout",
     "output_type": "stream",
     "text": [
      "sex\n",
      "0    1014\n",
      "1    1014\n",
      "Name: count, dtype: int64\n",
      "race\n",
      "0    2027\n",
      "1       1\n",
      "Name: count, dtype: int64\n"
     ]
    }
   ],
   "source": [
    "# Map sex and race into binary \n",
    "filtered_cov[\"nsrr_sex\"] = filtered_cov[\"nsrr_sex\"].astype(str).str.strip().str.lower()\n",
    "filtered_cov[\"sex\"] = filtered_cov[\"nsrr_sex\"].map({\"male\": 0, \"female\": 1})\n",
    "print(filtered_cov[\"sex\"].value_counts(dropna=False))\n",
    "filtered_cov = filtered_cov.drop(columns=[\"nsrr_sex\"])\n",
    "\n",
    "# Race \n",
    "filtered_cov[\"nsrr_race\"] = filtered_cov[\"nsrr_race\"].astype(str).str.strip().str.lower()\n",
    "filtered_cov[\"race\"] = filtered_cov[\"nsrr_race\"].map({\"white\": 0, \"black or african american\": 1})\n",
    "print(filtered_cov[\"race\"].value_counts(dropna=False))\n",
    "filtered_cov = filtered_cov.drop(columns=[\"nsrr_race\"])\n",
    "\n",
    "# Also rename age and BMI columns\n",
    "filtered_cov = filtered_cov.rename(columns={\"nsrr_bmi\":\"bmi\", \"nsrr_age\":\"age\"})"
   ]
  },
  {
   "cell_type": "code",
   "execution_count": 31,
   "id": "e446175c-4601-45c7-a90c-e4838d4dcb2f",
   "metadata": {},
   "outputs": [
    {
     "name": "stdout",
     "output_type": "stream",
     "text": [
      "2027\n",
      "race\n",
      "0    2027\n",
      "Name: count, dtype: int64\n"
     ]
    }
   ],
   "source": [
    "# To avoid colinearity, dropping 1 Black participant \n",
    "pid_to_drop = filtered_cov.loc[filtered_cov[\"race\"] == 1, \"PID\"].values[0]\n",
    "filtered_cov = filtered_cov[filtered_cov[\"PID\"] != pid_to_drop].copy()\n",
    "print(len(filtered_cov))\n",
    "print(filtered_cov[\"race\"].value_counts())"
   ]
  },
  {
   "cell_type": "code",
   "execution_count": 32,
   "id": "322e0bad-0ea6-40a9-b8dc-f5392915fa9a",
   "metadata": {},
   "outputs": [
    {
     "name": "stdout",
     "output_type": "stream",
     "text": [
      "Index(['PID', 'age', 'sex', 'race', 'bmi', 'education', 'smoking', 'alcohol'], dtype='object')\n"
     ]
    }
   ],
   "source": [
    "# Reordering covariate columns for ease \n",
    "new_order = [\"PID\", \"age\", \"sex\", \"race\", \"bmi\", \"education\", \"smoking\", \"alcohol\"]\n",
    "filtered_cov = filtered_cov[new_order]\n",
    "print(filtered_cov.columns)"
   ]
  },
  {
   "cell_type": "code",
   "execution_count": 33,
   "id": "22d6484e-76d7-4f83-ba7e-c818379c016f",
   "metadata": {},
   "outputs": [
    {
     "data": {
      "text/plain": [
       "Index(['PID', 'tca1', 'ntca1', 'slpill15', 'htnmed1', 'loop1', 'hctz1',\n",
       "       'hctzk1', 'ccbir1', 'ccbsr1', 'alpha1', 'alphad1', 'beta1', 'betad1',\n",
       "       'ccb1', 'ace1', 'aced1', 'vaso1', 'vasod1', 'pvdl1', 'diuret1',\n",
       "       'lipid1', 'warf1', 'pdei1', 'dig1', 'anar1a1', 'anar1b1', 'anar1c1',\n",
       "       'anar31', 'asa1', 'ntg1', 'ohga1', 'insuln1', 'ostrd1', 'sympth1',\n",
       "       'istrd1', 'benzod1', 'estrgn1', 'progst1', 'premar1', 'nsaid1', 'basq1',\n",
       "       'niac1', 'thry1'],\n",
       "      dtype='object')"
      ]
     },
     "execution_count": 33,
     "metadata": {},
     "output_type": "execute_result"
    }
   ],
   "source": [
    "# Now moving to Tier 3 (medications)\n",
    "medications.columns"
   ]
  },
  {
   "cell_type": "code",
   "execution_count": 34,
   "id": "5acb2dad-5eb0-4ef8-99a8-39fc098fa22c",
   "metadata": {},
   "outputs": [
    {
     "name": "stdout",
     "output_type": "stream",
     "text": [
      "group1_med  group2_med\n",
      "0           1             1058\n",
      "            0              800\n",
      "1           1              107\n",
      "            0               63\n",
      "Name: count, dtype: int64\n"
     ]
    }
   ],
   "source": [
    "# Filter by relevant PIDs\n",
    "medications = medications[medications[\"PID\"].isin(pids_with_all_data)].copy()\n",
    "\n",
    "# Define med groups \n",
    "group1_meds = medications.loc[:, \"tca1\":\"slpill15\"].columns   \n",
    "group2_meds = medications.loc[:, \"htnmed1\":\"ntg1\"].columns   \n",
    "exclude_meds = medications.loc[:, \"ohga1\":\"benzod1\"].columns  \n",
    "\n",
    "# Set binary for group 1 and 2 meds \n",
    "medications[\"group1_med\"] = medications[group1_meds].eq(1).any(axis=1).astype(int)\n",
    "medications[\"group2_med\"] = medications[group2_meds].eq(1).any(axis=1).astype(int)\n",
    "\n",
    "# Optional check\n",
    "print(medications[[\"group1_med\", \"group2_med\"]].value_counts(dropna=False))\n",
    "#print(medications[\"group2_med\"].value_counts(dropna=False))\n",
    "\n",
    "# Final dataframe\n",
    "med_relevant_pids = medications[[\"PID\", \"group1_med\", \"group2_med\"]].copy()\n"
   ]
  },
  {
   "cell_type": "code",
   "execution_count": 35,
   "id": "53f5cf72-d15d-43bc-8627-0b8b9ed256e8",
   "metadata": {},
   "outputs": [],
   "source": [
    "# Copy in the FHS and ARIC exercise data for sensitivity analysis\n",
    "filtered_aric_phys = aric_phys[aric_phys[\"PID\"].isin(pids_with_all_data)].copy()\n",
    "filtered_fhs_phys = fhs_phys_cleaned[fhs_phys_cleaned[\"PID\"].isin(pids_with_all_data)].copy()\n",
    "fhs_phys_for_dataset = filtered_fhs_phys[[\"PID\", \"total_activity_score\"]].copy()"
   ]
  },
  {
   "cell_type": "code",
   "execution_count": 36,
   "id": "afb3d99c-25d9-47de-a468-8e8b15a60ba2",
   "metadata": {},
   "outputs": [],
   "source": [
    "# Merge into one column for exercise \n",
    "fhs_phys_for_dataset = fhs_phys_for_dataset.rename(columns={\"total_activity_score\": \"exercise\"})\n",
    "filtered_aric_phys = filtered_aric_phys.rename(columns={\"RPAC8\": \"exercise\"})\n",
    "\n",
    "exercise = pd.concat([fhs_phys_for_dataset, filtered_aric_phys], ignore_index=True)\n"
   ]
  },
  {
   "cell_type": "markdown",
   "id": "bd083a20-0102-4709-bdeb-6587a394a46d",
   "metadata": {},
   "source": [
    "### Merge all dfs together "
   ]
  },
  {
   "cell_type": "code",
   "execution_count": 37,
   "id": "6b0efe50-a1af-4967-8666-f5f55646b3f5",
   "metadata": {},
   "outputs": [
    {
     "name": "stdout",
     "output_type": "stream",
     "text": [
      "Columns: Index(['PID', 'hb_desat', 'avg_spo2_no_desat_NREM', 'SP_DENS_all_C',\n",
      "       'SP_CHIRP_all_C', 'SP_R_PHASE_IF_all_C', 'dementia_event',\n",
      "       'days_psg_to_dementia', 'days_psg_to_death', 'age', 'sex', 'race',\n",
      "       'bmi', 'education', 'smoking', 'alcohol', 'group1_med', 'group2_med',\n",
      "       'exercise'],\n",
      "      dtype='object')\n",
      "PIDs: 2027\n"
     ]
    }
   ],
   "source": [
    "# Dfs to merge: filtered_spo2, filtered_eeg, dementia, filtered_cov, med_relevant_pids, exercise \n",
    "\n",
    "dfs_to_merge = [filtered_spo2, filtered_eeg, dementia, filtered_cov, med_relevant_pids, exercise]\n",
    "\n",
    "# Merge them one by one using reduce\n",
    "merged_df = reduce(lambda left, right: pd.merge(left, right, on=\"PID\", how=\"inner\"), dfs_to_merge)\n",
    "print(\"Columns:\", merged_df.columns)\n",
    "print(\"PIDs:\", len(merged_df))"
   ]
  },
  {
   "cell_type": "code",
   "execution_count": 38,
   "id": "ed093015-fe62-4412-aa7c-5f85fc33b75f",
   "metadata": {},
   "outputs": [
    {
     "name": "stdout",
     "output_type": "stream",
     "text": [
      "Number PIDs missing data: 2\n",
      "Missing columns: ['SP_R_PHASE_IF_all_C']\n",
      "Missing columns: ['SP_R_PHASE_IF_all_C']\n"
     ]
    }
   ],
   "source": [
    "# Perform last checks\n",
    "# First, is any data missing? Check all columns OTHER THAN Date of Death (since not every participant has a recorded DoD) \n",
    "cols_to_check = merged_df.columns.difference([\"days_psg_to_death\"])\n",
    "rows_with_missing = merged_df[merged_df[cols_to_check].isna().any(axis=1)]\n",
    "\n",
    "\n",
    "print(\"Number PIDs missing data:\", len(rows_with_missing))\n",
    "for idx, row in rows_with_missing.iterrows():\n",
    "    missing_cols = row[cols_to_check][row[cols_to_check].isna()].index.tolist()\n",
    "    print(f\"Missing columns: {missing_cols}\")\n",
    "\n",
    "# Need to drop 2 PIDs with missing data"
   ]
  },
  {
   "cell_type": "code",
   "execution_count": 39,
   "id": "ce2ef184-d633-4aa4-ace4-fcf949a6ecc7",
   "metadata": {},
   "outputs": [
    {
     "name": "stdout",
     "output_type": "stream",
     "text": [
      "Final cleaned merged_df: 2025 participants\n"
     ]
    }
   ],
   "source": [
    "# Find PIDs with missing values\n",
    "bad_pids = rows_with_missing[\"PID\"]\n",
    "\n",
    "# Drop these PIDs from merged_df\n",
    "merged_df_cleaned = merged_df[~merged_df[\"PID\"].isin(bad_pids)].copy()\n",
    "\n",
    "print(f\"Final cleaned merged_df: {len(merged_df_cleaned)} participants\")"
   ]
  },
  {
   "cell_type": "code",
   "execution_count": 40,
   "id": "d0ede553-dcb9-4416-b20f-64fc128dfba1",
   "metadata": {},
   "outputs": [
    {
     "name": "stdout",
     "output_type": "stream",
     "text": [
      "number invalid pids: 2\n",
      "Final cleaned participants: 2023\n"
     ]
    }
   ],
   "source": [
    "# Now, check if any participant has a dementia diagnosis at time of PSG \n",
    "\n",
    "invalid_pids = merged_df_cleaned[(merged_df_cleaned[\"days_psg_to_dementia\"] < 0)]\n",
    "print(\"number invalid pids:\", len(invalid_pids))\n",
    "\n",
    "# Extract PIDs\n",
    "bad_pids = invalid_pids[\"PID\"].tolist()\n",
    "\n",
    "# Drop PIDs from main_df\n",
    "final_cleaned_df = merged_df_cleaned[~merged_df_cleaned[\"PID\"].isin(bad_pids)].reset_index(drop=True)\n",
    "\n",
    "# Check final number participants \n",
    "print(\"Final cleaned participants:\", len(final_cleaned_df))"
   ]
  },
  {
   "cell_type": "code",
   "execution_count": 41,
   "id": "bd6850e3-8c53-4996-91f2-0f9de651c5b6",
   "metadata": {},
   "outputs": [],
   "source": [
    "# Export final df to csv \n",
    "#final_cleaned_df.to_csv(\"NAME FILE.csv\", index=False)"
   ]
  },
  {
   "cell_type": "markdown",
   "id": "edb53596-4cb9-4729-993a-c557550c7d0b",
   "metadata": {},
   "source": [
    "### Exporting medication counts for reference "
   ]
  },
  {
   "cell_type": "code",
   "execution_count": 42,
   "id": "103b7e60-04f9-49bc-b5b3-d8431fda7e84",
   "metadata": {
    "scrolled": true
   },
   "outputs": [],
   "source": [
    "final_pids = set(final_cleaned_df[\"PID\"])\n",
    "meds_check = medications[medications[\"PID\"].isin(final_pids)]\n",
    "\n",
    "results = []\n",
    "\n",
    "for col in meds_check.columns:\n",
    "    if col != \"PID\":\n",
    "        counts = meds_check[col].value_counts(dropna=False).sort_index()\n",
    "        for value, count in counts.items():\n",
    "            results.append({\"Medication\": col, \"Value\": value, \"Count\": count})\n",
    "\n",
    "# Convert to DataFrame and export to CSV\n",
    "results_df = pd.DataFrame(results)\n",
    "#results_df.to_csv(\"medication_value_counts.csv\", index=False)\n"
   ]
  },
  {
   "cell_type": "markdown",
   "id": "fa672a74-552a-41cc-8f81-ccf14c746047",
   "metadata": {},
   "source": [
    "### Prepping datasets for stratifications"
   ]
  },
  {
   "cell_type": "code",
   "execution_count": 43,
   "id": "0d6f6536-b871-4857-9a7d-cbb8d00f0b8e",
   "metadata": {},
   "outputs": [],
   "source": [
    "total_df = pd.read_csv(\"med_model_dataset_7.8.2025.csv\")"
   ]
  },
  {
   "cell_type": "code",
   "execution_count": 44,
   "id": "5f72d75a-6dc2-4ec3-896a-eda3f9893f68",
   "metadata": {},
   "outputs": [
    {
     "name": "stdout",
     "output_type": "stream",
     "text": [
      "Number males: 1010\n",
      "Number females: 1013\n",
      "Female dementia count: 208\n",
      "Male dementia count: 186\n"
     ]
    }
   ],
   "source": [
    "# By sex \n",
    "df_male = total_df[total_df[\"sex\"] == 0]\n",
    "df_female = total_df[total_df[\"sex\"] == 1]\n",
    "\n",
    "print(\"Number males:\", len(df_male))\n",
    "print(\"Number females:\", len(df_female))\n",
    "#0 is male, 1 is female\n",
    "\n",
    "# Save to CSV\n",
    "#df_female.to_csv(\"mediation_dataset_female.csv\", index=False)\n",
    "#df_male.to_csv(\"mediation_dataset_male.csv\", index=False)\n",
    "\n",
    "# Check number of dementia events \n",
    "print(\"Female dementia count:\", df_female[\"dementia_event\"].sum())\n",
    "print(\"Male dementia count:\", df_male[\"dementia_event\"].sum())\n"
   ]
  },
  {
   "cell_type": "code",
   "execution_count": 45,
   "id": "f85a8427-607a-45d8-8c2b-48e97e079c50",
   "metadata": {},
   "outputs": [
    {
     "name": "stdout",
     "output_type": "stream",
     "text": [
      "Number below 65: 1310\n",
      "Number above 65: 713\n",
      "Above 65 dementia count: 250\n",
      "Below 65 dementia count: 144\n"
     ]
    }
   ],
   "source": [
    "# By age, with 65 as threshold \n",
    "df_below_65= total_df[total_df[\"age\"] < 65]\n",
    "df_above_65= total_df[total_df[\"age\"] >= 65]\n",
    "print(\"Number below 65:\", len(df_below_65))\n",
    "print(\"Number above 65:\", len(df_above_65))\n",
    "\n",
    "# Save to CSV \n",
    "#df_below_65.to_csv(\"mediation_dataset_below65.csv\", index=False)\n",
    "#df_above_65.to_csv(\"mediation_dataset_above65.csv\", index=False)\n",
    "\n",
    "# Check dementia counts \n",
    "print(\"Above 65 dementia count:\", df_above_65[\"dementia_event\"].sum())\n",
    "print(\"Below 65 dementia count:\", df_below_65[\"dementia_event\"].sum())"
   ]
  },
  {
   "cell_type": "code",
   "execution_count": 46,
   "id": "5016bf8d-74ff-444b-a88d-11d237e7798a",
   "metadata": {},
   "outputs": [
    {
     "name": "stdout",
     "output_type": "stream",
     "text": [
      "number with normal BMI: 464\n",
      "number with overweight BMI: 867\n",
      "number with obese BMI: 688\n",
      "Normal BMI dementia cases: 94\n",
      "Overweight BMI dementia cases: 172\n",
      "Obese BMI dementia cases: 126\n"
     ]
    }
   ],
   "source": [
    "# By BMI\n",
    "normal_bmi = total_df[(total_df[\"bmi\"] >= 18.5) & (total_df[\"bmi\"] < 25)]\n",
    "overweight_bmi = total_df[(total_df[\"bmi\"] >= 25) & (total_df[\"bmi\"] < 30)]\n",
    "obese_bmi = total_df[total_df[\"bmi\"] >= 30]\n",
    "\n",
    "# Number participants \n",
    "print(f\"number with normal BMI: {len(normal_bmi)}\")\n",
    "print(f\"number with overweight BMI: {len(overweight_bmi)}\")\n",
    "print(f\"number with obese BMI: {len(obese_bmi)}\")\n",
    "\n",
    "# Dementia event counts\n",
    "print(\"Normal BMI dementia cases:\", normal_bmi[\"dementia_event\"].sum())\n",
    "print(\"Overweight BMI dementia cases:\", overweight_bmi[\"dementia_event\"].sum())\n",
    "print(\"Obese BMI dementia cases:\", obese_bmi[\"dementia_event\"].sum())\n",
    "\n",
    "# Save to CSV\n",
    "#normal_bmi.to_csv(\"mediation_dataset_normal.csv\", index=False)\n",
    "#overweight.to_csv(\"mediation_dataset_overweight.csv\", index=False)\n",
    "#obese.to_csv(\"mediation_dataset_obese.csv\", index=False)"
   ]
  },
  {
   "cell_type": "code",
   "execution_count": 47,
   "id": "9535704e-978d-4cf8-b63a-3ecaf37c0c09",
   "metadata": {},
   "outputs": [
    {
     "name": "stdout",
     "output_type": "stream",
     "text": [
      "Females below 65: 79\n",
      "Females above 65: 129\n",
      "Males below 65: 65\n",
      "Males above 65: 121\n",
      "Number females above 65: 321\n",
      "Number males above 65: 392\n"
     ]
    }
   ],
   "source": [
    "# By age and sex \n",
    "females_below_65 = total_df[(total_df[\"age\"] < 65) & (total_df[\"sex\"]==1)]\n",
    "females_above_65 = total_df[(total_df[\"age\"] >= 65) & (total_df[\"sex\"]==1)]\n",
    "print(\"Females below 65:\", females_below_65[\"dementia_event\"].sum())\n",
    "print(\"Females above 65:\", females_above_65[\"dementia_event\"].sum())\n",
    "\n",
    "males_below_65 = total_df[(total_df[\"age\"] < 65) & (total_df[\"sex\"]==0)]\n",
    "males_above_65 = total_df[(total_df[\"age\"] >= 65) & (total_df[\"sex\"]==0)]\n",
    "print(\"Males below 65:\", males_below_65[\"dementia_event\"].sum())\n",
    "print(\"Males above 65:\", males_above_65[\"dementia_event\"].sum())\n",
    "\n",
    "# Save to CSV \n",
    "females_above_65.to_csv(\"mediation_dataset_females_above65.csv\", index=False)\n",
    "males_above_65.to_csv(\"mediation_dataset_males_above65.csv\", index=False)\n",
    "\n",
    "\n",
    "# Check number PIDs\n",
    "print(f\"Number females above 65: {len(females_above_65)}\")\n",
    "print(f\"Number males above 65: {len(males_above_65)}\")"
   ]
  },
  {
   "cell_type": "markdown",
   "id": "0d86e54e-50f8-4bdf-bdf9-26f3621a9ada",
   "metadata": {},
   "source": [
    "### Generating descriptive stats from final mediation dataset "
   ]
  },
  {
   "cell_type": "code",
   "execution_count": 48,
   "id": "5f313288-d318-442b-80fa-c076169fbeba",
   "metadata": {},
   "outputs": [],
   "source": [
    "final_df = pd.read_csv(\"final_mediation_data_7.18.csv\")"
   ]
  },
  {
   "cell_type": "code",
   "execution_count": 49,
   "id": "618a4449-6c55-4844-8be2-94cf333af73e",
   "metadata": {},
   "outputs": [
    {
     "data": {
      "text/plain": [
       "Index(['PID', 'hb_desat', 'avg_spo2_no_desat_NREM', 'SP_DENS_all_C',\n",
       "       'SP_CHIRP_all_C', 'SP_R_PHASE_IF_all_C', 'dementia_event',\n",
       "       'days_psg_to_dementia', 'days_psg_to_death', 'age', 'sex', 'race',\n",
       "       'bmi', 'education', 'smoking', 'alcohol', 'group1_med', 'group2_med',\n",
       "       'exercise'],\n",
       "      dtype='object')"
      ]
     },
     "execution_count": 49,
     "metadata": {},
     "output_type": "execute_result"
    }
   ],
   "source": [
    "final_df.columns"
   ]
  },
  {
   "cell_type": "code",
   "execution_count": 50,
   "id": "d258c128-fa87-45dd-9b4e-06e7436aaff3",
   "metadata": {},
   "outputs": [
    {
     "name": "stdout",
     "output_type": "stream",
     "text": [
      "Column: sex\n",
      "sex\n",
      "0    1010\n",
      "1    1013\n",
      "Name: count, dtype: int64\n",
      "\n",
      "\n",
      "Column: education\n",
      "education\n",
      "0    1170\n",
      "1     853\n",
      "Name: count, dtype: int64\n",
      "\n",
      "\n",
      "Column: smoking\n",
      "smoking\n",
      "0    1812\n",
      "1     211\n",
      "Name: count, dtype: int64\n",
      "\n",
      "\n",
      "Column: group1_med\n",
      "group1_med\n",
      "0    1854\n",
      "1     169\n",
      "Name: count, dtype: int64\n",
      "\n",
      "\n",
      "Column: group2_med\n",
      "group2_med\n",
      "0     861\n",
      "1    1162\n",
      "Name: count, dtype: int64\n",
      "\n",
      "\n",
      "Number with no medications: 799\n"
     ]
    }
   ],
   "source": [
    "# Tier 1-Tier 3 covariates \n",
    "cols = (\"sex\", \"education\", \"smoking\", \"group1_med\", \"group2_med\")\n",
    "\n",
    "for i in cols:\n",
    "    print(f\"Column: {i}\")\n",
    "    print(final_df[i].value_counts(dropna=False).sort_index())\n",
    "    print(\"\\n\")\n",
    "\n",
    "print(f\"Number with no medications: {((final_df['group1_med'] == 0) & (final_df['group2_med'] == 0)).sum()}\")"
   ]
  },
  {
   "cell_type": "code",
   "execution_count": 51,
   "id": "c73b6d3f-74a0-492e-a3a8-4af9d8a013b3",
   "metadata": {},
   "outputs": [
    {
     "name": "stdout",
     "output_type": "stream",
     "text": [
      "Mean: 61.49\n",
      "Std: 6.87\n",
      "age\n",
      "40-49     72\n",
      "50-59    763\n",
      "60-69    903\n",
      "70-79    281\n",
      "80-89      4\n",
      "Name: count, dtype: int64\n",
      "Oldest age: 81\n"
     ]
    }
   ],
   "source": [
    "# Checking age by groupings\n",
    "\n",
    "print(f\"Mean: {final_df['age'].mean().round(2)}\")\n",
    "print(f\"Std: {round(final_df['age'].std(), 2)}\")\n",
    "\n",
    "# Create groups from 40 to 90, step by 10 \n",
    "groups = pd.cut(final_df['age'], bins=range(40, 100, 10), right=False)  \n",
    "age_counts=groups.value_counts().sort_index()\n",
    "age_counts.index =  age_counts.index.map(lambda x: f\"{x.left}-{x.right - 1}\")\n",
    "\n",
    "print(age_counts)\n",
    "\n",
    "# NOTE: final group is only 80-81 \n",
    "print(f\"Oldest age: {final_df['age'].max()}\")"
   ]
  },
  {
   "cell_type": "code",
   "execution_count": 52,
   "id": "d8ece719-f5ab-4bce-b5d3-f0d5a6c5c459",
   "metadata": {},
   "outputs": [
    {
     "name": "stdout",
     "output_type": "stream",
     "text": [
      "bmi\n",
      "Underweight      4\n",
      "Normal         464\n",
      "Overweight     867\n",
      "Obesity I      476\n",
      "Obesity II     153\n",
      "Obesity III     59\n",
      "Name: count, dtype: int64\n",
      "Mean: 28.67\n",
      "Std: 5.0\n"
     ]
    }
   ],
   "source": [
    "# Checking BMI by groupings\n",
    "\n",
    "# Define categories by clinical definitions \n",
    "bmi_bins = [0, 18.5, 25, 30, 35, 40, float('inf')]\n",
    "bmi_labels = ['Underweight', 'Normal', 'Overweight', 'Obesity I', 'Obesity II', 'Obesity III']\n",
    "\n",
    "bmi_groups = pd.cut(final_df['bmi'], bins=bmi_bins, labels=bmi_labels, right=False)\n",
    "bmi_counts = bmi_groups.value_counts().sort_index()\n",
    "\n",
    "print(bmi_counts)\n",
    "\n",
    "print(f\"Mean: {final_df['bmi'].mean().round(2)}\")\n",
    "print(f\"Std: {round(final_df['bmi'].std(), 2)}\")"
   ]
  },
  {
   "cell_type": "code",
   "execution_count": 53,
   "id": "d7c8b8b0-a69a-4d4c-a2d9-e3ee39b6440e",
   "metadata": {},
   "outputs": [
    {
     "name": "stdout",
     "output_type": "stream",
     "text": [
      "Index(['PID', 'nsrr_age', 'nsrr_sex', 'nsrr_race', 'nsrr_bmi', 'educat',\n",
      "       'alcoh', 'evsmok15', 'smknow15', 'cigday15', 'avesmk15'],\n",
      "      dtype='object')\n",
      "1013\n",
      "No drinking: 575\n",
      "Moderate (1 drink): 138\n",
      "Mod_Heavy (2-4 drinks): 129\n",
      "Heavy (>=4 drinks): 171\n"
     ]
    }
   ],
   "source": [
    "# Alchol consumption, using clinical definitions \n",
    "\n",
    "# First need to pull in all data rather than the simplified binary\n",
    "final_pids = set(final_df[\"PID\"])\n",
    "covariates_subset = covariates[covariates[\"PID\"].isin(final_pids)].copy()\n",
    "print(covariates_subset.columns)\n",
    "# in females \n",
    "female_alcoh = covariates_subset.loc[covariates_subset[\"nsrr_sex\"] == \"female\", [\"PID\", \"alcoh\"]]\n",
    "print(len(female_alcoh))\n",
    "\n",
    "no_drinking = (female_alcoh['alcoh'] == 0)\n",
    "moderate = (female_alcoh['alcoh'] == 1)\n",
    "mod_heavy = (female_alcoh['alcoh'] > 1) & (female_alcoh['alcoh'] < 4)\n",
    "heavy = (female_alcoh['alcoh'] >= 4)\n",
    "\n",
    "female_drinking_counts = {\n",
    "    \"No drinking\": no_drinking.sum(),\n",
    "    \"Moderate (1 drink)\": moderate.sum(),\n",
    "    \"Mod_Heavy (2-4 drinks)\": mod_heavy.sum(),\n",
    "    \"Heavy (>=4 drinks)\": heavy.sum(),\n",
    "}\n",
    "\n",
    "# Print counts\n",
    "for category, count in female_drinking_counts.items():\n",
    "    print(f\"{category}: {count}\")"
   ]
  },
  {
   "cell_type": "code",
   "execution_count": 54,
   "id": "d7d28256-184c-429a-9eca-c11fcdd10d14",
   "metadata": {},
   "outputs": [
    {
     "name": "stdout",
     "output_type": "stream",
     "text": [
      "1010\n",
      "No drinking: 401\n",
      "Moderate (2 drinks or less): 169\n",
      "Mod_Heavy (2-5 drinks): 113\n",
      "Heavy (>=5 drinks): 327\n"
     ]
    }
   ],
   "source": [
    "# Repeat for males\n",
    "\n",
    "male_alcoh = covariates_subset.loc[covariates_subset[\"nsrr_sex\"] == \"male\", [\"PID\", \"alcoh\"]]\n",
    "print(len(male_alcoh))\n",
    "\n",
    "no_drinking = (male_alcoh['alcoh'] == 0)\n",
    "moderate = (male_alcoh['alcoh'] > 0) & (male_alcoh['alcoh'] <= 2)\n",
    "mod_heavy = (male_alcoh['alcoh'] > 2) & (male_alcoh['alcoh'] < 5)\n",
    "heavy = (male_alcoh['alcoh'] >=5 )\n",
    "\n",
    "male_drinking_counts = {\n",
    "    \"No drinking\": no_drinking.sum(),\n",
    "    \"Moderate (2 drinks or less)\": moderate.sum(),\n",
    "    \"Mod_Heavy (2-5 drinks)\": mod_heavy.sum(),\n",
    "    \"Heavy (>=5 drinks)\": heavy.sum(),\n",
    "}\n",
    "\n",
    "# Print counts\n",
    "for category, count in male_drinking_counts.items():\n",
    "    print(f\"{category}: {count}\")\n"
   ]
  },
  {
   "cell_type": "code",
   "execution_count": 55,
   "id": "0691a450-7ab7-4e41-be5c-94ce9ff3c1c4",
   "metadata": {},
   "outputs": [
    {
     "name": "stdout",
     "output_type": "stream",
     "text": [
      "                   Metric           Male         Female          Total\n",
      "0  avg_spo2_no_desat_NREM   94.94 ± 1.51   95.57 ± 1.54   95.25 ± 1.56\n",
      "1                hb_desat  73.44 ± 68.13  49.15 ± 50.91  61.27 ± 61.33\n",
      "2           SP_DENS_all_C    2.46 ± 0.93     2.77 ± 0.9    2.62 ± 0.93\n",
      "3          SP_CHIRP_all_C   -0.19 ± 0.12   -0.24 ± 0.12   -0.22 ± 0.12\n",
      "4     SP_R_PHASE_IF_all_C    0.47 ± 0.21    0.52 ± 0.22    0.49 ± 0.22\n"
     ]
    }
   ],
   "source": [
    "results = []\n",
    "\n",
    "variables = [\"avg_spo2_no_desat_NREM\", \"hb_desat\", \"SP_DENS_all_C\", \"SP_CHIRP_all_C\", \"SP_R_PHASE_IF_all_C\"]\n",
    "\n",
    "for metric in variables:\n",
    "    row = {\"Metric\": metric}\n",
    "    for group_name, group_df in [\n",
    "        (\"Male\", final_df[final_df['sex'] == 0]),\n",
    "        (\"Female\", final_df[final_df['sex'] == 1]),\n",
    "        (\"Total\", final_df)]:\n",
    "        \n",
    "        vals = pd.to_numeric(group_df[metric], errors='coerce')\n",
    "        if not vals.empty:\n",
    "            mean_val = vals.mean().round(2)\n",
    "            sd_val = round(vals.std(), 2)\n",
    "            row[group_name] = f\"{mean_val} ± {sd_val}\"\n",
    "        else:\n",
    "            row[group_name] = \"N/A\"\n",
    "    results.append(row)\n",
    "\n",
    "table = pd.DataFrame(results)\n",
    "print(table)"
   ]
  },
  {
   "cell_type": "code",
   "execution_count": 56,
   "id": "2576920d-31b3-4f0b-9027-2ea4b53b7e61",
   "metadata": {},
   "outputs": [
    {
     "name": "stdout",
     "output_type": "stream",
     "text": [
      "Num events: 394\n",
      "Days to dementia: 6086.17 ± 1691.55\n",
      "Female: 6080.77 ± 1678.44\n",
      "Number in Female: 208\n",
      "Male: 6092.21 ± 1710.61\n",
      "Number in Male: 186\n"
     ]
    }
   ],
   "source": [
    "# Stats for dementia events \n",
    "dementia_event = final_df[final_df[\"dementia_event\"]==1].copy()\n",
    "print(\"Num events:\", len(dementia_event))\n",
    "\n",
    "print(f\"Days to dementia: {dementia_event['days_psg_to_dementia'].mean().round(2)} ± {round(dementia_event['days_psg_to_dementia'].std(), 2)}\")\n",
    "\n",
    "for label, value in [(\"Female\", 1), (\"Male\", 0)]:\n",
    "    group = dementia_event[dementia_event[\"sex\"] == value]\n",
    "    if not group.empty:\n",
    "        mean_val = round(group[\"days_psg_to_dementia\"].mean(), 2)\n",
    "        std_val = round(group[\"days_psg_to_dementia\"].std(), 2)\n",
    "        print(f\"{label}: {mean_val} ± {std_val}\")\n",
    "        print(f\"Number in {label}: {len(group)}\")\n",
    "    else:\n",
    "        print(f\"{label}: No events\")"
   ]
  },
  {
   "cell_type": "code",
   "execution_count": 57,
   "id": "a7d1d188-035f-499b-a6c6-a4edf7ca0114",
   "metadata": {},
   "outputs": [
    {
     "name": "stdout",
     "output_type": "stream",
     "text": [
      "Num events: 1629\n",
      "Days of follow up time: 6849.91 ± 2219.45\n",
      "Female: 7153.89 ± 2013.0\n",
      "Number in Female: 805\n",
      "Male: 6552.95 ± 2367.88\n",
      "Number in Male: 824\n"
     ]
    }
   ],
   "source": [
    "# Stats for follow ups \n",
    "followup = final_df[final_df[\"dementia_event\"]==0].copy()\n",
    "print(\"Num events:\", len(followup))\n",
    "\n",
    "print(f\"Days of follow up time: {followup['days_psg_to_dementia'].mean().round(2)} ± {round(followup['days_psg_to_dementia'].std(), 2)}\")\n",
    "\n",
    "for label, value in [(\"Female\", 1), (\"Male\", 0)]:\n",
    "    group = followup[followup[\"sex\"] == value]\n",
    "    if not group.empty:\n",
    "        mean_val = round(group[\"days_psg_to_dementia\"].mean(), 2)\n",
    "        std_val = round(group[\"days_psg_to_dementia\"].std(), 2)\n",
    "        print(f\"{label}: {mean_val} ± {std_val}\")\n",
    "        print(f\"Number in {label}: {len(group)}\")\n",
    "    else:\n",
    "        print(f\"{label}: No events\")"
   ]
  },
  {
   "cell_type": "code",
   "execution_count": 58,
   "id": "36d4623f-03b4-4b00-8aec-ee0a76132a1d",
   "metadata": {},
   "outputs": [
    {
     "name": "stdout",
     "output_type": "stream",
     "text": [
      "Num events: 878\n",
      "Days until death: 5612.15 ± 2154.89\n",
      "Female: 5871.24 ± 2008.03\n",
      "Number in Female: 376\n",
      "Male: 5418.09 ± 2241.05\n",
      "Number in Male: 502\n"
     ]
    }
   ],
   "source": [
    "# Stats for PIDs with date of death \n",
    "dod = final_df[final_df[\"days_psg_to_death\"].notna()].copy()\n",
    "print(\"Num events:\", len(dod))\n",
    "\n",
    "print(f\"Days until death: {dod['days_psg_to_death'].mean().round(2)} ± {round(dod['days_psg_to_death'].std(), 2)}\")\n",
    "\n",
    "for label, value in [(\"Female\", 1), (\"Male\", 0)]:\n",
    "    group = dod[dod[\"sex\"] == value]\n",
    "    if not group.empty:\n",
    "        mean_val = round(group[\"days_psg_to_death\"].mean(), 2)\n",
    "        std_val = round(group[\"days_psg_to_death\"].std(), 2)\n",
    "        print(f\"{label}: {mean_val} ± {std_val}\")\n",
    "        print(f\"Number in {label}: {len(group)}\")\n",
    "    else:\n",
    "        print(f\"{label}: No events\")\n"
   ]
  },
  {
   "cell_type": "code",
   "execution_count": 59,
   "id": "bb89f4b8-4072-4d03-8566-34444a2746d7",
   "metadata": {},
   "outputs": [
    {
     "name": "stdout",
     "output_type": "stream",
     "text": [
      "Num events: 303\n",
      "Days from dem diagnosis to death: 1094.03 ± 1069.57\n",
      "Female: 1219.12 ± 1150.14\n",
      "Number in Female: 155\n",
      "Male: 963.02 ± 964.68\n",
      "Number in Male: 148\n"
     ]
    }
   ],
   "source": [
    "# Stats for dementia diagnosis to DoD\n",
    "dementia_dod = final_df[final_df[\"days_psg_to_death\"].notna() & final_df[\"dementia_event\"]==1].copy()\n",
    "print(\"Num events:\", len(dementia_dod))\n",
    "\n",
    "dementia_dod[\"dementia_to_dod\"] = dementia_dod[\"days_psg_to_death\"] - dementia_dod[\"days_psg_to_dementia\"]\n",
    "\n",
    "print(f\"Days from dem diagnosis to death: {dementia_dod['dementia_to_dod'].mean().round(2)} ± {round(dementia_dod['dementia_to_dod'].std(), 2)}\")\n",
    "\n",
    "for label, value in [(\"Female\", 1), (\"Male\", 0)]:\n",
    "    group = dementia_dod[dementia_dod[\"sex\"] == value]\n",
    "    if not group.empty:\n",
    "        mean_val = round(group[\"dementia_to_dod\"].mean(), 2)\n",
    "        std_val = round(group[\"dementia_to_dod\"].std(), 2)\n",
    "        print(f\"{label}: {mean_val} ± {std_val}\")\n",
    "        print(f\"Number in {label}: {len(group)}\")\n",
    "    else:\n",
    "        print(f\"{label}: No events\")\n"
   ]
  }
 ],
 "metadata": {
  "kernelspec": {
   "display_name": "Python 3 (ipykernel)",
   "language": "python",
   "name": "python3"
  },
  "language_info": {
   "codemirror_mode": {
    "name": "ipython",
    "version": 3
   },
   "file_extension": ".py",
   "mimetype": "text/x-python",
   "name": "python",
   "nbconvert_exporter": "python",
   "pygments_lexer": "ipython3",
   "version": "3.12.7"
  }
 },
 "nbformat": 4,
 "nbformat_minor": 5
}
