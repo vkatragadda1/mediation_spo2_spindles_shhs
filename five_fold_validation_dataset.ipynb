{
 "cells": [
  {
   "cell_type": "markdown",
   "id": "0848acd4-5d55-4f98-b62d-85cd0bff94ea",
   "metadata": {},
   "source": [
    "## Five-Fold Generalizability Dataset \n",
    "Generates dataset with each participant sorted into a fold. Each fold contains approximately 19.5% of all dementia cases. Demographic balance is also verified between folds."
   ]
  },
  {
   "cell_type": "code",
   "execution_count": 1,
   "id": "63913513-7e69-4357-ae33-0d373220478c",
   "metadata": {},
   "outputs": [
    {
     "name": "stdout",
     "output_type": "stream",
     "text": [
      "Dementia Counts\n",
      "fold  dementia_event\n",
      "0.0   0                 0.804938\n",
      "      1                 0.195062\n",
      "1.0   0                 0.804938\n",
      "      1                 0.195062\n",
      "2.0   0                 0.804938\n",
      "      1                 0.195062\n",
      "3.0   0                 0.806931\n",
      "      1                 0.193069\n",
      "4.0   0                 0.804455\n",
      "      1                 0.195545\n",
      "Name: proportion, dtype: float64 \n",
      "\n",
      "Tier 1 Covariates \n",
      "             age       sex        bmi\n",
      "fold                                \n",
      "0.0   61.649383  0.518519  28.862866\n",
      "1.0   61.125926  0.493827  28.524857\n",
      "2.0   61.239506  0.511111  28.626476\n",
      "3.0   61.933168  0.490099  28.697938\n",
      "4.0   61.480198  0.490099  28.629821 \n",
      "\n",
      "Tier 2 Covariates \n",
      "       broader_education  broader_smoking  broader_alcohol\n",
      "fold                                                     \n",
      "0.0            0.429630         0.083951         0.543210\n",
      "1.0            0.451852         0.118519         0.466667\n",
      "2.0            0.412346         0.125926         0.538272\n",
      "3.0            0.400990         0.106436         0.502475\n",
      "4.0            0.413366         0.086634         0.537129 \n",
      "\n",
      "Tier 3 Covariates \n",
      "       group1_med  group2_med\n",
      "fold                        \n",
      "0.0     0.079012    0.555556\n",
      "1.0     0.086420    0.545679\n",
      "2.0     0.074074    0.575309\n",
      "3.0     0.094059    0.589109\n",
      "4.0     0.084158    0.606436 \n",
      "\n",
      "Participant Value Counts (per fold) \n",
      "fold\n",
      "0.0    405\n",
      "1.0    405\n",
      "2.0    405\n",
      "3.0    404\n",
      "4.0    404\n",
      "Name: count, dtype: int64\n"
     ]
    }
   ],
   "source": [
    "# Load necessary packages \n",
    "import pandas as pd\n",
    "import numpy as np\n",
    "from sklearn.model_selection import StratifiedKFold\n",
    "\n",
    "# Load mediation dataset \n",
    "df = pd.read_csv(\"med_model_dataset_7.8.2025.csv\")\n",
    "\n",
    "# Initialize stratified folds and set random state for reproducibility \n",
    "skf = StratifiedKFold(n_splits=5, shuffle=True, random_state=42)\n",
    "\n",
    "# Create a column to store fold numbers to use in mediation itself \n",
    "df[\"fold\"] = np.nan\n",
    "\n",
    "# Stratify by dementia_event and save fold number in column \n",
    "for fold_idx, (_, val_idx) in enumerate(skf.split(df, df[\"dementia_event\"])):\n",
    "    df.loc[val_idx, \"fold\"] = fold_idx\n",
    "\n",
    "\n",
    "# Print demographics to verify balance \n",
    "print(f\"Dementia Counts\\n{df.groupby(\"fold\")[\"dementia_event\"].value_counts(normalize=True)} \\n\")\n",
    "print(f\"Tier 1 Covariates \\n {df.groupby(\"fold\")[[\"age\", \"sex\", \"bmi\"]].mean()} \\n\")\n",
    "print(f\"Tier 2 Covariates \\n {df.groupby(\"fold\")[[\"broader_education\", \"broader_smoking\", \"broader_alcohol\"]].mean()} \\n\")\n",
    "print(f\"Tier 3 Covariates \\n {df.groupby(\"fold\")[[\"group1_med\", \"group2_med\"]].mean()} \\n\")\n",
    "print(f\"Participant Value Counts (per fold) \\n{df[\"fold\"].value_counts().sort_index()}\")"
   ]
  },
  {
   "cell_type": "code",
   "execution_count": 2,
   "id": "8623cbda-84a0-4f87-ae41-26c072b91ce9",
   "metadata": {},
   "outputs": [],
   "source": [
    "# Export stratified df to csv for mediation \n",
    "\n",
    "#df.to_csv(\"NAME FILE.csv\", index=False)"
   ]
  }
 ],
 "metadata": {
  "kernelspec": {
   "display_name": "Python 3 (ipykernel)",
   "language": "python",
   "name": "python3"
  },
  "language_info": {
   "codemirror_mode": {
    "name": "ipython",
    "version": 3
   },
   "file_extension": ".py",
   "mimetype": "text/x-python",
   "name": "python",
   "nbconvert_exporter": "python",
   "pygments_lexer": "ipython3",
   "version": "3.12.7"
  }
 },
 "nbformat": 4,
 "nbformat_minor": 5
}
